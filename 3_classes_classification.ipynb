{
  "nbformat": 4,
  "nbformat_minor": 0,
  "metadata": {
    "colab": {
      "provenance": [],
      "toc_visible": true,
      "include_colab_link": true
    },
    "kernelspec": {
      "name": "python3",
      "display_name": "Python 3"
    },
    "language_info": {
      "name": "python"
    }
  },
  "cells": [
    {
      "cell_type": "markdown",
      "metadata": {
        "id": "view-in-github",
        "colab_type": "text"
      },
      "source": [
        "<a href=\"https://colab.research.google.com/github/hosseinnasi/Environmental-Classification_ML/blob/main/3_classes_classification.ipynb\" target=\"_parent\"><img src=\"https://colab.research.google.com/assets/colab-badge.svg\" alt=\"Open In Colab\"/></a>"
      ]
    },
    {
      "cell_type": "code",
      "source": [
        "from google.colab import drive\n",
        "drive.mount('/content/drive')"
      ],
      "metadata": {
        "colab": {
          "base_uri": "https://localhost:8080/"
        },
        "id": "_ODVBDT_JAdd",
        "outputId": "8842a009-04e8-449b-f70a-fc083fa32e7c"
      },
      "execution_count": null,
      "outputs": [
        {
          "output_type": "stream",
          "name": "stdout",
          "text": [
            "Mounted at /content/drive\n"
          ]
        }
      ]
    },
    {
      "cell_type": "code",
      "source": [
        "import numpy as np\n",
        "import pandas as pd\n",
        "import matplotlib.pyplot as plt\n",
        "import scipy\n",
        "from sklearn.model_selection import train_test_split\n",
        "from sklearn import preprocessing\n",
        "from sklearn.preprocessing import OneHotEncoder\n",
        "import tensorflow as tf\n",
        "from tensorflow.keras.utils import to_categorical\n",
        "from tensorflow.keras.losses import categorical_crossentropy\n",
        "from tensorflow.keras.optimizers import Adam\n",
        "from sklearn import tree\n",
        "from sklearn.tree import DecisionTreeClassifier\n",
        "from sklearn.ensemble import RandomForestClassifier\n",
        "from joblib import dump, load\n",
        "from scipy.stats import mode\n",
        "from matplotlib.ticker import MaxNLocator"
      ],
      "metadata": {
        "id": "8u_lzLI5fiXk"
      },
      "execution_count": null,
      "outputs": []
    },
    {
      "cell_type": "code",
      "source": [
        "import sklearn\n",
        "print(sklearn.__version__)"
      ],
      "metadata": {
        "id": "3CFdklqqtg0b",
        "outputId": "2e1f4979-7b01-45f7-e39d-75bc56fd002a",
        "colab": {
          "base_uri": "https://localhost:8080/"
        }
      },
      "execution_count": null,
      "outputs": [
        {
          "output_type": "stream",
          "name": "stdout",
          "text": [
            "1.5.2\n"
          ]
        }
      ]
    },
    {
      "cell_type": "code",
      "source": [
        "df_ii = pd.read_csv('/content/drive/Shareddrives/Indoor_Outdoor_Classification_Paper/ii5.csv')\n",
        "df_ii=df_ii.iloc[:, 5:]\n",
        "\n",
        "#del df_ii['ver_acc']\n",
        "df_ii = df_ii.drop(columns=[col for col in df_ii.columns if \"6\" in col])\n",
        "df_ii = df_ii.drop(columns=[col for col in df_ii.columns if \"nr\" in col])\n",
        "#idx=[1,2,7,38]\n",
        "#df_ii=df_ii.iloc[:,idx]\n",
        "[a,b]=df_ii.shape\n",
        "print(b)\n",
        "df_ii.insert(b, \"classes\", np.ones(a), True)\n"
      ],
      "metadata": {
        "id": "pOd5lP9nmvC5",
        "colab": {
          "base_uri": "https://localhost:8080/"
        },
        "outputId": "ea992652-5ed8-4f76-889e-44e56d92a6df"
      },
      "execution_count": null,
      "outputs": [
        {
          "output_type": "stream",
          "name": "stdout",
          "text": [
            "40\n"
          ]
        }
      ]
    },
    {
      "cell_type": "code",
      "source": [
        "df_inw = pd.read_csv('/content/drive/Shareddrives/Indoor_Outdoor_Classification_Paper/inw5.csv')\n",
        "df_inw=df_inw.iloc[: ,5:]\n",
        "#del df_inw['ver_acc']\n",
        "df_inw = df_inw.drop(columns=[col for col in df_inw.columns if \"6\" in col])\n",
        "df_inw = df_inw.drop(columns=[col for col in df_inw.columns if \"nr\" in col])\n",
        "idx=[1,2,7,38]\n",
        "df_inw=df_inw.iloc[:,idx]\n",
        "\n",
        "[a,b]=df_inw.shape\n",
        "\n",
        "df_inw.insert(b, \"classes\",2*np.ones(a), True)\n"
      ],
      "metadata": {
        "id": "hT3EPTAjgdMP"
      },
      "execution_count": null,
      "outputs": []
    },
    {
      "cell_type": "code",
      "source": [
        "df_inw"
      ],
      "metadata": {
        "colab": {
          "base_uri": "https://localhost:8080/",
          "height": 424
        },
        "id": "7jWApfvYg7mB",
        "outputId": "9428f589-fd1b-469e-ad00-c2f0204f0bd6"
      },
      "execution_count": null,
      "outputs": [
        {
          "output_type": "execute_result",
          "data": {
            "text/plain": [
              "         hor_acc   ver_acc  num_of_wifi_5  max_of_wifi_5  classes\n",
              "0       9.988000  5.106248              3            -77      2.0\n",
              "1      10.255000  4.401061             11            -58      2.0\n",
              "2      10.255000  4.401061             10            -61      2.0\n",
              "3      10.255000  4.401061             11            -60      2.0\n",
              "4      10.255000  4.401061             10            -60      2.0\n",
              "...          ...       ...            ...            ...      ...\n",
              "20968  14.774000  1.004858             51            -51      2.0\n",
              "20969  15.094000  0.855869             57            -50      2.0\n",
              "20970  15.154000  0.853507             61            -50      2.0\n",
              "20971  15.100000  0.858457             56            -50      2.0\n",
              "20972  16.490999  0.840854             52            -50      2.0\n",
              "\n",
              "[20973 rows x 5 columns]"
            ],
            "text/html": [
              "\n",
              "  <div id=\"df-fd2fc645-19fc-4086-82ae-df701c6d20ac\" class=\"colab-df-container\">\n",
              "    <div>\n",
              "<style scoped>\n",
              "    .dataframe tbody tr th:only-of-type {\n",
              "        vertical-align: middle;\n",
              "    }\n",
              "\n",
              "    .dataframe tbody tr th {\n",
              "        vertical-align: top;\n",
              "    }\n",
              "\n",
              "    .dataframe thead th {\n",
              "        text-align: right;\n",
              "    }\n",
              "</style>\n",
              "<table border=\"1\" class=\"dataframe\">\n",
              "  <thead>\n",
              "    <tr style=\"text-align: right;\">\n",
              "      <th></th>\n",
              "      <th>hor_acc</th>\n",
              "      <th>ver_acc</th>\n",
              "      <th>num_of_wifi_5</th>\n",
              "      <th>max_of_wifi_5</th>\n",
              "      <th>classes</th>\n",
              "    </tr>\n",
              "  </thead>\n",
              "  <tbody>\n",
              "    <tr>\n",
              "      <th>0</th>\n",
              "      <td>9.988000</td>\n",
              "      <td>5.106248</td>\n",
              "      <td>3</td>\n",
              "      <td>-77</td>\n",
              "      <td>2.0</td>\n",
              "    </tr>\n",
              "    <tr>\n",
              "      <th>1</th>\n",
              "      <td>10.255000</td>\n",
              "      <td>4.401061</td>\n",
              "      <td>11</td>\n",
              "      <td>-58</td>\n",
              "      <td>2.0</td>\n",
              "    </tr>\n",
              "    <tr>\n",
              "      <th>2</th>\n",
              "      <td>10.255000</td>\n",
              "      <td>4.401061</td>\n",
              "      <td>10</td>\n",
              "      <td>-61</td>\n",
              "      <td>2.0</td>\n",
              "    </tr>\n",
              "    <tr>\n",
              "      <th>3</th>\n",
              "      <td>10.255000</td>\n",
              "      <td>4.401061</td>\n",
              "      <td>11</td>\n",
              "      <td>-60</td>\n",
              "      <td>2.0</td>\n",
              "    </tr>\n",
              "    <tr>\n",
              "      <th>4</th>\n",
              "      <td>10.255000</td>\n",
              "      <td>4.401061</td>\n",
              "      <td>10</td>\n",
              "      <td>-60</td>\n",
              "      <td>2.0</td>\n",
              "    </tr>\n",
              "    <tr>\n",
              "      <th>...</th>\n",
              "      <td>...</td>\n",
              "      <td>...</td>\n",
              "      <td>...</td>\n",
              "      <td>...</td>\n",
              "      <td>...</td>\n",
              "    </tr>\n",
              "    <tr>\n",
              "      <th>20968</th>\n",
              "      <td>14.774000</td>\n",
              "      <td>1.004858</td>\n",
              "      <td>51</td>\n",
              "      <td>-51</td>\n",
              "      <td>2.0</td>\n",
              "    </tr>\n",
              "    <tr>\n",
              "      <th>20969</th>\n",
              "      <td>15.094000</td>\n",
              "      <td>0.855869</td>\n",
              "      <td>57</td>\n",
              "      <td>-50</td>\n",
              "      <td>2.0</td>\n",
              "    </tr>\n",
              "    <tr>\n",
              "      <th>20970</th>\n",
              "      <td>15.154000</td>\n",
              "      <td>0.853507</td>\n",
              "      <td>61</td>\n",
              "      <td>-50</td>\n",
              "      <td>2.0</td>\n",
              "    </tr>\n",
              "    <tr>\n",
              "      <th>20971</th>\n",
              "      <td>15.100000</td>\n",
              "      <td>0.858457</td>\n",
              "      <td>56</td>\n",
              "      <td>-50</td>\n",
              "      <td>2.0</td>\n",
              "    </tr>\n",
              "    <tr>\n",
              "      <th>20972</th>\n",
              "      <td>16.490999</td>\n",
              "      <td>0.840854</td>\n",
              "      <td>52</td>\n",
              "      <td>-50</td>\n",
              "      <td>2.0</td>\n",
              "    </tr>\n",
              "  </tbody>\n",
              "</table>\n",
              "<p>20973 rows × 5 columns</p>\n",
              "</div>\n",
              "    <div class=\"colab-df-buttons\">\n",
              "\n",
              "  <div class=\"colab-df-container\">\n",
              "    <button class=\"colab-df-convert\" onclick=\"convertToInteractive('df-fd2fc645-19fc-4086-82ae-df701c6d20ac')\"\n",
              "            title=\"Convert this dataframe to an interactive table.\"\n",
              "            style=\"display:none;\">\n",
              "\n",
              "  <svg xmlns=\"http://www.w3.org/2000/svg\" height=\"24px\" viewBox=\"0 -960 960 960\">\n",
              "    <path d=\"M120-120v-720h720v720H120Zm60-500h600v-160H180v160Zm220 220h160v-160H400v160Zm0 220h160v-160H400v160ZM180-400h160v-160H180v160Zm440 0h160v-160H620v160ZM180-180h160v-160H180v160Zm440 0h160v-160H620v160Z\"/>\n",
              "  </svg>\n",
              "    </button>\n",
              "\n",
              "  <style>\n",
              "    .colab-df-container {\n",
              "      display:flex;\n",
              "      gap: 12px;\n",
              "    }\n",
              "\n",
              "    .colab-df-convert {\n",
              "      background-color: #E8F0FE;\n",
              "      border: none;\n",
              "      border-radius: 50%;\n",
              "      cursor: pointer;\n",
              "      display: none;\n",
              "      fill: #1967D2;\n",
              "      height: 32px;\n",
              "      padding: 0 0 0 0;\n",
              "      width: 32px;\n",
              "    }\n",
              "\n",
              "    .colab-df-convert:hover {\n",
              "      background-color: #E2EBFA;\n",
              "      box-shadow: 0px 1px 2px rgba(60, 64, 67, 0.3), 0px 1px 3px 1px rgba(60, 64, 67, 0.15);\n",
              "      fill: #174EA6;\n",
              "    }\n",
              "\n",
              "    .colab-df-buttons div {\n",
              "      margin-bottom: 4px;\n",
              "    }\n",
              "\n",
              "    [theme=dark] .colab-df-convert {\n",
              "      background-color: #3B4455;\n",
              "      fill: #D2E3FC;\n",
              "    }\n",
              "\n",
              "    [theme=dark] .colab-df-convert:hover {\n",
              "      background-color: #434B5C;\n",
              "      box-shadow: 0px 1px 3px 1px rgba(0, 0, 0, 0.15);\n",
              "      filter: drop-shadow(0px 1px 2px rgba(0, 0, 0, 0.3));\n",
              "      fill: #FFFFFF;\n",
              "    }\n",
              "  </style>\n",
              "\n",
              "    <script>\n",
              "      const buttonEl =\n",
              "        document.querySelector('#df-fd2fc645-19fc-4086-82ae-df701c6d20ac button.colab-df-convert');\n",
              "      buttonEl.style.display =\n",
              "        google.colab.kernel.accessAllowed ? 'block' : 'none';\n",
              "\n",
              "      async function convertToInteractive(key) {\n",
              "        const element = document.querySelector('#df-fd2fc645-19fc-4086-82ae-df701c6d20ac');\n",
              "        const dataTable =\n",
              "          await google.colab.kernel.invokeFunction('convertToInteractive',\n",
              "                                                    [key], {});\n",
              "        if (!dataTable) return;\n",
              "\n",
              "        const docLinkHtml = 'Like what you see? Visit the ' +\n",
              "          '<a target=\"_blank\" href=https://colab.research.google.com/notebooks/data_table.ipynb>data table notebook</a>'\n",
              "          + ' to learn more about interactive tables.';\n",
              "        element.innerHTML = '';\n",
              "        dataTable['output_type'] = 'display_data';\n",
              "        await google.colab.output.renderOutput(dataTable, element);\n",
              "        const docLink = document.createElement('div');\n",
              "        docLink.innerHTML = docLinkHtml;\n",
              "        element.appendChild(docLink);\n",
              "      }\n",
              "    </script>\n",
              "  </div>\n",
              "\n",
              "\n",
              "<div id=\"df-07789f63-2343-47bb-ba5b-62b556af06a3\">\n",
              "  <button class=\"colab-df-quickchart\" onclick=\"quickchart('df-07789f63-2343-47bb-ba5b-62b556af06a3')\"\n",
              "            title=\"Suggest charts\"\n",
              "            style=\"display:none;\">\n",
              "\n",
              "<svg xmlns=\"http://www.w3.org/2000/svg\" height=\"24px\"viewBox=\"0 0 24 24\"\n",
              "     width=\"24px\">\n",
              "    <g>\n",
              "        <path d=\"M19 3H5c-1.1 0-2 .9-2 2v14c0 1.1.9 2 2 2h14c1.1 0 2-.9 2-2V5c0-1.1-.9-2-2-2zM9 17H7v-7h2v7zm4 0h-2V7h2v10zm4 0h-2v-4h2v4z\"/>\n",
              "    </g>\n",
              "</svg>\n",
              "  </button>\n",
              "\n",
              "<style>\n",
              "  .colab-df-quickchart {\n",
              "      --bg-color: #E8F0FE;\n",
              "      --fill-color: #1967D2;\n",
              "      --hover-bg-color: #E2EBFA;\n",
              "      --hover-fill-color: #174EA6;\n",
              "      --disabled-fill-color: #AAA;\n",
              "      --disabled-bg-color: #DDD;\n",
              "  }\n",
              "\n",
              "  [theme=dark] .colab-df-quickchart {\n",
              "      --bg-color: #3B4455;\n",
              "      --fill-color: #D2E3FC;\n",
              "      --hover-bg-color: #434B5C;\n",
              "      --hover-fill-color: #FFFFFF;\n",
              "      --disabled-bg-color: #3B4455;\n",
              "      --disabled-fill-color: #666;\n",
              "  }\n",
              "\n",
              "  .colab-df-quickchart {\n",
              "    background-color: var(--bg-color);\n",
              "    border: none;\n",
              "    border-radius: 50%;\n",
              "    cursor: pointer;\n",
              "    display: none;\n",
              "    fill: var(--fill-color);\n",
              "    height: 32px;\n",
              "    padding: 0;\n",
              "    width: 32px;\n",
              "  }\n",
              "\n",
              "  .colab-df-quickchart:hover {\n",
              "    background-color: var(--hover-bg-color);\n",
              "    box-shadow: 0 1px 2px rgba(60, 64, 67, 0.3), 0 1px 3px 1px rgba(60, 64, 67, 0.15);\n",
              "    fill: var(--button-hover-fill-color);\n",
              "  }\n",
              "\n",
              "  .colab-df-quickchart-complete:disabled,\n",
              "  .colab-df-quickchart-complete:disabled:hover {\n",
              "    background-color: var(--disabled-bg-color);\n",
              "    fill: var(--disabled-fill-color);\n",
              "    box-shadow: none;\n",
              "  }\n",
              "\n",
              "  .colab-df-spinner {\n",
              "    border: 2px solid var(--fill-color);\n",
              "    border-color: transparent;\n",
              "    border-bottom-color: var(--fill-color);\n",
              "    animation:\n",
              "      spin 1s steps(1) infinite;\n",
              "  }\n",
              "\n",
              "  @keyframes spin {\n",
              "    0% {\n",
              "      border-color: transparent;\n",
              "      border-bottom-color: var(--fill-color);\n",
              "      border-left-color: var(--fill-color);\n",
              "    }\n",
              "    20% {\n",
              "      border-color: transparent;\n",
              "      border-left-color: var(--fill-color);\n",
              "      border-top-color: var(--fill-color);\n",
              "    }\n",
              "    30% {\n",
              "      border-color: transparent;\n",
              "      border-left-color: var(--fill-color);\n",
              "      border-top-color: var(--fill-color);\n",
              "      border-right-color: var(--fill-color);\n",
              "    }\n",
              "    40% {\n",
              "      border-color: transparent;\n",
              "      border-right-color: var(--fill-color);\n",
              "      border-top-color: var(--fill-color);\n",
              "    }\n",
              "    60% {\n",
              "      border-color: transparent;\n",
              "      border-right-color: var(--fill-color);\n",
              "    }\n",
              "    80% {\n",
              "      border-color: transparent;\n",
              "      border-right-color: var(--fill-color);\n",
              "      border-bottom-color: var(--fill-color);\n",
              "    }\n",
              "    90% {\n",
              "      border-color: transparent;\n",
              "      border-bottom-color: var(--fill-color);\n",
              "    }\n",
              "  }\n",
              "</style>\n",
              "\n",
              "  <script>\n",
              "    async function quickchart(key) {\n",
              "      const quickchartButtonEl =\n",
              "        document.querySelector('#' + key + ' button');\n",
              "      quickchartButtonEl.disabled = true;  // To prevent multiple clicks.\n",
              "      quickchartButtonEl.classList.add('colab-df-spinner');\n",
              "      try {\n",
              "        const charts = await google.colab.kernel.invokeFunction(\n",
              "            'suggestCharts', [key], {});\n",
              "      } catch (error) {\n",
              "        console.error('Error during call to suggestCharts:', error);\n",
              "      }\n",
              "      quickchartButtonEl.classList.remove('colab-df-spinner');\n",
              "      quickchartButtonEl.classList.add('colab-df-quickchart-complete');\n",
              "    }\n",
              "    (() => {\n",
              "      let quickchartButtonEl =\n",
              "        document.querySelector('#df-07789f63-2343-47bb-ba5b-62b556af06a3 button');\n",
              "      quickchartButtonEl.style.display =\n",
              "        google.colab.kernel.accessAllowed ? 'block' : 'none';\n",
              "    })();\n",
              "  </script>\n",
              "</div>\n",
              "\n",
              "  <div id=\"id_5350c4c5-7e3f-49a5-871b-8185d7beed22\">\n",
              "    <style>\n",
              "      .colab-df-generate {\n",
              "        background-color: #E8F0FE;\n",
              "        border: none;\n",
              "        border-radius: 50%;\n",
              "        cursor: pointer;\n",
              "        display: none;\n",
              "        fill: #1967D2;\n",
              "        height: 32px;\n",
              "        padding: 0 0 0 0;\n",
              "        width: 32px;\n",
              "      }\n",
              "\n",
              "      .colab-df-generate:hover {\n",
              "        background-color: #E2EBFA;\n",
              "        box-shadow: 0px 1px 2px rgba(60, 64, 67, 0.3), 0px 1px 3px 1px rgba(60, 64, 67, 0.15);\n",
              "        fill: #174EA6;\n",
              "      }\n",
              "\n",
              "      [theme=dark] .colab-df-generate {\n",
              "        background-color: #3B4455;\n",
              "        fill: #D2E3FC;\n",
              "      }\n",
              "\n",
              "      [theme=dark] .colab-df-generate:hover {\n",
              "        background-color: #434B5C;\n",
              "        box-shadow: 0px 1px 3px 1px rgba(0, 0, 0, 0.15);\n",
              "        filter: drop-shadow(0px 1px 2px rgba(0, 0, 0, 0.3));\n",
              "        fill: #FFFFFF;\n",
              "      }\n",
              "    </style>\n",
              "    <button class=\"colab-df-generate\" onclick=\"generateWithVariable('df_inw')\"\n",
              "            title=\"Generate code using this dataframe.\"\n",
              "            style=\"display:none;\">\n",
              "\n",
              "  <svg xmlns=\"http://www.w3.org/2000/svg\" height=\"24px\"viewBox=\"0 0 24 24\"\n",
              "       width=\"24px\">\n",
              "    <path d=\"M7,19H8.4L18.45,9,17,7.55,7,17.6ZM5,21V16.75L18.45,3.32a2,2,0,0,1,2.83,0l1.4,1.43a1.91,1.91,0,0,1,.58,1.4,1.91,1.91,0,0,1-.58,1.4L9.25,21ZM18.45,9,17,7.55Zm-12,3A5.31,5.31,0,0,0,4.9,8.1,5.31,5.31,0,0,0,1,6.5,5.31,5.31,0,0,0,4.9,4.9,5.31,5.31,0,0,0,6.5,1,5.31,5.31,0,0,0,8.1,4.9,5.31,5.31,0,0,0,12,6.5,5.46,5.46,0,0,0,6.5,12Z\"/>\n",
              "  </svg>\n",
              "    </button>\n",
              "    <script>\n",
              "      (() => {\n",
              "      const buttonEl =\n",
              "        document.querySelector('#id_5350c4c5-7e3f-49a5-871b-8185d7beed22 button.colab-df-generate');\n",
              "      buttonEl.style.display =\n",
              "        google.colab.kernel.accessAllowed ? 'block' : 'none';\n",
              "\n",
              "      buttonEl.onclick = () => {\n",
              "        google.colab.notebook.generateWithVariable('df_inw');\n",
              "      }\n",
              "      })();\n",
              "    </script>\n",
              "  </div>\n",
              "\n",
              "    </div>\n",
              "  </div>\n"
            ],
            "application/vnd.google.colaboratory.intrinsic+json": {
              "type": "dataframe",
              "variable_name": "df_inw",
              "summary": "{\n  \"name\": \"df_inw\",\n  \"rows\": 20973,\n  \"fields\": [\n    {\n      \"column\": \"hor_acc\",\n      \"properties\": {\n        \"dtype\": \"number\",\n        \"std\": 26.16400349133313,\n        \"min\": 3.78999996185303,\n        \"max\": 394.894989013672,\n        \"num_unique_values\": 10619,\n        \"samples\": [\n          30.5130004882812,\n          11.8369998931885,\n          16.6079998016357\n        ],\n        \"semantic_type\": \"\",\n        \"description\": \"\"\n      }\n    },\n    {\n      \"column\": \"ver_acc\",\n      \"properties\": {\n        \"dtype\": \"number\",\n        \"std\": 5.128975328012428,\n        \"min\": 0.800000011920929,\n        \"max\": 100.0,\n        \"num_unique_values\": 16100,\n        \"samples\": [\n          1.03264892101288,\n          0.801246285438538,\n          0.814320743083954\n        ],\n        \"semantic_type\": \"\",\n        \"description\": \"\"\n      }\n    },\n    {\n      \"column\": \"num_of_wifi_5\",\n      \"properties\": {\n        \"dtype\": \"number\",\n        \"std\": 16,\n        \"min\": 1,\n        \"max\": 75,\n        \"num_unique_values\": 74,\n        \"samples\": [\n          12,\n          41,\n          18\n        ],\n        \"semantic_type\": \"\",\n        \"description\": \"\"\n      }\n    },\n    {\n      \"column\": \"max_of_wifi_5\",\n      \"properties\": {\n        \"dtype\": \"number\",\n        \"std\": 8,\n        \"min\": -87,\n        \"max\": -39,\n        \"num_unique_values\": 49,\n        \"samples\": [\n          -62,\n          -86,\n          -87\n        ],\n        \"semantic_type\": \"\",\n        \"description\": \"\"\n      }\n    },\n    {\n      \"column\": \"classes\",\n      \"properties\": {\n        \"dtype\": \"number\",\n        \"std\": 0.0,\n        \"min\": 2.0,\n        \"max\": 2.0,\n        \"num_unique_values\": 1,\n        \"samples\": [\n          2.0\n        ],\n        \"semantic_type\": \"\",\n        \"description\": \"\"\n      }\n    }\n  ]\n}"
            }
          },
          "metadata": {},
          "execution_count": 41
        }
      ]
    },
    {
      "cell_type": "code",
      "source": [
        "df_o = pd.read_csv('/content/drive/Shareddrives/Indoor_Outdoor_Classification_Paper/o5.csv')\n",
        "df_o=df_o.iloc[:, 5:]\n",
        "#del df_o['ver_acc']\n",
        "df_o = df_o.drop(columns=[col for col in df_o.columns if \"6\" in col])\n",
        "df_o = df_o.drop(columns=[col for col in df_o.columns if \"nr\" in col])\n",
        "idx=[1,2,7,38]\n",
        "df_o=df_o.iloc[:,idx]\n",
        "[a,b]=df_o.shape\n",
        "df_o.insert(b, \"classes\", 0*np.ones(a), True)"
      ],
      "metadata": {
        "id": "GjzBo8Hfg_JQ"
      },
      "execution_count": null,
      "outputs": []
    },
    {
      "cell_type": "code",
      "source": [
        "frames2=[df_o,df_ii,df_inw]\n",
        "res=pd.concat(frames2)\n"
      ],
      "metadata": {
        "id": "7Ov-bgq9hFGb"
      },
      "execution_count": null,
      "outputs": []
    },
    {
      "cell_type": "code",
      "source": [
        "df_o"
      ],
      "metadata": {
        "id": "77VdyxWGhkAw",
        "colab": {
          "base_uri": "https://localhost:8080/",
          "height": 424
        },
        "outputId": "f8090dbf-9290-43d6-97ea-2b92744ed54a"
      },
      "execution_count": null,
      "outputs": [
        {
          "output_type": "execute_result",
          "data": {
            "text/plain": [
              "         hor_acc   ver_acc  num_of_wifi_5  max_of_wifi_5  classes\n",
              "0      25.037201  4.706333              8            -68      0.0\n",
              "1      25.037201  4.706333             16            -66      0.0\n",
              "2      25.037201  4.706333             16            -66      0.0\n",
              "3      10.913000  3.124382             10            -72      0.0\n",
              "4      10.913000  3.124382              7            -70      0.0\n",
              "...          ...       ...            ...            ...      ...\n",
              "24174   9.733000  5.345576             22            -67      0.0\n",
              "24175  11.776000  5.181417             27            -76      0.0\n",
              "24176  10.919000  4.327236             27            -76      0.0\n",
              "24177   7.325000  3.366784             27            -76      0.0\n",
              "24178   6.492000  4.070926             27            -76      0.0\n",
              "\n",
              "[24179 rows x 5 columns]"
            ],
            "text/html": [
              "\n",
              "  <div id=\"df-a43e487d-187a-4ca5-9615-8a0f53f6bd52\" class=\"colab-df-container\">\n",
              "    <div>\n",
              "<style scoped>\n",
              "    .dataframe tbody tr th:only-of-type {\n",
              "        vertical-align: middle;\n",
              "    }\n",
              "\n",
              "    .dataframe tbody tr th {\n",
              "        vertical-align: top;\n",
              "    }\n",
              "\n",
              "    .dataframe thead th {\n",
              "        text-align: right;\n",
              "    }\n",
              "</style>\n",
              "<table border=\"1\" class=\"dataframe\">\n",
              "  <thead>\n",
              "    <tr style=\"text-align: right;\">\n",
              "      <th></th>\n",
              "      <th>hor_acc</th>\n",
              "      <th>ver_acc</th>\n",
              "      <th>num_of_wifi_5</th>\n",
              "      <th>max_of_wifi_5</th>\n",
              "      <th>classes</th>\n",
              "    </tr>\n",
              "  </thead>\n",
              "  <tbody>\n",
              "    <tr>\n",
              "      <th>0</th>\n",
              "      <td>25.037201</td>\n",
              "      <td>4.706333</td>\n",
              "      <td>8</td>\n",
              "      <td>-68</td>\n",
              "      <td>0.0</td>\n",
              "    </tr>\n",
              "    <tr>\n",
              "      <th>1</th>\n",
              "      <td>25.037201</td>\n",
              "      <td>4.706333</td>\n",
              "      <td>16</td>\n",
              "      <td>-66</td>\n",
              "      <td>0.0</td>\n",
              "    </tr>\n",
              "    <tr>\n",
              "      <th>2</th>\n",
              "      <td>25.037201</td>\n",
              "      <td>4.706333</td>\n",
              "      <td>16</td>\n",
              "      <td>-66</td>\n",
              "      <td>0.0</td>\n",
              "    </tr>\n",
              "    <tr>\n",
              "      <th>3</th>\n",
              "      <td>10.913000</td>\n",
              "      <td>3.124382</td>\n",
              "      <td>10</td>\n",
              "      <td>-72</td>\n",
              "      <td>0.0</td>\n",
              "    </tr>\n",
              "    <tr>\n",
              "      <th>4</th>\n",
              "      <td>10.913000</td>\n",
              "      <td>3.124382</td>\n",
              "      <td>7</td>\n",
              "      <td>-70</td>\n",
              "      <td>0.0</td>\n",
              "    </tr>\n",
              "    <tr>\n",
              "      <th>...</th>\n",
              "      <td>...</td>\n",
              "      <td>...</td>\n",
              "      <td>...</td>\n",
              "      <td>...</td>\n",
              "      <td>...</td>\n",
              "    </tr>\n",
              "    <tr>\n",
              "      <th>24174</th>\n",
              "      <td>9.733000</td>\n",
              "      <td>5.345576</td>\n",
              "      <td>22</td>\n",
              "      <td>-67</td>\n",
              "      <td>0.0</td>\n",
              "    </tr>\n",
              "    <tr>\n",
              "      <th>24175</th>\n",
              "      <td>11.776000</td>\n",
              "      <td>5.181417</td>\n",
              "      <td>27</td>\n",
              "      <td>-76</td>\n",
              "      <td>0.0</td>\n",
              "    </tr>\n",
              "    <tr>\n",
              "      <th>24176</th>\n",
              "      <td>10.919000</td>\n",
              "      <td>4.327236</td>\n",
              "      <td>27</td>\n",
              "      <td>-76</td>\n",
              "      <td>0.0</td>\n",
              "    </tr>\n",
              "    <tr>\n",
              "      <th>24177</th>\n",
              "      <td>7.325000</td>\n",
              "      <td>3.366784</td>\n",
              "      <td>27</td>\n",
              "      <td>-76</td>\n",
              "      <td>0.0</td>\n",
              "    </tr>\n",
              "    <tr>\n",
              "      <th>24178</th>\n",
              "      <td>6.492000</td>\n",
              "      <td>4.070926</td>\n",
              "      <td>27</td>\n",
              "      <td>-76</td>\n",
              "      <td>0.0</td>\n",
              "    </tr>\n",
              "  </tbody>\n",
              "</table>\n",
              "<p>24179 rows × 5 columns</p>\n",
              "</div>\n",
              "    <div class=\"colab-df-buttons\">\n",
              "\n",
              "  <div class=\"colab-df-container\">\n",
              "    <button class=\"colab-df-convert\" onclick=\"convertToInteractive('df-a43e487d-187a-4ca5-9615-8a0f53f6bd52')\"\n",
              "            title=\"Convert this dataframe to an interactive table.\"\n",
              "            style=\"display:none;\">\n",
              "\n",
              "  <svg xmlns=\"http://www.w3.org/2000/svg\" height=\"24px\" viewBox=\"0 -960 960 960\">\n",
              "    <path d=\"M120-120v-720h720v720H120Zm60-500h600v-160H180v160Zm220 220h160v-160H400v160Zm0 220h160v-160H400v160ZM180-400h160v-160H180v160Zm440 0h160v-160H620v160ZM180-180h160v-160H180v160Zm440 0h160v-160H620v160Z\"/>\n",
              "  </svg>\n",
              "    </button>\n",
              "\n",
              "  <style>\n",
              "    .colab-df-container {\n",
              "      display:flex;\n",
              "      gap: 12px;\n",
              "    }\n",
              "\n",
              "    .colab-df-convert {\n",
              "      background-color: #E8F0FE;\n",
              "      border: none;\n",
              "      border-radius: 50%;\n",
              "      cursor: pointer;\n",
              "      display: none;\n",
              "      fill: #1967D2;\n",
              "      height: 32px;\n",
              "      padding: 0 0 0 0;\n",
              "      width: 32px;\n",
              "    }\n",
              "\n",
              "    .colab-df-convert:hover {\n",
              "      background-color: #E2EBFA;\n",
              "      box-shadow: 0px 1px 2px rgba(60, 64, 67, 0.3), 0px 1px 3px 1px rgba(60, 64, 67, 0.15);\n",
              "      fill: #174EA6;\n",
              "    }\n",
              "\n",
              "    .colab-df-buttons div {\n",
              "      margin-bottom: 4px;\n",
              "    }\n",
              "\n",
              "    [theme=dark] .colab-df-convert {\n",
              "      background-color: #3B4455;\n",
              "      fill: #D2E3FC;\n",
              "    }\n",
              "\n",
              "    [theme=dark] .colab-df-convert:hover {\n",
              "      background-color: #434B5C;\n",
              "      box-shadow: 0px 1px 3px 1px rgba(0, 0, 0, 0.15);\n",
              "      filter: drop-shadow(0px 1px 2px rgba(0, 0, 0, 0.3));\n",
              "      fill: #FFFFFF;\n",
              "    }\n",
              "  </style>\n",
              "\n",
              "    <script>\n",
              "      const buttonEl =\n",
              "        document.querySelector('#df-a43e487d-187a-4ca5-9615-8a0f53f6bd52 button.colab-df-convert');\n",
              "      buttonEl.style.display =\n",
              "        google.colab.kernel.accessAllowed ? 'block' : 'none';\n",
              "\n",
              "      async function convertToInteractive(key) {\n",
              "        const element = document.querySelector('#df-a43e487d-187a-4ca5-9615-8a0f53f6bd52');\n",
              "        const dataTable =\n",
              "          await google.colab.kernel.invokeFunction('convertToInteractive',\n",
              "                                                    [key], {});\n",
              "        if (!dataTable) return;\n",
              "\n",
              "        const docLinkHtml = 'Like what you see? Visit the ' +\n",
              "          '<a target=\"_blank\" href=https://colab.research.google.com/notebooks/data_table.ipynb>data table notebook</a>'\n",
              "          + ' to learn more about interactive tables.';\n",
              "        element.innerHTML = '';\n",
              "        dataTable['output_type'] = 'display_data';\n",
              "        await google.colab.output.renderOutput(dataTable, element);\n",
              "        const docLink = document.createElement('div');\n",
              "        docLink.innerHTML = docLinkHtml;\n",
              "        element.appendChild(docLink);\n",
              "      }\n",
              "    </script>\n",
              "  </div>\n",
              "\n",
              "\n",
              "<div id=\"df-badf4717-e4f4-4b05-a900-ee363ef40fa6\">\n",
              "  <button class=\"colab-df-quickchart\" onclick=\"quickchart('df-badf4717-e4f4-4b05-a900-ee363ef40fa6')\"\n",
              "            title=\"Suggest charts\"\n",
              "            style=\"display:none;\">\n",
              "\n",
              "<svg xmlns=\"http://www.w3.org/2000/svg\" height=\"24px\"viewBox=\"0 0 24 24\"\n",
              "     width=\"24px\">\n",
              "    <g>\n",
              "        <path d=\"M19 3H5c-1.1 0-2 .9-2 2v14c0 1.1.9 2 2 2h14c1.1 0 2-.9 2-2V5c0-1.1-.9-2-2-2zM9 17H7v-7h2v7zm4 0h-2V7h2v10zm4 0h-2v-4h2v4z\"/>\n",
              "    </g>\n",
              "</svg>\n",
              "  </button>\n",
              "\n",
              "<style>\n",
              "  .colab-df-quickchart {\n",
              "      --bg-color: #E8F0FE;\n",
              "      --fill-color: #1967D2;\n",
              "      --hover-bg-color: #E2EBFA;\n",
              "      --hover-fill-color: #174EA6;\n",
              "      --disabled-fill-color: #AAA;\n",
              "      --disabled-bg-color: #DDD;\n",
              "  }\n",
              "\n",
              "  [theme=dark] .colab-df-quickchart {\n",
              "      --bg-color: #3B4455;\n",
              "      --fill-color: #D2E3FC;\n",
              "      --hover-bg-color: #434B5C;\n",
              "      --hover-fill-color: #FFFFFF;\n",
              "      --disabled-bg-color: #3B4455;\n",
              "      --disabled-fill-color: #666;\n",
              "  }\n",
              "\n",
              "  .colab-df-quickchart {\n",
              "    background-color: var(--bg-color);\n",
              "    border: none;\n",
              "    border-radius: 50%;\n",
              "    cursor: pointer;\n",
              "    display: none;\n",
              "    fill: var(--fill-color);\n",
              "    height: 32px;\n",
              "    padding: 0;\n",
              "    width: 32px;\n",
              "  }\n",
              "\n",
              "  .colab-df-quickchart:hover {\n",
              "    background-color: var(--hover-bg-color);\n",
              "    box-shadow: 0 1px 2px rgba(60, 64, 67, 0.3), 0 1px 3px 1px rgba(60, 64, 67, 0.15);\n",
              "    fill: var(--button-hover-fill-color);\n",
              "  }\n",
              "\n",
              "  .colab-df-quickchart-complete:disabled,\n",
              "  .colab-df-quickchart-complete:disabled:hover {\n",
              "    background-color: var(--disabled-bg-color);\n",
              "    fill: var(--disabled-fill-color);\n",
              "    box-shadow: none;\n",
              "  }\n",
              "\n",
              "  .colab-df-spinner {\n",
              "    border: 2px solid var(--fill-color);\n",
              "    border-color: transparent;\n",
              "    border-bottom-color: var(--fill-color);\n",
              "    animation:\n",
              "      spin 1s steps(1) infinite;\n",
              "  }\n",
              "\n",
              "  @keyframes spin {\n",
              "    0% {\n",
              "      border-color: transparent;\n",
              "      border-bottom-color: var(--fill-color);\n",
              "      border-left-color: var(--fill-color);\n",
              "    }\n",
              "    20% {\n",
              "      border-color: transparent;\n",
              "      border-left-color: var(--fill-color);\n",
              "      border-top-color: var(--fill-color);\n",
              "    }\n",
              "    30% {\n",
              "      border-color: transparent;\n",
              "      border-left-color: var(--fill-color);\n",
              "      border-top-color: var(--fill-color);\n",
              "      border-right-color: var(--fill-color);\n",
              "    }\n",
              "    40% {\n",
              "      border-color: transparent;\n",
              "      border-right-color: var(--fill-color);\n",
              "      border-top-color: var(--fill-color);\n",
              "    }\n",
              "    60% {\n",
              "      border-color: transparent;\n",
              "      border-right-color: var(--fill-color);\n",
              "    }\n",
              "    80% {\n",
              "      border-color: transparent;\n",
              "      border-right-color: var(--fill-color);\n",
              "      border-bottom-color: var(--fill-color);\n",
              "    }\n",
              "    90% {\n",
              "      border-color: transparent;\n",
              "      border-bottom-color: var(--fill-color);\n",
              "    }\n",
              "  }\n",
              "</style>\n",
              "\n",
              "  <script>\n",
              "    async function quickchart(key) {\n",
              "      const quickchartButtonEl =\n",
              "        document.querySelector('#' + key + ' button');\n",
              "      quickchartButtonEl.disabled = true;  // To prevent multiple clicks.\n",
              "      quickchartButtonEl.classList.add('colab-df-spinner');\n",
              "      try {\n",
              "        const charts = await google.colab.kernel.invokeFunction(\n",
              "            'suggestCharts', [key], {});\n",
              "      } catch (error) {\n",
              "        console.error('Error during call to suggestCharts:', error);\n",
              "      }\n",
              "      quickchartButtonEl.classList.remove('colab-df-spinner');\n",
              "      quickchartButtonEl.classList.add('colab-df-quickchart-complete');\n",
              "    }\n",
              "    (() => {\n",
              "      let quickchartButtonEl =\n",
              "        document.querySelector('#df-badf4717-e4f4-4b05-a900-ee363ef40fa6 button');\n",
              "      quickchartButtonEl.style.display =\n",
              "        google.colab.kernel.accessAllowed ? 'block' : 'none';\n",
              "    })();\n",
              "  </script>\n",
              "</div>\n",
              "\n",
              "  <div id=\"id_6bda6bf4-c6f5-4096-8a13-e6ba43b4eab8\">\n",
              "    <style>\n",
              "      .colab-df-generate {\n",
              "        background-color: #E8F0FE;\n",
              "        border: none;\n",
              "        border-radius: 50%;\n",
              "        cursor: pointer;\n",
              "        display: none;\n",
              "        fill: #1967D2;\n",
              "        height: 32px;\n",
              "        padding: 0 0 0 0;\n",
              "        width: 32px;\n",
              "      }\n",
              "\n",
              "      .colab-df-generate:hover {\n",
              "        background-color: #E2EBFA;\n",
              "        box-shadow: 0px 1px 2px rgba(60, 64, 67, 0.3), 0px 1px 3px 1px rgba(60, 64, 67, 0.15);\n",
              "        fill: #174EA6;\n",
              "      }\n",
              "\n",
              "      [theme=dark] .colab-df-generate {\n",
              "        background-color: #3B4455;\n",
              "        fill: #D2E3FC;\n",
              "      }\n",
              "\n",
              "      [theme=dark] .colab-df-generate:hover {\n",
              "        background-color: #434B5C;\n",
              "        box-shadow: 0px 1px 3px 1px rgba(0, 0, 0, 0.15);\n",
              "        filter: drop-shadow(0px 1px 2px rgba(0, 0, 0, 0.3));\n",
              "        fill: #FFFFFF;\n",
              "      }\n",
              "    </style>\n",
              "    <button class=\"colab-df-generate\" onclick=\"generateWithVariable('df_o')\"\n",
              "            title=\"Generate code using this dataframe.\"\n",
              "            style=\"display:none;\">\n",
              "\n",
              "  <svg xmlns=\"http://www.w3.org/2000/svg\" height=\"24px\"viewBox=\"0 0 24 24\"\n",
              "       width=\"24px\">\n",
              "    <path d=\"M7,19H8.4L18.45,9,17,7.55,7,17.6ZM5,21V16.75L18.45,3.32a2,2,0,0,1,2.83,0l1.4,1.43a1.91,1.91,0,0,1,.58,1.4,1.91,1.91,0,0,1-.58,1.4L9.25,21ZM18.45,9,17,7.55Zm-12,3A5.31,5.31,0,0,0,4.9,8.1,5.31,5.31,0,0,0,1,6.5,5.31,5.31,0,0,0,4.9,4.9,5.31,5.31,0,0,0,6.5,1,5.31,5.31,0,0,0,8.1,4.9,5.31,5.31,0,0,0,12,6.5,5.46,5.46,0,0,0,6.5,12Z\"/>\n",
              "  </svg>\n",
              "    </button>\n",
              "    <script>\n",
              "      (() => {\n",
              "      const buttonEl =\n",
              "        document.querySelector('#id_6bda6bf4-c6f5-4096-8a13-e6ba43b4eab8 button.colab-df-generate');\n",
              "      buttonEl.style.display =\n",
              "        google.colab.kernel.accessAllowed ? 'block' : 'none';\n",
              "\n",
              "      buttonEl.onclick = () => {\n",
              "        google.colab.notebook.generateWithVariable('df_o');\n",
              "      }\n",
              "      })();\n",
              "    </script>\n",
              "  </div>\n",
              "\n",
              "    </div>\n",
              "  </div>\n"
            ],
            "application/vnd.google.colaboratory.intrinsic+json": {
              "type": "dataframe",
              "variable_name": "df_o",
              "summary": "{\n  \"name\": \"df_o\",\n  \"rows\": 24179,\n  \"fields\": [\n    {\n      \"column\": \"hor_acc\",\n      \"properties\": {\n        \"dtype\": \"number\",\n        \"std\": 8.808914690791735,\n        \"min\": 3.0,\n        \"max\": 292.518005371094,\n        \"num_unique_values\": 8888,\n        \"samples\": [\n          10.2840003967285,\n          5.32399988174438,\n          4.64900016784668\n        ],\n        \"semantic_type\": \"\",\n        \"description\": \"\"\n      }\n    },\n    {\n      \"column\": \"ver_acc\",\n      \"properties\": {\n        \"dtype\": \"number\",\n        \"std\": 3.118585840699333,\n        \"min\": 0.803313314914703,\n        \"max\": 50.8518104553223,\n        \"num_unique_values\": 21116,\n        \"samples\": [\n          3.67924213409424,\n          4.47088813781738,\n          5.68809127807617\n        ],\n        \"semantic_type\": \"\",\n        \"description\": \"\"\n      }\n    },\n    {\n      \"column\": \"num_of_wifi_5\",\n      \"properties\": {\n        \"dtype\": \"number\",\n        \"std\": 9,\n        \"min\": 0,\n        \"max\": 88,\n        \"num_unique_values\": 76,\n        \"samples\": [\n          18,\n          55,\n          25\n        ],\n        \"semantic_type\": \"\",\n        \"description\": \"\"\n      }\n    },\n    {\n      \"column\": \"max_of_wifi_5\",\n      \"properties\": {\n        \"dtype\": \"number\",\n        \"std\": 24,\n        \"min\": -127,\n        \"max\": 0,\n        \"num_unique_values\": 73,\n        \"samples\": [\n          -63,\n          -30,\n          -83\n        ],\n        \"semantic_type\": \"\",\n        \"description\": \"\"\n      }\n    },\n    {\n      \"column\": \"classes\",\n      \"properties\": {\n        \"dtype\": \"number\",\n        \"std\": 0.0,\n        \"min\": 0.0,\n        \"max\": 0.0,\n        \"num_unique_values\": 1,\n        \"samples\": [\n          0.0\n        ],\n        \"semantic_type\": \"\",\n        \"description\": \"\"\n      }\n    }\n  ]\n}"
            }
          },
          "metadata": {},
          "execution_count": 148
        }
      ]
    },
    {
      "cell_type": "markdown",
      "source": [],
      "metadata": {
        "id": "RL1eg-O2d_Ra"
      }
    },
    {
      "cell_type": "code",
      "source": [
        "res_arr=res.to_numpy()"
      ],
      "metadata": {
        "id": "s_53SNePhrs0"
      },
      "execution_count": null,
      "outputs": []
    },
    {
      "cell_type": "code",
      "source": [
        "X=res_arr[:,0:b];\n",
        "Y=res_arr[:,b];"
      ],
      "metadata": {
        "id": "I3KNjS7hiali"
      },
      "execution_count": null,
      "outputs": []
    },
    {
      "cell_type": "code",
      "source": [
        "X.shape"
      ],
      "metadata": {
        "colab": {
          "base_uri": "https://localhost:8080/"
        },
        "id": "obMcAYQznS6v",
        "outputId": "771f6c4a-9128-4738-c651-a6a2cf6d4573"
      },
      "execution_count": null,
      "outputs": [
        {
          "output_type": "execute_result",
          "data": {
            "text/plain": [
              "(67957, 4)"
            ]
          },
          "metadata": {},
          "execution_count": 151
        }
      ]
    },
    {
      "cell_type": "code",
      "source": [
        "np.unique(Y)"
      ],
      "metadata": {
        "colab": {
          "base_uri": "https://localhost:8080/"
        },
        "id": "mU9SWbBrnTZd",
        "outputId": "632d923c-b3fa-4d2d-e182-5fc8405b793f"
      },
      "execution_count": null,
      "outputs": [
        {
          "output_type": "execute_result",
          "data": {
            "text/plain": [
              "array([0., 1., 2.])"
            ]
          },
          "metadata": {},
          "execution_count": 152
        }
      ]
    },
    {
      "cell_type": "code",
      "source": [
        "X_train, X_test, Y_train, Y_test = train_test_split(X, Y, test_size=0.2, stratify=Y)"
      ],
      "metadata": {
        "id": "1P3yTXKynWAq"
      },
      "execution_count": null,
      "outputs": []
    },
    {
      "cell_type": "code",
      "source": [],
      "metadata": {
        "id": "5zrwVbUQ7kPq"
      },
      "execution_count": null,
      "outputs": []
    },
    {
      "cell_type": "code",
      "source": [
        "X_train"
      ],
      "metadata": {
        "colab": {
          "base_uri": "https://localhost:8080/"
        },
        "id": "u3BvqRSSJK19",
        "outputId": "4b97a8e2-579b-404c-ef0f-6a24fd4a4b24"
      },
      "execution_count": null,
      "outputs": [
        {
          "output_type": "execute_result",
          "data": {
            "text/plain": [
              "array([[ 14.30700016,   1.35660827,  15.        , -54.        ],\n",
              "       [ 13.87899971,   1.07645953,  11.        , -51.        ],\n",
              "       [  9.63799953,   0.87804627,  51.        , -51.        ],\n",
              "       ...,\n",
              "       [100.        , 100.        ,   8.        , -46.        ],\n",
              "       [ 11.96000004,   1.20009696,  13.        , -54.        ],\n",
              "       [ 96.        ,   1.31508815,  12.        , -57.        ]])"
            ]
          },
          "metadata": {},
          "execution_count": 154
        }
      ]
    },
    {
      "cell_type": "code",
      "source": [
        "train_scaler = preprocessing.StandardScaler().fit(X_train)\n",
        "X_train = train_scaler.transform(X_train)"
      ],
      "metadata": {
        "id": "aBGBvKh-pKHI"
      },
      "execution_count": null,
      "outputs": []
    },
    {
      "cell_type": "code",
      "source": [
        "\n",
        "X_test = train_scaler.transform(X_test)"
      ],
      "metadata": {
        "id": "z_M_jNGFqsph"
      },
      "execution_count": null,
      "outputs": []
    },
    {
      "cell_type": "code",
      "source": [
        "y_train = to_categorical(Y_train)\n",
        "y_test = to_categorical(Y_test)"
      ],
      "metadata": {
        "id": "-NRwnTQBulGz"
      },
      "execution_count": null,
      "outputs": []
    },
    {
      "cell_type": "code",
      "source": [
        "X_test.shape"
      ],
      "metadata": {
        "colab": {
          "base_uri": "https://localhost:8080/"
        },
        "id": "vI15tHI2plK_",
        "outputId": "f501479a-e528-4b3d-dd04-b3ba5e75ab39"
      },
      "execution_count": null,
      "outputs": [
        {
          "output_type": "execute_result",
          "data": {
            "text/plain": [
              "(13592, 4)"
            ]
          },
          "metadata": {},
          "execution_count": 158
        }
      ]
    },
    {
      "cell_type": "code",
      "source": [
        "i=232\n",
        "print(Y_train[i])\n",
        "print(y_train[i,:])\n",
        "print(Y_test[i])\n",
        "print(y_test[i,:])"
      ],
      "metadata": {
        "colab": {
          "base_uri": "https://localhost:8080/"
        },
        "id": "gsPsm9CHutI3",
        "outputId": "e6b8a957-5ba2-47be-9b5b-7cc271c15355"
      },
      "execution_count": null,
      "outputs": [
        {
          "output_type": "stream",
          "name": "stdout",
          "text": [
            "1.0\n",
            "[0. 1. 0.]\n",
            "2.0\n",
            "[0. 0. 1.]\n"
          ]
        }
      ]
    },
    {
      "cell_type": "code",
      "source": [
        "[s1,s2]=X_train.shape\n",
        "[a,b]=y_train.shape\n",
        "inp=tf.keras.Input(shape=(s2,))\n",
        "inp2=tf.keras.layers.Dense(64,activation='relu')(inp)\n",
        "inp2=tf.keras.layers.Dense(32,activation='relu')(inp)\n",
        "inp2=tf.keras.layers.Dense(16,activation='relu')(inp2)\n",
        "inp3=tf.keras.layers.Dense(8,activation='relu')(inp2)\n",
        "out=tf.keras.layers.Dense(b,activation='softmax')(inp3)\n",
        "\n",
        "mdl=tf.keras.Model(inp,out)\n",
        "print(mdl.summary())"
      ],
      "metadata": {
        "colab": {
          "base_uri": "https://localhost:8080/",
          "height": 323
        },
        "id": "pZ-YtsILvrPA",
        "outputId": "bc98e2d6-e105-4ccf-85ab-8f0b61d93edc"
      },
      "execution_count": null,
      "outputs": [
        {
          "output_type": "display_data",
          "data": {
            "text/plain": [
              "\u001b[1mModel: \"functional_7\"\u001b[0m\n"
            ],
            "text/html": [
              "<pre style=\"white-space:pre;overflow-x:auto;line-height:normal;font-family:Menlo,'DejaVu Sans Mono',consolas,'Courier New',monospace\"><span style=\"font-weight: bold\">Model: \"functional_7\"</span>\n",
              "</pre>\n"
            ]
          },
          "metadata": {}
        },
        {
          "output_type": "display_data",
          "data": {
            "text/plain": [
              "┏━━━━━━━━━━━━━━━━━━━━━━━━━━━━━━━━━━━━━━┳━━━━━━━━━━━━━━━━━━━━━━━━━━━━━┳━━━━━━━━━━━━━━━━━┓\n",
              "┃\u001b[1m \u001b[0m\u001b[1mLayer (type)                        \u001b[0m\u001b[1m \u001b[0m┃\u001b[1m \u001b[0m\u001b[1mOutput Shape               \u001b[0m\u001b[1m \u001b[0m┃\u001b[1m \u001b[0m\u001b[1m        Param #\u001b[0m\u001b[1m \u001b[0m┃\n",
              "┡━━━━━━━━━━━━━━━━━━━━━━━━━━━━━━━━━━━━━━╇━━━━━━━━━━━━━━━━━━━━━━━━━━━━━╇━━━━━━━━━━━━━━━━━┩\n",
              "│ input_layer_7 (\u001b[38;5;33mInputLayer\u001b[0m)           │ (\u001b[38;5;45mNone\u001b[0m, \u001b[38;5;34m4\u001b[0m)                   │               \u001b[38;5;34m0\u001b[0m │\n",
              "├──────────────────────────────────────┼─────────────────────────────┼─────────────────┤\n",
              "│ dense_36 (\u001b[38;5;33mDense\u001b[0m)                     │ (\u001b[38;5;45mNone\u001b[0m, \u001b[38;5;34m32\u001b[0m)                  │             \u001b[38;5;34m160\u001b[0m │\n",
              "├──────────────────────────────────────┼─────────────────────────────┼─────────────────┤\n",
              "│ dense_37 (\u001b[38;5;33mDense\u001b[0m)                     │ (\u001b[38;5;45mNone\u001b[0m, \u001b[38;5;34m16\u001b[0m)                  │             \u001b[38;5;34m528\u001b[0m │\n",
              "├──────────────────────────────────────┼─────────────────────────────┼─────────────────┤\n",
              "│ dense_38 (\u001b[38;5;33mDense\u001b[0m)                     │ (\u001b[38;5;45mNone\u001b[0m, \u001b[38;5;34m8\u001b[0m)                   │             \u001b[38;5;34m136\u001b[0m │\n",
              "├──────────────────────────────────────┼─────────────────────────────┼─────────────────┤\n",
              "│ dense_39 (\u001b[38;5;33mDense\u001b[0m)                     │ (\u001b[38;5;45mNone\u001b[0m, \u001b[38;5;34m3\u001b[0m)                   │              \u001b[38;5;34m27\u001b[0m │\n",
              "└──────────────────────────────────────┴─────────────────────────────┴─────────────────┘\n"
            ],
            "text/html": [
              "<pre style=\"white-space:pre;overflow-x:auto;line-height:normal;font-family:Menlo,'DejaVu Sans Mono',consolas,'Courier New',monospace\">┏━━━━━━━━━━━━━━━━━━━━━━━━━━━━━━━━━━━━━━┳━━━━━━━━━━━━━━━━━━━━━━━━━━━━━┳━━━━━━━━━━━━━━━━━┓\n",
              "┃<span style=\"font-weight: bold\"> Layer (type)                         </span>┃<span style=\"font-weight: bold\"> Output Shape                </span>┃<span style=\"font-weight: bold\">         Param # </span>┃\n",
              "┡━━━━━━━━━━━━━━━━━━━━━━━━━━━━━━━━━━━━━━╇━━━━━━━━━━━━━━━━━━━━━━━━━━━━━╇━━━━━━━━━━━━━━━━━┩\n",
              "│ input_layer_7 (<span style=\"color: #0087ff; text-decoration-color: #0087ff\">InputLayer</span>)           │ (<span style=\"color: #00d7ff; text-decoration-color: #00d7ff\">None</span>, <span style=\"color: #00af00; text-decoration-color: #00af00\">4</span>)                   │               <span style=\"color: #00af00; text-decoration-color: #00af00\">0</span> │\n",
              "├──────────────────────────────────────┼─────────────────────────────┼─────────────────┤\n",
              "│ dense_36 (<span style=\"color: #0087ff; text-decoration-color: #0087ff\">Dense</span>)                     │ (<span style=\"color: #00d7ff; text-decoration-color: #00d7ff\">None</span>, <span style=\"color: #00af00; text-decoration-color: #00af00\">32</span>)                  │             <span style=\"color: #00af00; text-decoration-color: #00af00\">160</span> │\n",
              "├──────────────────────────────────────┼─────────────────────────────┼─────────────────┤\n",
              "│ dense_37 (<span style=\"color: #0087ff; text-decoration-color: #0087ff\">Dense</span>)                     │ (<span style=\"color: #00d7ff; text-decoration-color: #00d7ff\">None</span>, <span style=\"color: #00af00; text-decoration-color: #00af00\">16</span>)                  │             <span style=\"color: #00af00; text-decoration-color: #00af00\">528</span> │\n",
              "├──────────────────────────────────────┼─────────────────────────────┼─────────────────┤\n",
              "│ dense_38 (<span style=\"color: #0087ff; text-decoration-color: #0087ff\">Dense</span>)                     │ (<span style=\"color: #00d7ff; text-decoration-color: #00d7ff\">None</span>, <span style=\"color: #00af00; text-decoration-color: #00af00\">8</span>)                   │             <span style=\"color: #00af00; text-decoration-color: #00af00\">136</span> │\n",
              "├──────────────────────────────────────┼─────────────────────────────┼─────────────────┤\n",
              "│ dense_39 (<span style=\"color: #0087ff; text-decoration-color: #0087ff\">Dense</span>)                     │ (<span style=\"color: #00d7ff; text-decoration-color: #00d7ff\">None</span>, <span style=\"color: #00af00; text-decoration-color: #00af00\">3</span>)                   │              <span style=\"color: #00af00; text-decoration-color: #00af00\">27</span> │\n",
              "└──────────────────────────────────────┴─────────────────────────────┴─────────────────┘\n",
              "</pre>\n"
            ]
          },
          "metadata": {}
        },
        {
          "output_type": "display_data",
          "data": {
            "text/plain": [
              "\u001b[1m Total params: \u001b[0m\u001b[38;5;34m851\u001b[0m (3.32 KB)\n"
            ],
            "text/html": [
              "<pre style=\"white-space:pre;overflow-x:auto;line-height:normal;font-family:Menlo,'DejaVu Sans Mono',consolas,'Courier New',monospace\"><span style=\"font-weight: bold\"> Total params: </span><span style=\"color: #00af00; text-decoration-color: #00af00\">851</span> (3.32 KB)\n",
              "</pre>\n"
            ]
          },
          "metadata": {}
        },
        {
          "output_type": "display_data",
          "data": {
            "text/plain": [
              "\u001b[1m Trainable params: \u001b[0m\u001b[38;5;34m851\u001b[0m (3.32 KB)\n"
            ],
            "text/html": [
              "<pre style=\"white-space:pre;overflow-x:auto;line-height:normal;font-family:Menlo,'DejaVu Sans Mono',consolas,'Courier New',monospace\"><span style=\"font-weight: bold\"> Trainable params: </span><span style=\"color: #00af00; text-decoration-color: #00af00\">851</span> (3.32 KB)\n",
              "</pre>\n"
            ]
          },
          "metadata": {}
        },
        {
          "output_type": "display_data",
          "data": {
            "text/plain": [
              "\u001b[1m Non-trainable params: \u001b[0m\u001b[38;5;34m0\u001b[0m (0.00 B)\n"
            ],
            "text/html": [
              "<pre style=\"white-space:pre;overflow-x:auto;line-height:normal;font-family:Menlo,'DejaVu Sans Mono',consolas,'Courier New',monospace\"><span style=\"font-weight: bold\"> Non-trainable params: </span><span style=\"color: #00af00; text-decoration-color: #00af00\">0</span> (0.00 B)\n",
              "</pre>\n"
            ]
          },
          "metadata": {}
        },
        {
          "output_type": "stream",
          "name": "stdout",
          "text": [
            "None\n"
          ]
        }
      ]
    },
    {
      "cell_type": "code",
      "source": [
        "mdl.compile(loss=categorical_crossentropy,\n",
        "              optimizer=Adam(),\n",
        "              metrics=['accuracy']) # either loss or accuracy"
      ],
      "metadata": {
        "id": "ULydOK1axZBA"
      },
      "execution_count": null,
      "outputs": []
    },
    {
      "cell_type": "code",
      "source": [
        "callbacks = [\n",
        "    tf.keras.callbacks.ModelCheckpoint(\n",
        "        filepath=\"DNN_3class_4feat.keras\",\n",
        "        save_best_only=False,\n",
        "        monitor=\"val_acc\"\n",
        "    )\n",
        "]\n",
        "\n",
        "history = mdl.fit(X_train,y_train,\n",
        "                    epochs = 50, batch_size=128,\n",
        "                    validation_split=0.25,\n",
        "                    callbacks = callbacks)"
      ],
      "metadata": {
        "colab": {
          "base_uri": "https://localhost:8080/"
        },
        "id": "6uHOeJMuxoOq",
        "outputId": "713789bb-a98c-40a1-bc23-0b784822d33d"
      },
      "execution_count": null,
      "outputs": [
        {
          "output_type": "stream",
          "name": "stdout",
          "text": [
            "Epoch 1/50\n",
            "\u001b[1m319/319\u001b[0m \u001b[32m━━━━━━━━━━━━━━━━━━━━\u001b[0m\u001b[37m\u001b[0m \u001b[1m2s\u001b[0m 3ms/step - accuracy: 0.5150 - loss: 0.9835 - val_accuracy: 0.8248 - val_loss: 0.4705\n",
            "Epoch 2/50\n",
            "\u001b[1m319/319\u001b[0m \u001b[32m━━━━━━━━━━━━━━━━━━━━\u001b[0m\u001b[37m\u001b[0m \u001b[1m1s\u001b[0m 2ms/step - accuracy: 0.8377 - loss: 0.4308 - val_accuracy: 0.8553 - val_loss: 0.3677\n",
            "Epoch 3/50\n",
            "\u001b[1m319/319\u001b[0m \u001b[32m━━━━━━━━━━━━━━━━━━━━\u001b[0m\u001b[37m\u001b[0m \u001b[1m2s\u001b[0m 3ms/step - accuracy: 0.8622 - loss: 0.3526 - val_accuracy: 0.8687 - val_loss: 0.3256\n",
            "Epoch 4/50\n",
            "\u001b[1m319/319\u001b[0m \u001b[32m━━━━━━━━━━━━━━━━━━━━\u001b[0m\u001b[37m\u001b[0m \u001b[1m1s\u001b[0m 4ms/step - accuracy: 0.8771 - loss: 0.3149 - val_accuracy: 0.8806 - val_loss: 0.3072\n",
            "Epoch 5/50\n",
            "\u001b[1m319/319\u001b[0m \u001b[32m━━━━━━━━━━━━━━━━━━━━\u001b[0m\u001b[37m\u001b[0m \u001b[1m3s\u001b[0m 7ms/step - accuracy: 0.8849 - loss: 0.2976 - val_accuracy: 0.8897 - val_loss: 0.2888\n",
            "Epoch 6/50\n",
            "\u001b[1m319/319\u001b[0m \u001b[32m━━━━━━━━━━━━━━━━━━━━\u001b[0m\u001b[37m\u001b[0m \u001b[1m2s\u001b[0m 7ms/step - accuracy: 0.8922 - loss: 0.2784 - val_accuracy: 0.8897 - val_loss: 0.2822\n",
            "Epoch 7/50\n",
            "\u001b[1m319/319\u001b[0m \u001b[32m━━━━━━━━━━━━━━━━━━━━\u001b[0m\u001b[37m\u001b[0m \u001b[1m2s\u001b[0m 4ms/step - accuracy: 0.8941 - loss: 0.2732 - val_accuracy: 0.8940 - val_loss: 0.2753\n",
            "Epoch 8/50\n",
            "\u001b[1m319/319\u001b[0m \u001b[32m━━━━━━━━━━━━━━━━━━━━\u001b[0m\u001b[37m\u001b[0m \u001b[1m1s\u001b[0m 4ms/step - accuracy: 0.8973 - loss: 0.2698 - val_accuracy: 0.8938 - val_loss: 0.2699\n",
            "Epoch 9/50\n",
            "\u001b[1m319/319\u001b[0m \u001b[32m━━━━━━━━━━━━━━━━━━━━\u001b[0m\u001b[37m\u001b[0m \u001b[1m2s\u001b[0m 4ms/step - accuracy: 0.8984 - loss: 0.2654 - val_accuracy: 0.8965 - val_loss: 0.2665\n",
            "Epoch 10/50\n",
            "\u001b[1m319/319\u001b[0m \u001b[32m━━━━━━━━━━━━━━━━━━━━\u001b[0m\u001b[37m\u001b[0m \u001b[1m1s\u001b[0m 2ms/step - accuracy: 0.9020 - loss: 0.2549 - val_accuracy: 0.8985 - val_loss: 0.2617\n",
            "Epoch 11/50\n",
            "\u001b[1m319/319\u001b[0m \u001b[32m━━━━━━━━━━━━━━━━━━━━\u001b[0m\u001b[37m\u001b[0m \u001b[1m1s\u001b[0m 3ms/step - accuracy: 0.9006 - loss: 0.2554 - val_accuracy: 0.8983 - val_loss: 0.2580\n",
            "Epoch 12/50\n",
            "\u001b[1m319/319\u001b[0m \u001b[32m━━━━━━━━━━━━━━━━━━━━\u001b[0m\u001b[37m\u001b[0m \u001b[1m2s\u001b[0m 4ms/step - accuracy: 0.9008 - loss: 0.2525 - val_accuracy: 0.8988 - val_loss: 0.2557\n",
            "Epoch 13/50\n",
            "\u001b[1m319/319\u001b[0m \u001b[32m━━━━━━━━━━━━━━━━━━━━\u001b[0m\u001b[37m\u001b[0m \u001b[1m1s\u001b[0m 4ms/step - accuracy: 0.9033 - loss: 0.2460 - val_accuracy: 0.8985 - val_loss: 0.2575\n",
            "Epoch 14/50\n",
            "\u001b[1m319/319\u001b[0m \u001b[32m━━━━━━━━━━━━━━━━━━━━\u001b[0m\u001b[37m\u001b[0m \u001b[1m4s\u001b[0m 7ms/step - accuracy: 0.9011 - loss: 0.2533 - val_accuracy: 0.9002 - val_loss: 0.2511\n",
            "Epoch 15/50\n",
            "\u001b[1m319/319\u001b[0m \u001b[32m━━━━━━━━━━━━━━━━━━━━\u001b[0m\u001b[37m\u001b[0m \u001b[1m2s\u001b[0m 7ms/step - accuracy: 0.9031 - loss: 0.2454 - val_accuracy: 0.9027 - val_loss: 0.2528\n",
            "Epoch 16/50\n",
            "\u001b[1m319/319\u001b[0m \u001b[32m━━━━━━━━━━━━━━━━━━━━\u001b[0m\u001b[37m\u001b[0m \u001b[1m2s\u001b[0m 4ms/step - accuracy: 0.9037 - loss: 0.2423 - val_accuracy: 0.9024 - val_loss: 0.2492\n",
            "Epoch 17/50\n",
            "\u001b[1m319/319\u001b[0m \u001b[32m━━━━━━━━━━━━━━━━━━━━\u001b[0m\u001b[37m\u001b[0m \u001b[1m1s\u001b[0m 4ms/step - accuracy: 0.9076 - loss: 0.2369 - val_accuracy: 0.9058 - val_loss: 0.2440\n",
            "Epoch 18/50\n",
            "\u001b[1m319/319\u001b[0m \u001b[32m━━━━━━━━━━━━━━━━━━━━\u001b[0m\u001b[37m\u001b[0m \u001b[1m2s\u001b[0m 4ms/step - accuracy: 0.9073 - loss: 0.2396 - val_accuracy: 0.9038 - val_loss: 0.2451\n",
            "Epoch 19/50\n",
            "\u001b[1m319/319\u001b[0m \u001b[32m━━━━━━━━━━━━━━━━━━━━\u001b[0m\u001b[37m\u001b[0m \u001b[1m1s\u001b[0m 4ms/step - accuracy: 0.9092 - loss: 0.2322 - val_accuracy: 0.9046 - val_loss: 0.2407\n",
            "Epoch 20/50\n",
            "\u001b[1m319/319\u001b[0m \u001b[32m━━━━━━━━━━━━━━━━━━━━\u001b[0m\u001b[37m\u001b[0m \u001b[1m3s\u001b[0m 6ms/step - accuracy: 0.9039 - loss: 0.2400 - val_accuracy: 0.9080 - val_loss: 0.2382\n",
            "Epoch 21/50\n",
            "\u001b[1m319/319\u001b[0m \u001b[32m━━━━━━━━━━━━━━━━━━━━\u001b[0m\u001b[37m\u001b[0m \u001b[1m2s\u001b[0m 5ms/step - accuracy: 0.9082 - loss: 0.2335 - val_accuracy: 0.9052 - val_loss: 0.2417\n",
            "Epoch 22/50\n",
            "\u001b[1m319/319\u001b[0m \u001b[32m━━━━━━━━━━━━━━━━━━━━\u001b[0m\u001b[37m\u001b[0m \u001b[1m2s\u001b[0m 2ms/step - accuracy: 0.9111 - loss: 0.2256 - val_accuracy: 0.9074 - val_loss: 0.2348\n",
            "Epoch 23/50\n",
            "\u001b[1m319/319\u001b[0m \u001b[32m━━━━━━━━━━━━━━━━━━━━\u001b[0m\u001b[37m\u001b[0m \u001b[1m1s\u001b[0m 2ms/step - accuracy: 0.9120 - loss: 0.2271 - val_accuracy: 0.9098 - val_loss: 0.2368\n",
            "Epoch 24/50\n",
            "\u001b[1m319/319\u001b[0m \u001b[32m━━━━━━━━━━━━━━━━━━━━\u001b[0m\u001b[37m\u001b[0m \u001b[1m1s\u001b[0m 2ms/step - accuracy: 0.9093 - loss: 0.2283 - val_accuracy: 0.9089 - val_loss: 0.2343\n",
            "Epoch 25/50\n",
            "\u001b[1m319/319\u001b[0m \u001b[32m━━━━━━━━━━━━━━━━━━━━\u001b[0m\u001b[37m\u001b[0m \u001b[1m1s\u001b[0m 2ms/step - accuracy: 0.9095 - loss: 0.2254 - val_accuracy: 0.9089 - val_loss: 0.2332\n",
            "Epoch 26/50\n",
            "\u001b[1m319/319\u001b[0m \u001b[32m━━━━━━━━━━━━━━━━━━━━\u001b[0m\u001b[37m\u001b[0m \u001b[1m1s\u001b[0m 2ms/step - accuracy: 0.9113 - loss: 0.2219 - val_accuracy: 0.9103 - val_loss: 0.2306\n",
            "Epoch 27/50\n",
            "\u001b[1m319/319\u001b[0m \u001b[32m━━━━━━━━━━━━━━━━━━━━\u001b[0m\u001b[37m\u001b[0m \u001b[1m1s\u001b[0m 2ms/step - accuracy: 0.9118 - loss: 0.2239 - val_accuracy: 0.9102 - val_loss: 0.2306\n",
            "Epoch 28/50\n",
            "\u001b[1m319/319\u001b[0m \u001b[32m━━━━━━━━━━━━━━━━━━━━\u001b[0m\u001b[37m\u001b[0m \u001b[1m1s\u001b[0m 2ms/step - accuracy: 0.9125 - loss: 0.2213 - val_accuracy: 0.9091 - val_loss: 0.2299\n",
            "Epoch 29/50\n",
            "\u001b[1m319/319\u001b[0m \u001b[32m━━━━━━━━━━━━━━━━━━━━\u001b[0m\u001b[37m\u001b[0m \u001b[1m1s\u001b[0m 2ms/step - accuracy: 0.9131 - loss: 0.2222 - val_accuracy: 0.9119 - val_loss: 0.2273\n",
            "Epoch 30/50\n",
            "\u001b[1m319/319\u001b[0m \u001b[32m━━━━━━━━━━━━━━━━━━━━\u001b[0m\u001b[37m\u001b[0m \u001b[1m1s\u001b[0m 3ms/step - accuracy: 0.9124 - loss: 0.2192 - val_accuracy: 0.9127 - val_loss: 0.2252\n",
            "Epoch 31/50\n",
            "\u001b[1m319/319\u001b[0m \u001b[32m━━━━━━━━━━━━━━━━━━━━\u001b[0m\u001b[37m\u001b[0m \u001b[1m1s\u001b[0m 4ms/step - accuracy: 0.9136 - loss: 0.2141 - val_accuracy: 0.9112 - val_loss: 0.2296\n",
            "Epoch 32/50\n",
            "\u001b[1m319/319\u001b[0m \u001b[32m━━━━━━━━━━━━━━━━━━━━\u001b[0m\u001b[37m\u001b[0m \u001b[1m1s\u001b[0m 4ms/step - accuracy: 0.9136 - loss: 0.2155 - val_accuracy: 0.9131 - val_loss: 0.2228\n",
            "Epoch 33/50\n",
            "\u001b[1m319/319\u001b[0m \u001b[32m━━━━━━━━━━━━━━━━━━━━\u001b[0m\u001b[37m\u001b[0m \u001b[1m1s\u001b[0m 3ms/step - accuracy: 0.9151 - loss: 0.2156 - val_accuracy: 0.9114 - val_loss: 0.2247\n",
            "Epoch 34/50\n",
            "\u001b[1m319/319\u001b[0m \u001b[32m━━━━━━━━━━━━━━━━━━━━\u001b[0m\u001b[37m\u001b[0m \u001b[1m1s\u001b[0m 2ms/step - accuracy: 0.9154 - loss: 0.2150 - val_accuracy: 0.9115 - val_loss: 0.2228\n",
            "Epoch 35/50\n",
            "\u001b[1m319/319\u001b[0m \u001b[32m━━━━━━━━━━━━━━━━━━━━\u001b[0m\u001b[37m\u001b[0m \u001b[1m1s\u001b[0m 2ms/step - accuracy: 0.9163 - loss: 0.2142 - val_accuracy: 0.9146 - val_loss: 0.2208\n",
            "Epoch 36/50\n",
            "\u001b[1m319/319\u001b[0m \u001b[32m━━━━━━━━━━━━━━━━━━━━\u001b[0m\u001b[37m\u001b[0m \u001b[1m1s\u001b[0m 2ms/step - accuracy: 0.9146 - loss: 0.2151 - val_accuracy: 0.9147 - val_loss: 0.2198\n",
            "Epoch 37/50\n",
            "\u001b[1m319/319\u001b[0m \u001b[32m━━━━━━━━━━━━━━━━━━━━\u001b[0m\u001b[37m\u001b[0m \u001b[1m1s\u001b[0m 2ms/step - accuracy: 0.9148 - loss: 0.2133 - val_accuracy: 0.9139 - val_loss: 0.2207\n",
            "Epoch 38/50\n",
            "\u001b[1m319/319\u001b[0m \u001b[32m━━━━━━━━━━━━━━━━━━━━\u001b[0m\u001b[37m\u001b[0m \u001b[1m1s\u001b[0m 2ms/step - accuracy: 0.9189 - loss: 0.2068 - val_accuracy: 0.9155 - val_loss: 0.2190\n",
            "Epoch 39/50\n",
            "\u001b[1m319/319\u001b[0m \u001b[32m━━━━━━━━━━━━━━━━━━━━\u001b[0m\u001b[37m\u001b[0m \u001b[1m1s\u001b[0m 2ms/step - accuracy: 0.9155 - loss: 0.2101 - val_accuracy: 0.9136 - val_loss: 0.2208\n",
            "Epoch 40/50\n",
            "\u001b[1m319/319\u001b[0m \u001b[32m━━━━━━━━━━━━━━━━━━━━\u001b[0m\u001b[37m\u001b[0m \u001b[1m1s\u001b[0m 2ms/step - accuracy: 0.9148 - loss: 0.2122 - val_accuracy: 0.9073 - val_loss: 0.2352\n",
            "Epoch 41/50\n",
            "\u001b[1m319/319\u001b[0m \u001b[32m━━━━━━━━━━━━━━━━━━━━\u001b[0m\u001b[37m\u001b[0m \u001b[1m1s\u001b[0m 2ms/step - accuracy: 0.9181 - loss: 0.2077 - val_accuracy: 0.9155 - val_loss: 0.2209\n",
            "Epoch 42/50\n",
            "\u001b[1m319/319\u001b[0m \u001b[32m━━━━━━━━━━━━━━━━━━━━\u001b[0m\u001b[37m\u001b[0m \u001b[1m2s\u001b[0m 4ms/step - accuracy: 0.9189 - loss: 0.2073 - val_accuracy: 0.9159 - val_loss: 0.2159\n",
            "Epoch 43/50\n",
            "\u001b[1m319/319\u001b[0m \u001b[32m━━━━━━━━━━━━━━━━━━━━\u001b[0m\u001b[37m\u001b[0m \u001b[1m1s\u001b[0m 4ms/step - accuracy: 0.9177 - loss: 0.2072 - val_accuracy: 0.9171 - val_loss: 0.2164\n",
            "Epoch 44/50\n",
            "\u001b[1m319/319\u001b[0m \u001b[32m━━━━━━━━━━━━━━━━━━━━\u001b[0m\u001b[37m\u001b[0m \u001b[1m2s\u001b[0m 2ms/step - accuracy: 0.9179 - loss: 0.2068 - val_accuracy: 0.9143 - val_loss: 0.2174\n",
            "Epoch 45/50\n",
            "\u001b[1m319/319\u001b[0m \u001b[32m━━━━━━━━━━━━━━━━━━━━\u001b[0m\u001b[37m\u001b[0m \u001b[1m1s\u001b[0m 3ms/step - accuracy: 0.9182 - loss: 0.2078 - val_accuracy: 0.9100 - val_loss: 0.2273\n",
            "Epoch 46/50\n",
            "\u001b[1m319/319\u001b[0m \u001b[32m━━━━━━━━━━━━━━━━━━━━\u001b[0m\u001b[37m\u001b[0m \u001b[1m1s\u001b[0m 2ms/step - accuracy: 0.9172 - loss: 0.2119 - val_accuracy: 0.9160 - val_loss: 0.2176\n",
            "Epoch 47/50\n",
            "\u001b[1m319/319\u001b[0m \u001b[32m━━━━━━━━━━━━━━━━━━━━\u001b[0m\u001b[37m\u001b[0m \u001b[1m1s\u001b[0m 2ms/step - accuracy: 0.9183 - loss: 0.2070 - val_accuracy: 0.9155 - val_loss: 0.2190\n",
            "Epoch 48/50\n",
            "\u001b[1m319/319\u001b[0m \u001b[32m━━━━━━━━━━━━━━━━━━━━\u001b[0m\u001b[37m\u001b[0m \u001b[1m1s\u001b[0m 2ms/step - accuracy: 0.9164 - loss: 0.2110 - val_accuracy: 0.9162 - val_loss: 0.2160\n",
            "Epoch 49/50\n",
            "\u001b[1m319/319\u001b[0m \u001b[32m━━━━━━━━━━━━━━━━━━━━\u001b[0m\u001b[37m\u001b[0m \u001b[1m1s\u001b[0m 2ms/step - accuracy: 0.9184 - loss: 0.2041 - val_accuracy: 0.9166 - val_loss: 0.2155\n",
            "Epoch 50/50\n",
            "\u001b[1m319/319\u001b[0m \u001b[32m━━━━━━━━━━━━━━━━━━━━\u001b[0m\u001b[37m\u001b[0m \u001b[1m1s\u001b[0m 2ms/step - accuracy: 0.9196 - loss: 0.2040 - val_accuracy: 0.9144 - val_loss: 0.2169\n"
          ]
        }
      ]
    },
    {
      "cell_type": "code",
      "source": [
        "import os\n",
        "print(os.listdir(os.getcwd()))"
      ],
      "metadata": {
        "id": "27QmWMGXlCeP",
        "outputId": "e674d7f5-18f4-49dd-aef5-8cceb6ccb471",
        "colab": {
          "base_uri": "https://localhost:8080/"
        }
      },
      "execution_count": null,
      "outputs": [
        {
          "output_type": "stream",
          "name": "stdout",
          "text": [
            "['.config', 'sample_data']\n"
          ]
        }
      ]
    },
    {
      "cell_type": "code",
      "source": [
        "test_model = tf.keras.models.load_model('DNN_3class_4feat.keras')\n",
        "test_loss, test_acc = test_model.evaluate(X_test,y_test)\n",
        "\n",
        "print(f\"Best Model's Test Accuracy: {test_acc:.3f}\")\n"
      ],
      "metadata": {
        "id": "-awHPTnrxxvr",
        "colab": {
          "base_uri": "https://localhost:8080/"
        },
        "outputId": "9cba11d3-b292-408d-87c0-f291a38b0c09"
      },
      "execution_count": null,
      "outputs": [
        {
          "output_type": "stream",
          "name": "stdout",
          "text": [
            "\u001b[1m425/425\u001b[0m \u001b[32m━━━━━━━━━━━━━━━━━━━━\u001b[0m\u001b[37m\u001b[0m \u001b[1m1s\u001b[0m 1ms/step - accuracy: 0.9147 - loss: 0.2167\n",
            "Best Model's Test Accuracy: 0.917\n"
          ]
        }
      ]
    },
    {
      "cell_type": "code",
      "source": [],
      "metadata": {
        "id": "AnALVPDQxnyw"
      },
      "execution_count": null,
      "outputs": []
    },
    {
      "cell_type": "markdown",
      "source": [],
      "metadata": {
        "id": "MFP_6_zKfDCa"
      }
    },
    {
      "cell_type": "code",
      "source": [
        "idx=np.where(Y_test==0)\n",
        "X_test_o=np.squeeze(X_test[idx,:])\n",
        "y_test_o=np.squeeze(y_test[idx,:])\n",
        "Y_test_o=np.squeeze(Y_test[idx])\n",
        "test_loss_o, test_acc_outdoor = test_model.evaluate(X_test_o,y_test_o)\n",
        "print(f\"Best Model's Test Accuracy for Outdoor: {test_acc_outdoor:.3f}\")\n",
        "\n",
        "idx=np.where(Y_test==1)\n",
        "X_test_ii=np.squeeze(X_test[idx,:])\n",
        "y_test_ii=np.squeeze(y_test[idx,:])\n",
        "Y_test_ii=np.squeeze(Y_test[idx])\n",
        "test_loss_ii, test_acc_ii = test_model.evaluate(X_test_ii,y_test_ii)\n",
        "print(f\"Best Model's Test Accuracy for Indoor Interior: {test_acc_ii:.3f}\")\n",
        "\n",
        "idx=np.where(Y_test==2)\n",
        "X_test_inw=np.squeeze(X_test[idx,:])\n",
        "y_test_inw=np.squeeze(y_test[idx,:])\n",
        "Y_test_inw=np.squeeze(Y_test[idx])\n",
        "test_loss_inw, test_acc_inw = test_model.evaluate(X_test_inw,y_test_inw)\n",
        "print(f\"Best Model's Test Accuracy for Indoor Near Window: {test_acc_inw:.3f}\")\n"
      ],
      "metadata": {
        "id": "bmuyY5UliQpk",
        "colab": {
          "base_uri": "https://localhost:8080/"
        },
        "outputId": "02b401c0-85bf-415c-8ae7-5cefbbbeab8c"
      },
      "execution_count": null,
      "outputs": [
        {
          "output_type": "stream",
          "name": "stdout",
          "text": [
            "\u001b[1m152/152\u001b[0m \u001b[32m━━━━━━━━━━━━━━━━━━━━\u001b[0m\u001b[37m\u001b[0m \u001b[1m0s\u001b[0m 1ms/step - accuracy: 0.9624 - loss: 0.1047\n",
            "Best Model's Test Accuracy for Outdoor: 0.966\n",
            "\u001b[1m143/143\u001b[0m \u001b[32m━━━━━━━━━━━━━━━━━━━━\u001b[0m\u001b[37m\u001b[0m \u001b[1m0s\u001b[0m 2ms/step - accuracy: 0.8796 - loss: 0.3055\n",
            "Best Model's Test Accuracy for Indoor Interior: 0.881\n",
            "\u001b[1m132/132\u001b[0m \u001b[32m━━━━━━━━━━━━━━━━━━━━\u001b[0m\u001b[37m\u001b[0m \u001b[1m0s\u001b[0m 2ms/step - accuracy: 0.8980 - loss: 0.2487\n",
            "Best Model's Test Accuracy for Indoor Near Window: 0.899\n"
          ]
        }
      ]
    },
    {
      "cell_type": "code",
      "source": [
        "Y_test_inw"
      ],
      "metadata": {
        "id": "6V3q_S2wKOV2",
        "colab": {
          "base_uri": "https://localhost:8080/"
        },
        "outputId": "4e05d51a-8f06-4b29-e3f1-2a2e2829561c"
      },
      "execution_count": null,
      "outputs": [
        {
          "output_type": "execute_result",
          "data": {
            "text/plain": [
              "array([2., 2., 2., ..., 2., 2., 2.])"
            ]
          },
          "metadata": {},
          "execution_count": 54
        }
      ]
    },
    {
      "cell_type": "code",
      "source": [],
      "metadata": {
        "id": "eOpi1g_UHOCl"
      },
      "execution_count": null,
      "outputs": []
    },
    {
      "cell_type": "code",
      "source": [
        "clf_tree=DecisionTreeClassifier(criterion='entropy',random_state=100,max_depth=10,min_samples_leaf=10)\n",
        "clf_tree.fit(X_train, Y_train)\n",
        "y_pred=clf_tree.predict(X_test)\n",
        "print(f\"Decision Tree Test Accuracy : {np.mean(np.where(y_pred-Y_test==0,1,0))}\")\n",
        "clf_rf = RandomForestClassifier(n_estimators = 5, criterion = 'entropy', random_state = 42,max_depth=10,min_samples_leaf=10)\n",
        "clf_rf.fit(X_train, Y_train)\n",
        "y_pred=clf_rf.predict(X_test)\n",
        "print(f\"Random Forest Test Accuracy : {np.mean(np.where(y_pred-Y_test==0,1,0))}\")\n"
      ],
      "metadata": {
        "id": "Ys5ZcjF2fFTy",
        "colab": {
          "base_uri": "https://localhost:8080/"
        },
        "outputId": "96df8074-5cc2-49ef-8e0a-12f179696bf3"
      },
      "execution_count": null,
      "outputs": [
        {
          "output_type": "stream",
          "name": "stdout",
          "text": [
            "Decision Tree Test Accuracy : 0.9111241907004121\n",
            "Random Forest Test Accuracy : 0.9224543849323131\n"
          ]
        }
      ]
    },
    {
      "cell_type": "code",
      "source": [
        "dump(clf_tree, 'clf_tree_3class_4feat.joblib')\n",
        "dump(clf_rf, 'clf_rf_3class_4feat.joblib')"
      ],
      "metadata": {
        "colab": {
          "base_uri": "https://localhost:8080/"
        },
        "id": "OkSBHt4DpMaY",
        "outputId": "ca664738-25cd-4e90-f666-b9ca07a0728e"
      },
      "execution_count": null,
      "outputs": [
        {
          "output_type": "execute_result",
          "data": {
            "text/plain": [
              "['clf_rf_3class_4feat.joblib']"
            ]
          },
          "metadata": {},
          "execution_count": 167
        }
      ]
    },
    {
      "cell_type": "code",
      "source": [
        "y_pred=test_model.predict(X_test)\n",
        "y_pred=np.argmax(y_pred,axis=1)\n",
        "print(f\"DNN Test Accuracy : {np.mean(np.where(y_pred-Y_test==0,1,0))}\")\n",
        "\n",
        "y_pred_o=test_model.predict(X_test_o)\n",
        "y_pred_o=np.argmax(y_pred_o,axis=1)\n",
        "print(f\"DNN O to O: {np.mean(np.where(y_pred_o==0,1,0)):3f}\")\n",
        "print(f\"DNN O to II: {np.mean(np.where(y_pred_o==1,1,0)):3f}\")\n",
        "print(f\"DNN O to INW: {np.mean(np.where(y_pred_o==2,1,0)):3f}\")\n",
        "\n",
        "y_pred_ii=test_model.predict(X_test_ii)\n",
        "y_pred_ii=np.argmax(y_pred_ii,axis=1)\n",
        "print(f\"DNN II to O: {np.mean(np.where(y_pred_ii==0,1,0)):3f}\")\n",
        "print(f\"DNN II to II: {np.mean(np.where(y_pred_ii==1,1,0)):3f}\")\n",
        "print(f\"DNN II to INW: {np.mean(np.where(y_pred_ii==2,1,0)):3f}\")\n",
        "\n",
        "y_pred_inw=test_model.predict(X_test_inw)\n",
        "y_pred_inw=np.argmax(y_pred_inw,axis=1)\n",
        "print(f\"DNN INW to O: {np.mean(np.where(y_pred_inw==0,1,0)):3f}\")\n",
        "print(f\"DNN INW to II: {np.mean(np.where(y_pred_inw==1,1,0)):3f}\")\n",
        "print(f\"DNN INW to INW: {np.mean(np.where(y_pred_inw==2,1,0)):3f}\")"
      ],
      "metadata": {
        "id": "VEThiSif6-eo",
        "colab": {
          "base_uri": "https://localhost:8080/"
        },
        "outputId": "bc8ab2b6-f1cb-4145-d520-afbd0d351d67"
      },
      "execution_count": null,
      "outputs": [
        {
          "output_type": "stream",
          "name": "stdout",
          "text": [
            "\u001b[1m425/425\u001b[0m \u001b[32m━━━━━━━━━━━━━━━━━━━━\u001b[0m\u001b[37m\u001b[0m \u001b[1m1s\u001b[0m 1ms/step\n",
            "DNN Test Accuracy : 0.9208357857563273\n",
            "\u001b[1m152/152\u001b[0m \u001b[32m━━━━━━━━━━━━━━━━━━━━\u001b[0m\u001b[37m\u001b[0m \u001b[1m0s\u001b[0m 1ms/step\n",
            "DNN O to O: 0.957403\n",
            "DNN O to II: 0.029363\n",
            "DNN O to INW: 0.013234\n",
            "\u001b[1m143/143\u001b[0m \u001b[32m━━━━━━━━━━━━━━━━━━━━\u001b[0m\u001b[37m\u001b[0m \u001b[1m0s\u001b[0m 1ms/step\n",
            "DNN II to O: 0.004385\n",
            "DNN II to II: 0.908134\n",
            "DNN II to INW: 0.087481\n",
            "\u001b[1m132/132\u001b[0m \u001b[32m━━━━━━━━━━━━━━━━━━━━\u001b[0m\u001b[37m\u001b[0m \u001b[1m0s\u001b[0m 1ms/step\n",
            "DNN INW to O: 0.013111\n",
            "DNN INW to II: 0.094398\n",
            "DNN INW to INW: 0.892491\n"
          ]
        }
      ]
    },
    {
      "cell_type": "code",
      "source": [],
      "metadata": {
        "id": "Geq5EPOVJPm1"
      },
      "execution_count": null,
      "outputs": []
    },
    {
      "cell_type": "code",
      "source": [
        "y_pred=clf_tree.predict(X_test)\n",
        "print(f\"DT Test Accuracy : {np.mean(np.where(y_pred-Y_test==0,1,0))}\")\n",
        "\n",
        "y_pred_o=clf_tree.predict(X_test_o)\n",
        "print(f\"DT O to O: {np.mean(np.where(y_pred_o==0,1,0)):3f}\")\n",
        "print(f\"DT O to II: {np.mean(np.where(y_pred_o==1,1,0)):3f}\")\n",
        "print(f\"DT O to INW: {np.mean(np.where(y_pred_o==2,1,0)):3f}\")\n",
        "y_pred_ii=clf_tree.predict(X_test_ii)\n",
        "print(f\"DT II to O: {np.mean(np.where(y_pred_ii==0,1,0)):3f}\")\n",
        "print(f\"DT II to II: {np.mean(np.where(y_pred_ii==1,1,0)):3f}\")\n",
        "print(f\"DT II to INW: {np.mean(np.where(y_pred_ii==2,1,0)):3f}\")\n",
        "\n",
        "y_pred_inw=clf_tree.predict(X_test_inw)\n",
        "print(f\"DT INW to O: {np.mean(np.where(y_pred_inw==0,1,0)):3f}\")\n",
        "print(f\"DT INW to II: {np.mean(np.where(y_pred_inw==1,1,0)):3f}\")\n",
        "print(f\"DT INW to INW: {np.mean(np.where(y_pred_inw==2,1,0)):3f}\")"
      ],
      "metadata": {
        "id": "6bd8CJL67Og4",
        "colab": {
          "base_uri": "https://localhost:8080/"
        },
        "outputId": "fe32ed9e-04db-4f7c-e275-b9a43e00cd05"
      },
      "execution_count": null,
      "outputs": [
        {
          "output_type": "stream",
          "name": "stdout",
          "text": [
            "DT Test Accuracy : 0.9086962919364332\n",
            "DT O to O: 0.957610\n",
            "DT O to II: 0.029983\n",
            "DT O to INW: 0.012407\n",
            "DT II to O: 0.012278\n",
            "DT II to II: 0.919316\n",
            "DT II to INW: 0.068406\n",
            "DT INW to O: 0.012396\n",
            "DT INW to II: 0.146841\n",
            "DT INW to INW: 0.840763\n"
          ]
        }
      ]
    },
    {
      "cell_type": "code",
      "source": [
        "y_pred=clf_rf.predict(X_test)\n",
        "print(f\"RF Test Accuracy : {np.mean(np.where(y_pred-Y_test==0,1,0))}\")\n",
        "\n",
        "y_pred_o=clf_rf.predict(X_test_o)\n",
        "print(f\"RF O to O: {np.mean(np.where(y_pred_o==0,1,0)):3f}\")\n",
        "print(f\"RF O to II: {np.mean(np.where(y_pred_o==1,1,0)):3f}\")\n",
        "print(f\"RF O to INW: {np.mean(np.where(y_pred_o==2,1,0)):3f}\")\n",
        "\n",
        "y_pred_ii=clf_rf.predict(X_test_ii)\n",
        "print(f\"RF II to O: {np.mean(np.where(y_pred_ii==0,1,0)):3f}\")\n",
        "print(f\"RF II to II: {np.mean(np.where(y_pred_ii==1,1,0)):3f}\")\n",
        "print(f\"RF II to INW: {np.mean(np.where(y_pred_ii==2,1,0)):3f}\")\n",
        "\n",
        "y_pred_inw=clf_rf.predict(X_test_inw)\n",
        "print(f\"RF INW to O: {np.mean(np.where(y_pred_inw==0,1,0)):3f}\")\n",
        "print(f\"RF INW to II: {np.mean(np.where(y_pred_inw==1,1,0)):3f}\")\n",
        "print(f\"RF INW to INW: {np.mean(np.where(y_pred_inw==2,1,0)):3f}\")"
      ],
      "metadata": {
        "id": "GppZiWhX7WV3",
        "colab": {
          "base_uri": "https://localhost:8080/"
        },
        "outputId": "e4dc0be6-8aef-4d00-8be7-378fd3ce6032"
      },
      "execution_count": null,
      "outputs": [
        {
          "output_type": "stream",
          "name": "stdout",
          "text": [
            "RF Test Accuracy : 0.9195114773396116\n",
            "RF O to O: 0.964020\n",
            "RF O to II: 0.025227\n",
            "RF O to INW: 0.010753\n",
            "RF II to O: 0.010305\n",
            "RF II to II: 0.906599\n",
            "RF II to INW: 0.083096\n",
            "RF INW to O: 0.007390\n",
            "RF INW to II: 0.110369\n",
            "RF INW to INW: 0.882241\n"
          ]
        }
      ]
    },
    {
      "cell_type": "code",
      "source": [
        "def most_frequent(row):\n",
        "    unique, counts = np.unique(row, return_counts=True)\n",
        "    return unique[np.argmax(counts)]"
      ],
      "metadata": {
        "id": "j7yigwp7bm7y"
      },
      "execution_count": null,
      "outputs": []
    },
    {
      "cell_type": "code",
      "source": [
        "def three_classes_MV(X_test,Y_test,dnn_mdl,dt_mdl,rf_mdl,duration):\n",
        "  idx=np.where(Y_test==0)\n",
        "  X_test_o=np.squeeze(X_test[idx,:])\n",
        "  Y_test_o=np.squeeze(Y_test[idx])\n",
        "\n",
        "\n",
        "  idx=np.where(Y_test==1)\n",
        "  X_test_ii=np.squeeze(X_test[idx,:])\n",
        "  Y_test_ii=np.squeeze(Y_test[idx])\n",
        "\n",
        "  idx=np.where(Y_test==2)\n",
        "  X_test_inw=np.squeeze(X_test[idx,:])\n",
        "  Y_test_inw=np.squeeze(Y_test[idx])\n",
        "\n",
        "  ## DNN part\n",
        "  y_pred_ii=dnn_mdl.predict(X_test_ii)\n",
        "  y_pred_ii=np.argmax(y_pred_ii,axis=1)\n",
        "\n",
        "  ## DNN part\n",
        "  y_pred_inw=dnn_mdl.predict(X_test_inw)\n",
        "  y_pred_inw=np.argmax(y_pred_inw,axis=1)\n",
        "\n",
        "  y_pred_o=dnn_mdl.predict(X_test_o)\n",
        "  y_pred_o=np.argmax(y_pred_o,axis=1)\n",
        "  print(\"DNN Test Accuracy for  Outdoors \"+ f\": {np.mean(np.where(y_pred_o==0,1,0)):3f}\")\n",
        "  print(\"DNN Test Accuracy for  Indoors Interior \"+ f\": {np.mean(np.where(y_pred_ii==1,1,0)):3f}\")\n",
        "  print(\"DNN Test Accuracy for  Indoors Near Window \"+ f\": {np.mean(np.where(y_pred_inw==2,1,0)):3f}\")\n",
        "\n",
        "\n",
        "  ## MAjority Voting\n",
        "  y_predmv_o=y_pred_o[0:int(np.floor(len(y_pred_o)/duration)*duration)]\n",
        "  y_predmv_o=np.reshape(y_predmv_o,(-1,duration))\n",
        "  y_predmv_o=np.transpose(y_predmv_o)\n",
        "  y_predmv_o=np.apply_along_axis(most_frequent, 0, y_predmv_o)\n",
        "  print(\"DNN Test Accuracy for Outdoors \" + f\" with MV method: {np.mean(np.where(y_predmv_o==0,1,0)):3f}\")\n",
        "\n",
        "  ## MAjority Voting\n",
        "  y_predmv_ii=y_pred_ii[0:int(np.floor(len(y_pred_ii)/duration)*duration)]\n",
        "  y_predmv_ii=np.reshape(y_predmv_ii,(-1,duration))\n",
        "  y_predmv_ii=np.transpose(y_predmv_ii)\n",
        "  y_predmv_ii=np.apply_along_axis(most_frequent, 0, y_predmv_ii)\n",
        "  print(\"DNN Test Accuracy for Indoor Interior \" + f\" with MV method: {np.mean(np.where(y_predmv_ii==1,1,0)):3f}\")\n",
        "\n",
        "    ## MAjority Voting\n",
        "  y_predmv_inw=y_pred_inw[0:int(np.floor(len(y_pred_inw)/duration)*duration)]\n",
        "  y_predmv_inw=np.reshape(y_predmv_inw,(-1,duration))\n",
        "  y_predmv_inw=np.transpose(y_predmv_inw)\n",
        "  y_predmv_inw=np.apply_along_axis(most_frequent, 0, y_predmv_inw)\n",
        "  print(\"DNN Test Accuracy for Indoor Near Window \" + f\" with MV method: {np.mean(np.where(y_predmv_inw==2,1,0)):3f}\")\n",
        "\n",
        "\n",
        "  ## DT part\n",
        "  y_pred_ii=dt_mdl.predict(X_test_ii)\n",
        "  y_pred_inw=dt_mdl.predict(X_test_inw)\n",
        "  y_pred_o=dt_mdl.predict(X_test_o)\n",
        "  print(\"DT Test Accuracy for  Outdoors \"+ f\": {np.mean(np.where(y_pred_o==0,1,0)):3f}\")\n",
        "  print(\"DT Test Accuracy for  Indoors Interior \"+ f\": {np.mean(np.where(y_pred_ii==1,1,0)):3f}\")\n",
        "  print(\"DT Test Accuracy for  Indoors Near Window \"+ f\": {np.mean(np.where(y_pred_inw==2,1,0)):3f}\")\n",
        "\n",
        "   ## MAjority Voting\n",
        "  y_predmv_o=y_pred_o[0:int(np.floor(len(y_pred_o)/duration)*duration)]\n",
        "  y_predmv_o=np.reshape(y_predmv_o,(-1,duration))\n",
        "  y_predmv_o=np.transpose(y_predmv_o)\n",
        "  y_predmv_o=np.apply_along_axis(most_frequent, 0, y_predmv_o)\n",
        "  print(\"DT Test Accuracy for Outdoors \" + f\" with MV method: {np.mean(np.where(y_predmv_o==0,1,0)):3f}\")\n",
        "\n",
        "  ## MAjority Voting\n",
        "  y_predmv_ii=y_pred_ii[0:int(np.floor(len(y_pred_ii)/duration)*duration)]\n",
        "  y_predmv_ii=np.reshape(y_predmv_ii,(-1,duration))\n",
        "  y_predmv_ii=np.transpose(y_predmv_ii)\n",
        "  y_predmv_ii=np.apply_along_axis(most_frequent, 0, y_predmv_ii)\n",
        "  print(\"DT Test Accuracy for Indoor Interior \" + f\" with MV method: {np.mean(np.where(y_predmv_ii==1,1,0)):3f}\")\n",
        "\n",
        "    ## MAjority Voting\n",
        "  y_predmv_inw=y_pred_inw[0:int(np.floor(len(y_pred_inw)/duration)*duration)]\n",
        "  y_predmv_inw=np.reshape(y_predmv_inw,(-1,duration))\n",
        "  y_predmv_inw=np.transpose(y_predmv_inw)\n",
        "  y_predmv_inw=np.apply_along_axis(most_frequent, 0, y_predmv_inw)\n",
        "  print(\"DT Test Accuracy for Indoor Near Window \" + f\" with MV method: {np.mean(np.where(y_predmv_inw==2,1,0)):3f}\")\n",
        "\n",
        "\n",
        "\n",
        "  ## RF part\n",
        "  y_pred_ii=rf_mdl.predict(X_test_ii)\n",
        "  y_pred_inw=rf_mdl.predict(X_test_inw)\n",
        "  y_pred_o=rf_mdl.predict(X_test_o)\n",
        "  print(\"RF Test Accuracy for  Outdoors \"+ f\": {np.mean(np.where(y_pred_o==0,1,0)):3f}\")\n",
        "  print(\"RF Test Accuracy for  Indoors Interior \"+ f\": {np.mean(np.where(y_pred_ii==1,1,0)):3f}\")\n",
        "  print(\"RF Test Accuracy for  Indoors Near Window \"+ f\": {np.mean(np.where(y_pred_inw==2,1,0)):3f}\")\n",
        "\n",
        "  ## MAjority Voting\n",
        "  y_predmv_o=y_pred_o[0:int(np.floor(len(y_pred_o)/duration)*duration)]\n",
        "  y_predmv_o=np.reshape(y_predmv_o,(-1,duration))\n",
        "  y_predmv_o=np.transpose(y_predmv_o)\n",
        "  y_predmv_o=np.apply_along_axis(most_frequent, 0, y_predmv_o)\n",
        "  print(\"RF Test Accuracy for Outdoors \" + f\" with MV method: {np.mean(np.where(y_predmv_o==0,1,0)):3f}\")\n",
        "\n",
        "  ## MAjority Voting\n",
        "  y_predmv_ii=y_pred_ii[0:int(np.floor(len(y_pred_ii)/duration)*duration)]\n",
        "  y_predmv_ii=np.reshape(y_predmv_ii,(-1,duration))\n",
        "  y_predmv_ii=np.transpose(y_predmv_ii)\n",
        "  y_predmv_ii=np.apply_along_axis(most_frequent, 0, y_predmv_ii)\n",
        "  print(\"RF Test Accuracy for Indoor Interior \" + f\" with MV method: {np.mean(np.where(y_predmv_ii==1,1,0)):3f}\")\n",
        "\n",
        "   ## MAjority Voting\n",
        "  y_predmv_inw=y_pred_inw[0:int(np.floor(len(y_pred_inw)/duration)*duration)]\n",
        "  y_predmv_inw=np.reshape(y_predmv_inw,(-1,duration))\n",
        "  y_predmv_inw=np.transpose(y_predmv_inw)\n",
        "  y_predmv_inw=np.apply_along_axis(most_frequent, 0, y_predmv_inw)\n",
        "  print(\"RF Test Accuracy for Indoor Near Window \" + f\" with MV method: {np.mean(np.where(y_predmv_inw==2,1,0)):3f}\")"
      ],
      "metadata": {
        "id": "2X6aMOeQbuaT"
      },
      "execution_count": null,
      "outputs": []
    },
    {
      "cell_type": "code",
      "source": [
        "dnn_mdl=test_model\n",
        "dt_mdl=clf_tree\n",
        "rf_mdl=clf_rf\n",
        "duration=6\n",
        "three_classes_MV(X_test,Y_test,dnn_mdl,dt_mdl,rf_mdl,duration)"
      ],
      "metadata": {
        "id": "XtxPQW_fdl0x",
        "colab": {
          "base_uri": "https://localhost:8080/"
        },
        "outputId": "bc23bc36-1343-4297-8a1c-1d6b7587de80"
      },
      "execution_count": null,
      "outputs": [
        {
          "output_type": "stream",
          "name": "stdout",
          "text": [
            "\u001b[1m143/143\u001b[0m \u001b[32m━━━━━━━━━━━━━━━━━━━━\u001b[0m\u001b[37m\u001b[0m \u001b[1m0s\u001b[0m 1ms/step\n",
            "\u001b[1m132/132\u001b[0m \u001b[32m━━━━━━━━━━━━━━━━━━━━\u001b[0m\u001b[37m\u001b[0m \u001b[1m0s\u001b[0m 1ms/step\n",
            "\u001b[1m152/152\u001b[0m \u001b[32m━━━━━━━━━━━━━━━━━━━━\u001b[0m\u001b[37m\u001b[0m \u001b[1m0s\u001b[0m 1ms/step\n",
            "DNN Test Accuracy for  Outdoors : 0.957403\n",
            "DNN Test Accuracy for  Indoors Interior : 0.908134\n",
            "DNN Test Accuracy for  Indoors Near Window : 0.892491\n",
            "DNN Test Accuracy for Outdoors  with MV method: 1.000000\n",
            "DNN Test Accuracy for Indoor Interior  with MV method: 0.998684\n",
            "DNN Test Accuracy for Indoor Near Window  with MV method: 0.987124\n",
            "DT Test Accuracy for  Outdoors : 0.957610\n",
            "DT Test Accuracy for  Indoors Interior : 0.919316\n",
            "DT Test Accuracy for  Indoors Near Window : 0.840763\n",
            "DT Test Accuracy for Outdoors  with MV method: 1.000000\n",
            "DT Test Accuracy for Indoor Interior  with MV method: 0.998684\n",
            "DT Test Accuracy for Indoor Near Window  with MV method: 0.955651\n",
            "RF Test Accuracy for  Outdoors : 0.964020\n",
            "RF Test Accuracy for  Indoors Interior : 0.906599\n",
            "RF Test Accuracy for  Indoors Near Window : 0.882241\n",
            "RF Test Accuracy for Outdoors  with MV method: 1.000000\n",
            "RF Test Accuracy for Indoor Interior  with MV method: 0.997368\n",
            "RF Test Accuracy for Indoor Near Window  with MV method: 0.978541\n"
          ]
        }
      ]
    },
    {
      "cell_type": "code",
      "source": [
        "\n",
        "y_pred_ii=clf_tree.predict(X_test_ii)\n",
        "print(f\"Decision Tree Test Accuracy for Indoor Interior: {np.mean(np.where(y_pred_ii==1,1,0)):3f}\")\n",
        "\n",
        "y_pred_inw=clf_tree.predict(X_test_inw)\n",
        "print(f\"Decision Tree Test Accuracy for Indoor Near Window: {np.mean(np.where(y_pred_inw==2,1,0)):3f}\")\n",
        "\n",
        "clf_rf = RandomForestClassifier(n_estimators = 10, criterion = 'entropy', random_state = 42)\n",
        "\n",
        "\n",
        "\n",
        "y_pred=clf_tree.predict(X_test)\n",
        "print(f\"Decision Tree Test Accuracy : {np.mean(np.where(y_pred-Y_test==0,1,0))}\")\n",
        "\n",
        "y_pred_o=clf_tree.predict(X_test_o)\n",
        "print(f\"Decision Tree Test Accuracy for Outdoor: {np.mean(np.where(y_pred_o==0,1,0)):3f}\")\n",
        "\n",
        "y_pred_ii=clf_tree.predict(X_test_ii)\n",
        "print(f\"Decision Tree Test Accuracy for Indoor Interior: {np.mean(np.where(y_pred_ii==1,1,0)):3f}\")\n",
        "\n",
        "y_pred_inw=clf_tree.predict(X_test_inw)\n",
        "print(f\"Decision Tree Test Accuracy for Indoor Near Window: {np.mean(np.where(y_pred_inw==2,1,0)):3f}\")\n",
        "\n",
        "clf_rf = RandomForestClassifier(n_estimators = 10, criterion = 'entropy', random_state = 42)\n",
        "\n",
        "\n",
        "clf_rf.fit(X_train, Y_train)\n",
        "y_pred=clf_rf.predict(X_test)\n",
        "print(f\"Random Forest Test Accuracy : {np.mean(np.where(y_pred-Y_test==0,1,0))}\")\n",
        "\n",
        "y_pred_o=clf_rf.predict(X_test_o)\n",
        "print(f\"Random Forest Test Accuracy for Outdoor: {np.mean(np.where(y_pred_o==0,1,0)):3f}\")\n",
        "\n",
        "y_pred_ii=clf_rf.predict(X_test_ii)\n",
        "print(f\"Random Forest Test Accuracy for Indoor Interior: {np.mean(np.where(y_pred_ii==1,1,0)):3f}\")\n",
        "\n",
        "y_pred_inw=clf_rf.predict(X_test_inw)\n",
        "print(f\"Random Forest Test Accuracy for Indoor Near Window: {np.mean(np.where(y_pred_inw==2,1,0)):3f}\")\n"
      ],
      "metadata": {
        "id": "nS9FjFFYJhZp",
        "colab": {
          "base_uri": "https://localhost:8080/"
        },
        "outputId": "febdae53-bb83-47e7-9916-c600d974d2f5"
      },
      "execution_count": null,
      "outputs": [
        {
          "output_type": "stream",
          "name": "stdout",
          "text": [
            "Decision Tree Test Accuracy for Indoor Interior: 0.919316\n",
            "Decision Tree Test Accuracy for Indoor Near Window: 0.840763\n",
            "Decision Tree Test Accuracy : 0.9086962919364332\n",
            "Decision Tree Test Accuracy for Outdoor: 0.957610\n",
            "Decision Tree Test Accuracy for Indoor Interior: 0.919316\n",
            "Decision Tree Test Accuracy for Indoor Near Window: 0.840763\n",
            "Random Forest Test Accuracy : 0.9465862271924662\n",
            "Random Forest Test Accuracy for Outdoor: 0.977874\n",
            "Random Forest Test Accuracy for Indoor Interior: 0.932909\n",
            "Random Forest Test Accuracy for Indoor Near Window: 0.925387\n"
          ]
        }
      ]
    },
    {
      "cell_type": "markdown",
      "source": [
        "# DC Data"
      ],
      "metadata": {
        "id": "poEWrDMY7uRU"
      }
    },
    {
      "cell_type": "code",
      "source": [
        "df_atl_in = pd.read_csv('/content/drive/Shareddrives/Indoor_Outdoor_Classification_Paper/dc_ii.csv')\n",
        "df_atl_in=df_atl_in.iloc[:, 5:]\n",
        "del df_atl_in['ver_acc']\n",
        "#df_atl_in = df_atl_in.drop(columns=[col for col in df_atl_in.columns if \"6\" in col])\n",
        "df_atl_in = df_atl_in.drop(columns=[col for col in df_atl_in.columns if \"nr\" in col])\n",
        "idx=[1,6,40]\n",
        "\n",
        "df_atl_in=df_atl_in.iloc[:,idx]\n",
        "print(df_atl_in.columns)\n",
        "[a,b]=df_atl_in.shape\n",
        "print(a)\n",
        "df_atl_in.insert(b, \"classes\", 1*np.ones(a), True)\n",
        "\n",
        "\n",
        "\n",
        "frames3=[df_atl_in]\n",
        "df_atl=pd.concat(frames3)\n",
        "\n",
        "res_atl=df_atl.to_numpy()\n",
        "X_atl=res_atl[:,:b];\n",
        "Y_atl=res_atl[:,b];\n",
        "Y_atl[2]=2\n",
        "\n",
        "X_atl = train_scaler.transform(X_atl)\n",
        "y_atl = to_categorical(Y_atl)\n",
        "atl_loss, atl_acc = test_model.evaluate(X_atl,y_atl)\n",
        "print(f\"DNN Test Accuracy for DC indoor interrior  data: {atl_acc:.3f}\")\n",
        "y_pred_atl=clf_tree.predict(X_atl)\n",
        "print(f\"Decision Tree Test Accuracy for DC indoor interrior data : {np.mean(np.where(y_pred_atl==1,1,0))}\")\n",
        "\n",
        "y_pred_atl=clf_rf.predict(X_atl)\n",
        "print(f\"Random Forest Test Accuracy for DC indoor interrior  data : {np.mean(np.where(y_pred_atl==1,1,0))}\")"
      ],
      "metadata": {
        "colab": {
          "base_uri": "https://localhost:8080/"
        },
        "id": "NMqaAvjuf19S",
        "outputId": "b456d84e-c820-4aeb-943c-3bea4c5f021a"
      },
      "execution_count": null,
      "outputs": [
        {
          "output_type": "stream",
          "name": "stdout",
          "text": [
            "Index(['hor_acc', 'num_of_wifi_5', 'max_of_wifi_5'], dtype='object')\n",
            "4113\n",
            "129/129 [==============================] - 1s 4ms/step - loss: 0.8898 - accuracy: 0.6516\n",
            "DNN Test Accuracy for DC indoor interrior  data: 0.652\n",
            "Decision Tree Test Accuracy for DC indoor interrior data : 0.7065402382689034\n",
            "Random Forest Test Accuracy for DC indoor interrior  data : 0.5329443228786773\n"
          ]
        }
      ]
    },
    {
      "cell_type": "code",
      "source": [
        "df_atl_in = pd.read_csv('/content/drive/Shareddrives/Indoor_Outdoor_Classification_Paper/dc_inw.csv')\n",
        "df_atl_in=df_atl_in.iloc[:, 5:]\n",
        "del df_atl_in['ver_acc']\n",
        "#df_atl_in = df_atl_in.drop(columns=[col for col in df_atl_in.columns if \"6\" in col])\n",
        "df_atl_in = df_atl_in.drop(columns=[col for col in df_atl_in.columns if \"nr\" in col])\n",
        "idx=[1,6,40]\n",
        "\n",
        "df_atl_in=df_atl_in.iloc[:,idx]\n",
        "print(df_atl_in.columns)\n",
        "[a,b]=df_atl_in.shape\n",
        "print(a)\n",
        "df_atl_in.insert(b, \"classes\", 2*np.ones(a), True)\n",
        "\n",
        "\n",
        "frames3=[df_atl_in]\n",
        "df_atl=pd.concat(frames3)\n",
        "\n",
        "res_atl=df_atl.to_numpy()\n",
        "X_atl=res_atl[:,:b];\n",
        "Y_atl=res_atl[:,b];\n",
        "Y_atl[2]=2\n",
        "\n",
        "X_atl = train_scaler.transform(X_atl)\n",
        "y_atl = to_categorical(Y_atl)\n",
        "atl_loss, atl_acc = test_model.evaluate(X_atl,y_atl)\n",
        "print(f\"DNN Test Accuracy for DC indoor near window  data: {atl_acc:.3f}\")\n",
        "y_pred_atl=clf_tree.predict(X_atl)\n",
        "print(f\"Decision Tree Test Accuracy for DC indoor near window data : {np.mean(np.where(y_pred_atl==2,1,0))}\")\n",
        "\n",
        "y_pred_atl=clf_rf.predict(X_atl)\n",
        "print(f\"Random Forest Test Accuracy for DC indoor near window  data : {np.mean(np.where(y_pred_atl==2,1,0))}\")"
      ],
      "metadata": {
        "colab": {
          "base_uri": "https://localhost:8080/"
        },
        "id": "SrpNr0UAVGku",
        "outputId": "7f2f6946-ea36-4f93-aba4-1e85f72bba94"
      },
      "execution_count": null,
      "outputs": [
        {
          "output_type": "stream",
          "name": "stdout",
          "text": [
            "Index(['hor_acc', 'num_of_wifi_5', 'max_of_wifi_5'], dtype='object')\n",
            "219\n",
            "7/7 [==============================] - 0s 4ms/step - loss: 0.6647 - accuracy: 0.6438\n",
            "DNN Test Accuracy for DC indoor near window  data: 0.644\n",
            "Decision Tree Test Accuracy for DC indoor near window data : 0.3698630136986301\n",
            "Random Forest Test Accuracy for DC indoor near window  data : 0.5844748858447488\n"
          ]
        }
      ]
    },
    {
      "cell_type": "code",
      "source": [
        "df_atl_in = pd.read_csv('/content/drive/Shareddrives/Indoor_Outdoor_Classification_Paper/dc_o.csv')\n",
        "df_atl_in=df_atl_in.iloc[:, 5:]\n",
        "del df_atl_in['ver_acc']\n",
        "#df_atl_in = df_atl_in.drop(columns=[col for col in df_atl_in.columns if \"6\" in col])\n",
        "df_atl_in = df_atl_in.drop(columns=[col for col in df_atl_in.columns if \"nr\" in col])\n",
        "idx=[1,6,40]\n",
        "\n",
        "df_atl_in=df_atl_in.iloc[:,idx]\n",
        "print(df_atl_in.columns)\n",
        "[a,b]=df_atl_in.shape\n",
        "print(a)\n",
        "df_atl_in.insert(b, \"classes\", 0*np.ones(a), True)\n",
        "\n",
        "\n",
        "frames3=[df_atl_in]\n",
        "df_atl=pd.concat(frames3)\n",
        "\n",
        "res_atl=df_atl.to_numpy()\n",
        "X_atl=res_atl[:,:b];\n",
        "Y_atl=res_atl[:,b];\n",
        "\n",
        "X_atl = train_scaler.transform(X_atl)\n",
        "y_atl = to_categorical(Y_atl)\n",
        "atl_loss, atl_acc = test_model.evaluate(X_atl,y_atl)\n",
        "print(f\"DNN Test Accuracy for DC outdoors  data: {atl_acc:.3f}\")\n",
        "y_pred_atl=clf_tree.predict(X_atl)\n",
        "print(f\"Decision Tree Test Accuracy for DC outdoors data : {np.mean(np.where(y_pred_atl==0,1,0))}\")\n",
        "\n",
        "y_pred_atl=clf_rf.predict(X_atl)\n",
        "print(f\"Random Forest Test Accuracy for DC outdoors  data : {np.mean(np.where(y_pred_atl==0,1,0))}\")"
      ],
      "metadata": {
        "colab": {
          "base_uri": "https://localhost:8080/"
        },
        "id": "VFXPFkw6jfWk",
        "outputId": "dd4a2dc3-de39-436c-971f-7dc207a654ca"
      },
      "execution_count": null,
      "outputs": [
        {
          "output_type": "stream",
          "name": "stdout",
          "text": [
            "Index(['hor_acc', 'num_of_wifi_5', 'max_of_wifi_5'], dtype='object')\n",
            "975\n",
            "31/31 [==============================] - 0s 3ms/step - loss: 41.1579 - accuracy: 0.8585\n",
            "DNN Test Accuracy for DC outdoors  data: 0.858\n",
            "Decision Tree Test Accuracy for DC outdoors data : 0.8348717948717949\n",
            "Random Forest Test Accuracy for DC outdoors  data : 0.8451282051282051\n"
          ]
        }
      ]
    },
    {
      "cell_type": "code",
      "source": [
        "!pip install git+https://github.com/slundberg/shap.git"
      ],
      "metadata": {
        "colab": {
          "base_uri": "https://localhost:8080/"
        },
        "id": "T3zfADHYAIeG",
        "outputId": "65be076f-dc2a-41f8-c4a1-bfedcaf14ea5"
      },
      "execution_count": null,
      "outputs": [
        {
          "output_type": "stream",
          "name": "stdout",
          "text": [
            "Collecting git+https://github.com/slundberg/shap.git\n",
            "  Cloning https://github.com/slundberg/shap.git to /tmp/pip-req-build-_tuncm8j\n",
            "  Running command git clone --filter=blob:none --quiet https://github.com/slundberg/shap.git /tmp/pip-req-build-_tuncm8j\n",
            "  Resolved https://github.com/slundberg/shap.git to commit 285700999580a8df10cf096028733d51b812c063\n",
            "  Installing build dependencies ... \u001b[?25l\u001b[?25hdone\n",
            "  Getting requirements to build wheel ... \u001b[?25l\u001b[?25hdone\n",
            "  Preparing metadata (pyproject.toml) ... \u001b[?25l\u001b[?25hdone\n",
            "Requirement already satisfied: numpy in /usr/local/lib/python3.10/dist-packages (from shap==0.46.1.dev25) (1.25.2)\n",
            "Requirement already satisfied: scipy in /usr/local/lib/python3.10/dist-packages (from shap==0.46.1.dev25) (1.11.4)\n",
            "Requirement already satisfied: scikit-learn in /usr/local/lib/python3.10/dist-packages (from shap==0.46.1.dev25) (1.2.2)\n",
            "Requirement already satisfied: pandas in /usr/local/lib/python3.10/dist-packages (from shap==0.46.1.dev25) (2.0.3)\n",
            "Requirement already satisfied: tqdm>=4.27.0 in /usr/local/lib/python3.10/dist-packages (from shap==0.46.1.dev25) (4.66.4)\n",
            "Requirement already satisfied: packaging>20.9 in /usr/local/lib/python3.10/dist-packages (from shap==0.46.1.dev25) (24.1)\n",
            "Collecting slicer==0.0.8 (from shap==0.46.1.dev25)\n",
            "  Downloading slicer-0.0.8-py3-none-any.whl.metadata (4.0 kB)\n",
            "Requirement already satisfied: numba in /usr/local/lib/python3.10/dist-packages (from shap==0.46.1.dev25) (0.58.1)\n",
            "Requirement already satisfied: cloudpickle in /usr/local/lib/python3.10/dist-packages (from shap==0.46.1.dev25) (2.2.1)\n",
            "Requirement already satisfied: llvmlite<0.42,>=0.41.0dev0 in /usr/local/lib/python3.10/dist-packages (from numba->shap==0.46.1.dev25) (0.41.1)\n",
            "Requirement already satisfied: python-dateutil>=2.8.2 in /usr/local/lib/python3.10/dist-packages (from pandas->shap==0.46.1.dev25) (2.8.2)\n",
            "Requirement already satisfied: pytz>=2020.1 in /usr/local/lib/python3.10/dist-packages (from pandas->shap==0.46.1.dev25) (2023.4)\n",
            "Requirement already satisfied: tzdata>=2022.1 in /usr/local/lib/python3.10/dist-packages (from pandas->shap==0.46.1.dev25) (2024.1)\n",
            "Requirement already satisfied: joblib>=1.1.1 in /usr/local/lib/python3.10/dist-packages (from scikit-learn->shap==0.46.1.dev25) (1.4.2)\n",
            "Requirement already satisfied: threadpoolctl>=2.0.0 in /usr/local/lib/python3.10/dist-packages (from scikit-learn->shap==0.46.1.dev25) (3.5.0)\n",
            "Requirement already satisfied: six>=1.5 in /usr/local/lib/python3.10/dist-packages (from python-dateutil>=2.8.2->pandas->shap==0.46.1.dev25) (1.16.0)\n",
            "Downloading slicer-0.0.8-py3-none-any.whl (15 kB)\n",
            "Building wheels for collected packages: shap\n",
            "  Building wheel for shap (pyproject.toml) ... \u001b[?25l\u001b[?25hdone\n",
            "  Created wheel for shap: filename=shap-0.46.1.dev25-cp310-cp310-linux_x86_64.whl size=2774372 sha256=124d55aa8d45cf6b25427d80dbf6ee72a44b9ca901fa9545417c8ed2b36c427c\n",
            "  Stored in directory: /tmp/pip-ephem-wheel-cache-8j9ljg5c/wheels/14/bf/49/d79d13e2a727f02634e9286ea3763a8c2c2938172e6549de04\n",
            "Successfully built shap\n",
            "Installing collected packages: slicer, shap\n",
            "Successfully installed shap-0.46.1.dev25 slicer-0.0.8\n"
          ]
        }
      ]
    },
    {
      "cell_type": "code",
      "source": [
        "import shap"
      ],
      "metadata": {
        "id": "r8FLcy1OAVqh"
      },
      "execution_count": null,
      "outputs": []
    },
    {
      "cell_type": "code",
      "source": [
        "explainer=shap.Explainer(rf_mdl)\n",
        "shapvalues=explainer(X_test)\n"
      ],
      "metadata": {
        "id": "isNLWVexCkLP"
      },
      "execution_count": null,
      "outputs": []
    },
    {
      "cell_type": "code",
      "source": [
        "np.shape(shapvalues.values)"
      ],
      "metadata": {
        "colab": {
          "base_uri": "https://localhost:8080/"
        },
        "id": "CKWOK8kgDiOU",
        "outputId": "57dba83e-e665-4aeb-89ff-c7c121792896"
      },
      "execution_count": null,
      "outputs": [
        {
          "output_type": "execute_result",
          "data": {
            "text/plain": [
              "(13592, 44, 3)"
            ]
          },
          "metadata": {},
          "execution_count": 45
        }
      ]
    },
    {
      "cell_type": "code",
      "source": [
        "np.shape(X_test)"
      ],
      "metadata": {
        "colab": {
          "base_uri": "https://localhost:8080/"
        },
        "id": "AwxnV192EgS1",
        "outputId": "9c5a437c-806f-4a8d-96be-26284e0d3106"
      },
      "execution_count": null,
      "outputs": [
        {
          "output_type": "execute_result",
          "data": {
            "text/plain": [
              "(13592, 44)"
            ]
          },
          "metadata": {},
          "execution_count": 51
        }
      ]
    },
    {
      "cell_type": "code",
      "source": [
        "shap.summary_plot(shapvalues[0,0], X_test)"
      ],
      "metadata": {
        "colab": {
          "base_uri": "https://localhost:8080/",
          "height": 280
        },
        "id": "q0R8XiMiC5JV",
        "outputId": "b3b8868d-20d7-4e42-ae2f-4658af206630"
      },
      "execution_count": null,
      "outputs": [
        {
          "output_type": "error",
          "ename": "AssertionError",
          "evalue": "Summary plots need a matrix of shap_values, not a vector.",
          "traceback": [
            "\u001b[0;31m---------------------------------------------------------------------------\u001b[0m",
            "\u001b[0;31mAssertionError\u001b[0m                            Traceback (most recent call last)",
            "\u001b[0;32m<ipython-input-55-89b7f4742398>\u001b[0m in \u001b[0;36m<cell line: 1>\u001b[0;34m()\u001b[0m\n\u001b[0;32m----> 1\u001b[0;31m \u001b[0mshap\u001b[0m\u001b[0;34m.\u001b[0m\u001b[0msummary_plot\u001b[0m\u001b[0;34m(\u001b[0m\u001b[0mshapvalues\u001b[0m\u001b[0;34m[\u001b[0m\u001b[0;36m0\u001b[0m\u001b[0;34m,\u001b[0m\u001b[0;36m0\u001b[0m\u001b[0;34m]\u001b[0m\u001b[0;34m,\u001b[0m \u001b[0mX_test\u001b[0m\u001b[0;34m)\u001b[0m\u001b[0;34m\u001b[0m\u001b[0;34m\u001b[0m\u001b[0m\n\u001b[0m",
            "\u001b[0;32m/usr/local/lib/python3.10/dist-packages/shap/plots/_beeswarm.py\u001b[0m in \u001b[0;36msummary_legacy\u001b[0;34m(shap_values, features, feature_names, max_display, plot_type, color, axis_color, title, alpha, show, sort, color_bar, plot_size, layered_violin_max_num_bins, class_names, class_inds, color_bar_label, cmap, show_values_in_legend, use_log_scale)\u001b[0m\n\u001b[1;32m    551\u001b[0m         \u001b[0;32mif\u001b[0m \u001b[0mplot_type\u001b[0m \u001b[0;32mis\u001b[0m \u001b[0;32mNone\u001b[0m\u001b[0;34m:\u001b[0m\u001b[0;34m\u001b[0m\u001b[0;34m\u001b[0m\u001b[0m\n\u001b[1;32m    552\u001b[0m             \u001b[0mplot_type\u001b[0m \u001b[0;34m=\u001b[0m \u001b[0;34m\"dot\"\u001b[0m  \u001b[0;31m# default for single output explanations\u001b[0m\u001b[0;34m\u001b[0m\u001b[0;34m\u001b[0m\u001b[0m\n\u001b[0;32m--> 553\u001b[0;31m         \u001b[0;32massert\u001b[0m \u001b[0mlen\u001b[0m\u001b[0;34m(\u001b[0m\u001b[0mshap_values\u001b[0m\u001b[0;34m.\u001b[0m\u001b[0mshape\u001b[0m\u001b[0;34m)\u001b[0m \u001b[0;34m!=\u001b[0m \u001b[0;36m1\u001b[0m\u001b[0;34m,\u001b[0m \u001b[0;34m\"Summary plots need a matrix of shap_values, not a vector.\"\u001b[0m\u001b[0;34m\u001b[0m\u001b[0;34m\u001b[0m\u001b[0m\n\u001b[0m\u001b[1;32m    554\u001b[0m \u001b[0;34m\u001b[0m\u001b[0m\n\u001b[1;32m    555\u001b[0m     \u001b[0;31m# default color:\u001b[0m\u001b[0;34m\u001b[0m\u001b[0;34m\u001b[0m\u001b[0m\n",
            "\u001b[0;31mAssertionError\u001b[0m: Summary plots need a matrix of shap_values, not a vector."
          ]
        }
      ]
    },
    {
      "cell_type": "code",
      "source": [
        "shap.plots.beeswarm(shapvalues)"
      ],
      "metadata": {
        "colab": {
          "base_uri": "https://localhost:8080/",
          "height": 263
        },
        "id": "qFlbm8tRFuDn",
        "outputId": "2f3d3cf4-b8d6-4426-bfe2-0ddb2c065376"
      },
      "execution_count": null,
      "outputs": [
        {
          "output_type": "error",
          "ename": "ValueError",
          "evalue": "The beeswarm plot does not support plotting explanations with instances that have more than one dimension!",
          "traceback": [
            "\u001b[0;31m---------------------------------------------------------------------------\u001b[0m",
            "\u001b[0;31mValueError\u001b[0m                                Traceback (most recent call last)",
            "\u001b[0;32m<ipython-input-56-9292c2df48f0>\u001b[0m in \u001b[0;36m<cell line: 1>\u001b[0;34m()\u001b[0m\n\u001b[0;32m----> 1\u001b[0;31m \u001b[0mshap\u001b[0m\u001b[0;34m.\u001b[0m\u001b[0mplots\u001b[0m\u001b[0;34m.\u001b[0m\u001b[0mbeeswarm\u001b[0m\u001b[0;34m(\u001b[0m\u001b[0mshapvalues\u001b[0m\u001b[0;34m)\u001b[0m\u001b[0;34m\u001b[0m\u001b[0;34m\u001b[0m\u001b[0m\n\u001b[0m",
            "\u001b[0;32m/usr/local/lib/python3.10/dist-packages/shap/plots/_beeswarm.py\u001b[0m in \u001b[0;36mbeeswarm\u001b[0;34m(shap_values, max_display, order, clustering, cluster_threshold, color, axis_color, alpha, show, log_scale, color_bar, s, plot_size, color_bar_label)\u001b[0m\n\u001b[1;32m     93\u001b[0m             \u001b[0;34m\"than one dimension!\"\u001b[0m\u001b[0;34m\u001b[0m\u001b[0;34m\u001b[0m\u001b[0m\n\u001b[1;32m     94\u001b[0m         )\n\u001b[0;32m---> 95\u001b[0;31m         \u001b[0;32mraise\u001b[0m \u001b[0mValueError\u001b[0m\u001b[0;34m(\u001b[0m\u001b[0memsg\u001b[0m\u001b[0;34m)\u001b[0m\u001b[0;34m\u001b[0m\u001b[0;34m\u001b[0m\u001b[0m\n\u001b[0m\u001b[1;32m     96\u001b[0m \u001b[0;34m\u001b[0m\u001b[0m\n\u001b[1;32m     97\u001b[0m     \u001b[0mshap_exp\u001b[0m \u001b[0;34m=\u001b[0m \u001b[0mshap_values\u001b[0m\u001b[0;34m\u001b[0m\u001b[0;34m\u001b[0m\u001b[0m\n",
            "\u001b[0;31mValueError\u001b[0m: The beeswarm plot does not support plotting explanations with instances that have more than one dimension!"
          ]
        }
      ]
    },
    {
      "cell_type": "code",
      "source": [
        "shapvalues[0]"
      ],
      "metadata": {
        "colab": {
          "base_uri": "https://localhost:8080/"
        },
        "id": "-IGI0mQVDYff",
        "outputId": "83e4272b-b684-4f48-b200-035754890470"
      },
      "execution_count": null,
      "outputs": [
        {
          "output_type": "execute_result",
          "data": {
            "text/plain": [
              ".values =\n",
              "array([[-1.40356434e-03, -1.83361044e-03,  3.23717478e-03],\n",
              "       [-2.15198650e-02,  5.74524134e-03,  1.57746236e-02],\n",
              "       [-2.07556483e-04,  5.17454160e-04, -3.09897677e-04],\n",
              "       [-3.03946879e-02,  2.72317888e-02,  3.16289908e-03],\n",
              "       [-4.38405218e-03,  3.64865601e-03,  7.35396166e-04],\n",
              "       [-5.14822036e-03, -4.57196527e-03,  9.72018563e-03],\n",
              "       [-9.78819749e-02, -4.45646394e-02,  1.42446614e-01],\n",
              "       [-1.13106258e-02, -8.92138513e-02,  1.00524477e-01],\n",
              "       [ 1.22583754e-04,  9.47815246e-04, -1.07039900e-03],\n",
              "       [ 3.35458403e-03, -1.44582561e-02,  1.11036721e-02],\n",
              "       [ 1.72146007e-04, -4.73423626e-03,  4.56209025e-03],\n",
              "       [ 2.29247977e-03, -9.57704888e-03,  7.28456911e-03],\n",
              "       [ 3.04134679e-03, -3.24008181e-02,  2.93594713e-02],\n",
              "       [ 5.11370163e-03, -2.16920339e-03, -2.94449824e-03],\n",
              "       [-1.31289787e-02, -1.62530706e-02,  2.93820493e-02],\n",
              "       [-1.86461606e-03,  3.35884907e-04,  1.52873116e-03],\n",
              "       [ 3.31699047e-04, -1.95885445e-02,  1.92568454e-02],\n",
              "       [-3.09391817e-03,  9.88156032e-03, -6.78764215e-03],\n",
              "       [-2.73187394e-03, -3.27854255e-02,  3.55172994e-02],\n",
              "       [-4.81835915e-03, -3.50937366e-04,  5.16929652e-03],\n",
              "       [-2.50406869e-03,  1.11361727e-03,  1.39045142e-03],\n",
              "       [-9.33457675e-03,  2.82981037e-04,  9.05159571e-03],\n",
              "       [ 1.05622214e-04, -1.62232974e-02,  1.61176752e-02],\n",
              "       [-4.10585982e-04, -1.11907833e-03,  1.52966432e-03],\n",
              "       [-2.11265532e-03, -1.99755285e-02,  2.20881838e-02],\n",
              "       [-1.47212506e-03,  6.70584638e-03, -5.23372131e-03],\n",
              "       [ 5.10176621e-04, -1.33523894e-04, -3.76652727e-04],\n",
              "       [ 4.08320851e-04, -3.56643946e-05, -3.72656457e-04],\n",
              "       [-3.11607359e-03,  4.44808581e-03, -1.33201222e-03],\n",
              "       [ 1.72847623e-03,  6.66931293e-04, -2.39540752e-03],\n",
              "       [ 7.65063979e-05,  9.57935011e-04, -1.03444141e-03],\n",
              "       [-5.63507527e-04,  5.46675297e-04,  1.68322303e-05],\n",
              "       [-2.94019186e-02, -2.30112742e-02,  5.24131927e-02],\n",
              "       [-7.83952961e-03, -2.75125897e-03,  1.05907886e-02],\n",
              "       [-4.77293837e-03,  4.11832932e-03,  6.54609049e-04],\n",
              "       [-8.68429577e-03, -9.23276530e-03,  1.79170611e-02],\n",
              "       [-2.21360683e-02, -5.82886887e-02,  8.04247570e-02],\n",
              "       [-3.02985916e-03,  1.01037679e-02, -7.07390879e-03],\n",
              "       [-1.49525777e-02, -2.27779571e-03,  1.72303734e-02],\n",
              "       [ 8.54702088e-04, -1.42817743e-03,  5.73475345e-04],\n",
              "       [-5.59927353e-02, -3.10237092e-03,  5.90951063e-02],\n",
              "       [ 8.93066661e-04,  5.94438356e-04, -1.48750502e-03],\n",
              "       [-9.78263694e-03,  5.71130898e-03,  4.07132797e-03],\n",
              "       [-1.05253733e-03, -5.25785287e-03,  6.31039020e-03]])\n",
              "\n",
              ".base_values =\n",
              "array([0.35604157, 0.33548055, 0.30847788])\n",
              "\n",
              ".data =\n",
              "array([ 0.72695846, -0.16899413, -0.59693888,  0.34126108, -0.87631208,\n",
              "        1.91039798,  1.76710886,  2.25111419,  0.58538423,  1.0772007 ,\n",
              "        0.58375907,  1.07688443,  0.58559719,  1.07209081, -0.97421156,\n",
              "        1.58800918, -0.9923892 ,  1.58954566, -0.88925195,  1.57802612,\n",
              "       -0.78735299,  1.39839419, -0.90050128,  1.40536635, -0.57605705,\n",
              "        1.28471797,  0.31538845,  0.40796481,  0.39222351,  0.73836166,\n",
              "        0.7501841 ,  0.67099098,  0.67687372,  0.33667938, -0.90068041,\n",
              "        0.51738698,  0.30701366, -1.07726075,  0.93383697, -0.28590185,\n",
              "        0.63840501, -0.3335517 , -0.70881643, -1.48427388])"
            ]
          },
          "metadata": {},
          "execution_count": 44
        }
      ]
    },
    {
      "cell_type": "code",
      "source": [
        "dir_file='/content/drive/Shareddrives/Indoor_Outdoor_Classification_Paper/dc_ii5.csv';\n",
        "class_label=1\n",
        "scaler=train_scaler\n",
        "dnn_mdl=test_model\n",
        "dt_mdl=clf_tree\n",
        "rf_mdl=clf_rf\n",
        "tag=\"DC Indoor Interrior\"\n",
        "three_classes(dir_file,class_label,scaler,dnn_mdl,dt_mdl,rf_mdl,tag)"
      ],
      "metadata": {
        "colab": {
          "base_uri": "https://localhost:8080/",
          "height": 176
        },
        "id": "_l73cRxdsnjc",
        "outputId": "2188686b-2804-43cf-c8ef-506d8cc18ab3"
      },
      "execution_count": null,
      "outputs": [
        {
          "output_type": "error",
          "ename": "TypeError",
          "evalue": "three_classes_MV() takes 6 positional arguments but 7 were given",
          "traceback": [
            "\u001b[0;31m---------------------------------------------------------------------------\u001b[0m",
            "\u001b[0;31mTypeError\u001b[0m                                 Traceback (most recent call last)",
            "\u001b[0;32m<ipython-input-40-e249ef1001f7>\u001b[0m in \u001b[0;36m<cell line: 8>\u001b[0;34m()\u001b[0m\n\u001b[1;32m      6\u001b[0m \u001b[0mrf_mdl\u001b[0m\u001b[0;34m=\u001b[0m\u001b[0mclf_rf\u001b[0m\u001b[0;34m\u001b[0m\u001b[0;34m\u001b[0m\u001b[0m\n\u001b[1;32m      7\u001b[0m \u001b[0mtag\u001b[0m\u001b[0;34m=\u001b[0m\u001b[0;34m\"DC Indoor Interrior\"\u001b[0m\u001b[0;34m\u001b[0m\u001b[0;34m\u001b[0m\u001b[0m\n\u001b[0;32m----> 8\u001b[0;31m \u001b[0mthree_classes_MV\u001b[0m\u001b[0;34m(\u001b[0m\u001b[0mdir_file\u001b[0m\u001b[0;34m,\u001b[0m\u001b[0mclass_label\u001b[0m\u001b[0;34m,\u001b[0m\u001b[0mscaler\u001b[0m\u001b[0;34m,\u001b[0m\u001b[0mdnn_mdl\u001b[0m\u001b[0;34m,\u001b[0m\u001b[0mdt_mdl\u001b[0m\u001b[0;34m,\u001b[0m\u001b[0mrf_mdl\u001b[0m\u001b[0;34m,\u001b[0m\u001b[0mtag\u001b[0m\u001b[0;34m)\u001b[0m\u001b[0;34m\u001b[0m\u001b[0;34m\u001b[0m\u001b[0m\n\u001b[0m",
            "\u001b[0;31mTypeError\u001b[0m: three_classes_MV() takes 6 positional arguments but 7 were given"
          ]
        }
      ]
    },
    {
      "cell_type": "code",
      "source": [
        "  df=pd.read_csv(dir_file)\n",
        "  df=df.iloc[:, 5:]\n",
        "  [a,b]=df.shape\n",
        "  df.insert(b, \"classes\", class_label*np.ones(a), True)\n",
        "  frames=[df]\n",
        "  df_res=pd.concat(frames)\n",
        "  res_arr=df_res.to_numpy()\n",
        "  X=res_arr[:,:b];\n",
        "  Y=res_arr[:,b];\n",
        "  X=scaler.transform(X)\n",
        "  y=to_categorical(Y)\n",
        "\n",
        "  ## DNN part\n",
        "  y_pred=dnn_mdl.predict(X)\n",
        "  y_pred=np.argmax(y_pred,axis=1)\n",
        "  print(\"DNN Test Accuracy for \" +tag+ f\": {np.mean(np.where(y_pred==class_label,1,0)):3f}\")"
      ],
      "metadata": {
        "colab": {
          "base_uri": "https://localhost:8080/"
        },
        "id": "qlzcmweBA3D0",
        "outputId": "73090a5a-746f-418c-d6ce-aed87fc2f9af"
      },
      "execution_count": null,
      "outputs": [
        {
          "output_type": "stream",
          "name": "stdout",
          "text": [
            "775/775 [==============================] - 4s 5ms/step\n",
            "DNN Test Accuracy for DC Indoor Interrior: 0.172200\n"
          ]
        }
      ]
    },
    {
      "cell_type": "code",
      "source": [
        "  y_predmv=y_pred[0:int(np.floor(len(y_pred)/6)*6)]\n",
        "  y_predmv=np.reshape(y_predmv,(-1,6))\n",
        "  y_predmv=np.transpose(y_predmv)\n",
        "  y_predmv=np.sum(y_predmv,axis=0)/6\n",
        "  y_predmv=[np.where(y_predmv>0.5,1,0)]\n",
        "  y_mv=np.ones(int(len(y_predmv)))"
      ],
      "metadata": {
        "id": "moPHQNaEA8RF"
      },
      "execution_count": null,
      "outputs": []
    },
    {
      "cell_type": "code",
      "source": [
        "shape(y_predmv)"
      ],
      "metadata": {
        "colab": {
          "base_uri": "https://localhost:8080/"
        },
        "id": "xrnZkiCyBejk",
        "outputId": "24d19b63-a6f8-4ca1-908e-ad3a9f9388af"
      },
      "execution_count": null,
      "outputs": [
        {
          "output_type": "execute_result",
          "data": {
            "text/plain": [
              "(1, 4131)"
            ]
          },
          "metadata": {},
          "execution_count": 136
        }
      ]
    },
    {
      "cell_type": "code",
      "source": [
        "def most_frequent(row):\n",
        "    unique, counts = np.unique(row, return_counts=True)\n",
        "    return unique[np.argmax(counts)]"
      ],
      "metadata": {
        "id": "2w7_iYOjA-4g"
      },
      "execution_count": null,
      "outputs": []
    },
    {
      "cell_type": "code",
      "source": [
        "np.apply_along_axis()"
      ],
      "metadata": {
        "id": "fOKsYgmRBRUU"
      },
      "execution_count": null,
      "outputs": []
    },
    {
      "cell_type": "code",
      "source": [
        "e=np.apply_along_axis(most_frequent, 0, y_predmv)"
      ],
      "metadata": {
        "id": "_ufmWKHcBCMR"
      },
      "execution_count": null,
      "outputs": []
    },
    {
      "cell_type": "code",
      "source": [
        "e.shape"
      ],
      "metadata": {
        "colab": {
          "base_uri": "https://localhost:8080/"
        },
        "id": "J7Yq2h7CB-kX",
        "outputId": "6685dd14-23a1-48e7-b101-ad8078dd6664"
      },
      "execution_count": null,
      "outputs": [
        {
          "output_type": "execute_result",
          "data": {
            "text/plain": [
              "(4131,)"
            ]
          },
          "metadata": {},
          "execution_count": 134
        }
      ]
    },
    {
      "cell_type": "code",
      "source": [
        "Y"
      ],
      "metadata": {
        "colab": {
          "base_uri": "https://localhost:8080/"
        },
        "id": "_Hw5SrlRCcHR",
        "outputId": "0b3e1fd8-3757-48a0-b840-ef8c46879326"
      },
      "execution_count": null,
      "outputs": [
        {
          "output_type": "execute_result",
          "data": {
            "text/plain": [
              "array([1., 1., 1., ..., 1., 1., 1.])"
            ]
          },
          "metadata": {},
          "execution_count": 139
        }
      ]
    },
    {
      "cell_type": "markdown",
      "source": [
        "# DC _DAta _ 5 sec majority voting"
      ],
      "metadata": {
        "id": "VTS8kqJnXaz3"
      }
    },
    {
      "cell_type": "code",
      "source": [
        "def three_classes(dir_file,class_label,scaler,dnn_mdl,dt_mdl,rf_mdl,tag,duration):\n",
        "  df=pd.read_csv(dir_file)\n",
        "  df=df.iloc[:, 5:]\n",
        "  #del df['ver_acc']\n",
        "  #df = df.drop(columns=[col for col in df.columns if \"6\" in col])\n",
        "  #df = df.drop(columns=[col for col in df.columns if \"nr\" in col])\n",
        "  #idx=[1,2,7,38]\n",
        "\n",
        "  #df=df.iloc[:,idx]\n",
        "  print(df_atl.columns)\n",
        "  [a,b]=df.shape\n",
        "  print(a)\n",
        "  df.insert(b, \"classes\", class_label*np.ones(a), True)\n",
        "  print(len(df.columns))\n",
        "  frames=[df]\n",
        "  df_res=pd.concat(frames)\n",
        "  res_arr=df_res.to_numpy()\n",
        "  X=res_arr[:,:b];\n",
        "  Y=res_arr[:,b];\n",
        "  X=scaler.transform(X)\n",
        "  y=to_categorical(Y)\n",
        "\n",
        "  ## DNN part\n",
        "  y_pred=dnn_mdl.predict(X)\n",
        "  y_pred=np.argmax(y_pred,axis=1)\n",
        "  print(\"DNN Test Accuracy for \" +tag+ f\": {np.mean(np.where(y_pred==class_label,1,0)):3f}\")\n",
        "\n",
        "  ## MAjority Voting\n",
        "  y_predmv=y_pred[0:int(np.floor(len(y_pred)/duration)*duration)]\n",
        "  y_predmv=np.reshape(y_predmv,(-1,duration))\n",
        "  y_predmv=np.transpose(y_predmv)\n",
        "  y_predmv=np.apply_along_axis(most_frequent, 0, y_predmv)\n",
        "  print(\"DNN Test Accuracy for \" +tag+ f\" with MV method: {np.mean(np.where(y_predmv==class_label,1,0)):3f}\")\n",
        "\n",
        "  ## DT part\n",
        "  y_pred=dt_mdl.predict(X)\n",
        "\n",
        "  print(\"DT Test Accuracy for \" +tag+ f\": {np.mean(np.where(y_pred==class_label,1,0)):3f}\")\n",
        "\n",
        "  ## MAjority Voting\n",
        "  y_predmv=y_pred[0:int(np.floor(len(y_pred)/duration)*duration)]\n",
        "  y_predmv=np.reshape(y_predmv,(-1,duration))\n",
        "  y_predmv=np.transpose(y_predmv)\n",
        "  y_predmv=np.apply_along_axis(most_frequent, 0, y_predmv)\n",
        "  print(\"DT Test Accuracy for \" +tag+ f\" with MV method: {np.mean(np.where(y_predmv==class_label,1,0)):3f}\")\n",
        "\n",
        "  ## RF part\n",
        "  y_pred=rf_mdl.predict(X)\n",
        "  print(\"RF Test Accuracy for \" +tag+ f\": {np.mean(np.where(y_pred==class_label,1,0)):3f}\")\n",
        "\n",
        "  ## MAjority Voting\n",
        "  y_predmv=y_pred[0:int(np.floor(len(y_pred)/duration)*duration)]\n",
        "  y_predmv=np.reshape(y_predmv,(-1,duration))\n",
        "  y_predmv=np.transpose(y_predmv)\n",
        "  y_predmv=np.apply_along_axis(most_frequent, 0, y_predmv)\n",
        "  print(\"RF Test Accuracy for \" +tag+ f\" with MV method: {np.mean(np.where(y_predmv==class_label,1,0)):3f}\")\n",
        "  return [X,y_pred]"
      ],
      "metadata": {
        "id": "bSSGoEixsqWU"
      },
      "execution_count": null,
      "outputs": []
    },
    {
      "cell_type": "code",
      "source": [
        "dir_file='/content/drive/Shareddrives/Indoor_Outdoor_Classification_Paper/dc_inw5.csv';\n",
        "class_label=1\n",
        "scaler=train_scaler\n",
        "dnn_mdl=test_model\n",
        "dt_mdl=clf_tree\n",
        "rf_mdl=clf_rf\n",
        "tag=\"DC Indoor Interrior\"\n",
        "duration=6\n",
        "three_classes(dir_file,class_label,scaler,dnn_mdl,dt_mdl,rf_mdl,tag,duration)\n"
      ],
      "metadata": {
        "colab": {
          "base_uri": "https://localhost:8080/"
        },
        "id": "pff1eJOIssFk",
        "outputId": "fa5e0eaf-ab74-4eda-b714-807655bfa282"
      },
      "execution_count": null,
      "outputs": [
        {
          "output_type": "stream",
          "name": "stdout",
          "text": [
            "Index(['hor_acc', 'num_of_wifi_5', 'max_of_wifi_5', 'classes'], dtype='object')\n",
            "1322\n",
            "4\n",
            "42/42 [==============================] - 0s 3ms/step\n",
            "DNN Test Accuracy for DC Indoor Interrior: 0.488654\n",
            "DNN Test Accuracy for DC Indoor Interrior with MV method: 0.495455\n",
            "DT Test Accuracy for DC Indoor Interrior: 0.557489\n",
            "DT Test Accuracy for DC Indoor Interrior with MV method: 0.631818\n",
            "RF Test Accuracy for DC Indoor Interrior: 0.458396\n",
            "RF Test Accuracy for DC Indoor Interrior with MV method: 0.509091\n"
          ]
        },
        {
          "output_type": "execute_result",
          "data": {
            "text/plain": [
              "[array([[-0.0704456 , -0.0613031 ,  0.13750037],\n",
              "        [-0.0704456 , -0.56674283, -0.24929215],\n",
              "        [-0.11490486, -0.250843  , -0.19403608],\n",
              "        ...,\n",
              "        [ 0.01323062, -0.50356286,  0.13750037],\n",
              "        [-0.03430996, -0.37720293,  0.41378074],\n",
              "        [-0.06304238,  0.00187686,  0.24801251]]),\n",
              " array([1., 1., 1., ..., 1., 1., 1.])]"
            ]
          },
          "metadata": {},
          "execution_count": 54
        }
      ]
    },
    {
      "cell_type": "code",
      "source": [
        "    dir_file='/content/drive/Shareddrives/Indoor_Outdoor_Classification_Paper/dc_ii5.csv';\n",
        "class_label=1\n",
        "scaler=train_scaler\n",
        "dnn_mdl=test_model\n",
        "dt_mdl=clf_tree\n",
        "rf_mdl=clf_rf\n",
        "tag=\"DC Indoor Interrior\"\n",
        "duration=5000\n",
        "X,y_pred=three_classes(dir_file,class_label,scaler,dnn_mdl,dt_mdl,rf_mdl,tag,duration)"
      ],
      "metadata": {
        "colab": {
          "base_uri": "https://localhost:8080/"
        },
        "id": "COLoB3EUEfqt",
        "outputId": "15dc4c5d-456b-4744-c490-ed0f1421c078"
      },
      "execution_count": null,
      "outputs": [
        {
          "output_type": "stream",
          "name": "stdout",
          "text": [
            "775/775 [==============================] - 2s 3ms/step\n",
            "DNN Test Accuracy for DC Indoor Interrior: 0.293171\n",
            "DNN Test Accuracy for DC Indoor Interrior with MV method: 0.250000\n",
            "DT Test Accuracy for DC Indoor Interrior: 0.624299\n",
            "DT Test Accuracy for DC Indoor Interrior with MV method: 0.750000\n",
            "RF Test Accuracy for DC Indoor Interrior: 0.771086\n",
            "RF Test Accuracy for DC Indoor Interrior with MV method: 1.000000\n"
          ]
        }
      ]
    },
    {
      "cell_type": "code",
      "source": [],
      "metadata": {
        "id": "hiaC6jSPpi_1"
      },
      "execution_count": null,
      "outputs": []
    },
    {
      "cell_type": "code",
      "source": [
        "plt.scatter(X[y_pred_corr,1],X[y_pred_corr,2])\n",
        "plt.scatter(X[y_pred_incorr,1],X[y_pred_incorr,2])\n",
        "plt.show()"
      ],
      "metadata": {
        "colab": {
          "base_uri": "https://localhost:8080/",
          "height": 430
        },
        "id": "f8duHtE-sVo0",
        "outputId": "919d6d5f-4f50-4fa9-b806-ac1117e0dda6"
      },
      "execution_count": null,
      "outputs": [
        {
          "output_type": "display_data",
          "data": {
            "text/plain": [
              "<Figure size 640x480 with 1 Axes>"
            ],
            "image/png": "[encoded data removed]"
          },
          "metadata": {}
        }
      ]
    },
    {
      "cell_type": "code",
      "source": [
        "df_dc_in=pd.read_csv('/content/drive/Shareddrives/Indoor_Outdoor_Classification_Paper/dc_ii5.csv')\n",
        "plt.scatter(df_dc_in.hor_acc,df_dc_in.ver_acc)\n",
        "df_dc_o=pd.read_csv('/content/drive/Shareddrives/Indoor_Outdoor_Classification_Paper/dc_o5.csv')\n",
        "plt.scatter(df_dc_o.hor_acc,df_dc_o.ver_acc)\n"
      ],
      "metadata": {
        "colab": {
          "base_uri": "https://localhost:8080/",
          "height": 448
        },
        "id": "kcXnLEaOtF70",
        "outputId": "6bc1f31b-60a4-46d6-a8cf-608975a5da70"
      },
      "execution_count": null,
      "outputs": [
        {
          "output_type": "execute_result",
          "data": {
            "text/plain": [
              "<matplotlib.collections.PathCollection at 0x7aae056b9810>"
            ]
          },
          "metadata": {},
          "execution_count": 257
        },
        {
          "output_type": "display_data",
          "data": {
            "text/plain": [
              "<Figure size 640x480 with 1 Axes>"
            ],
            "image/png": "[encoded data removed]"
          },
          "metadata": {}
        }
      ]
    },
    {
      "cell_type": "code",
      "source": [
        "pp[0]"
      ],
      "metadata": {
        "colab": {
          "base_uri": "https://localhost:8080/"
        },
        "id": "gAZaD_COrPFQ",
        "outputId": "ee692008-c4a8-4cf5-f0cc-4e32d0eebb6a"
      },
      "execution_count": null,
      "outputs": [
        {
          "output_type": "execute_result",
          "data": {
            "text/plain": [
              "array([   37,    39,    40, ..., 24726, 24744, 24773])"
            ]
          },
          "metadata": {},
          "execution_count": 239
        }
      ]
    },
    {
      "cell_type": "code",
      "source": [
        "plt.stem(pp[0],np.ones(len(pp[0])))"
      ],
      "metadata": {
        "colab": {
          "base_uri": "https://localhost:8080/",
          "height": 448
        },
        "id": "5kXHpn1-pXhW",
        "outputId": "ca132287-f719-4de1-aabf-073e7c2354c4"
      },
      "execution_count": null,
      "outputs": [
        {
          "output_type": "execute_result",
          "data": {
            "text/plain": [
              "<StemContainer object of 3 artists>"
            ]
          },
          "metadata": {},
          "execution_count": 242
        },
        {
          "output_type": "display_data",
          "data": {
            "text/plain": [
              "<Figure size 640x480 with 1 Axes>"
            ],
            "image/png": "[encoded data removed]"
          },
          "metadata": {}
        }
      ]
    },
    {
      "cell_type": "code",
      "source": [
        "dir_file='/content/drive/Shareddrives/Indoor_Outdoor_Classification_Paper/dc_inw5.csv';\n",
        "class_label=2\n",
        "scaler=train_scaler\n",
        "dnn_mdl=test_model\n",
        "dt_mdl=clf_tree\n",
        "rf_mdl=clf_rf\n",
        "tag=\"DC Indoor Near Window\"\n",
        "duration=6\n",
        "three_classes(dir_file,class_label,scaler,dnn_mdl,dt_mdl,rf_mdl,tag,duration)"
      ],
      "metadata": {
        "colab": {
          "base_uri": "https://localhost:8080/"
        },
        "id": "wFsBauF8v3wb",
        "outputId": "7f3bb85a-a262-42b8-b5ae-859950d9525a"
      },
      "execution_count": null,
      "outputs": [
        {
          "output_type": "stream",
          "name": "stdout",
          "text": [
            "42/42 [==============================] - 0s 3ms/step\n",
            "DNN Test Accuracy for DC Indoor Near Window: 0.506051\n",
            "DNN Test Accuracy for DC Indoor Near Window with MV method: 0.472727\n",
            "DT Test Accuracy for DC Indoor Near Window: 0.690620\n",
            "DT Test Accuracy for DC Indoor Near Window with MV method: 0.640909\n",
            "RF Test Accuracy for DC Indoor Near Window: 0.341906\n",
            "RF Test Accuracy for DC Indoor Near Window with MV method: 0.318182\n"
          ]
        }
      ]
    },
    {
      "cell_type": "code",
      "source": [
        "dir_file='/content/drive/Shareddrives/Indoor_Outdoor_Classification_Paper/dc_inw5.csv';\n",
        "class_label=2\n",
        "scaler=train_scaler\n",
        "dnn_mdl=test_model\n",
        "dt_mdl=clf_tree\n",
        "rf_mdl=clf_rf\n",
        "tag=\"DC Indoor Near Window\"\n",
        "duration=480\n",
        "three_classes(dir_file,class_label,scaler,dnn_mdl,dt_mdl,rf_mdl,tag,duration)"
      ],
      "metadata": {
        "colab": {
          "base_uri": "https://localhost:8080/"
        },
        "id": "WG8rxbtjHoe3",
        "outputId": "1646bb68-2ca0-4978-9093-87375c2ab5b8"
      },
      "execution_count": null,
      "outputs": [
        {
          "output_type": "stream",
          "name": "stdout",
          "text": [
            "42/42 [==============================] - 0s 2ms/step\n",
            "DNN Test Accuracy for DC Indoor Near Window: 0.506051\n",
            "DNN Test Accuracy for DC Indoor Near Window with MV method: 1.000000\n",
            "DT Test Accuracy for DC Indoor Near Window: 0.690620\n",
            "DT Test Accuracy for DC Indoor Near Window with MV method: 1.000000\n",
            "RF Test Accuracy for DC Indoor Near Window: 0.341906\n",
            "RF Test Accuracy for DC Indoor Near Window with MV method: 0.500000\n"
          ]
        }
      ]
    },
    {
      "cell_type": "code",
      "source": [
        "dir_file='/content/drive/Shareddrives/Indoor_Outdoor_Classification_Paper/dc_o5.csv';\n",
        "class_label=0\n",
        "scaler=train_scaler\n",
        "dnn_mdl=test_model\n",
        "dt_mdl=clf_tree\n",
        "rf_mdl=clf_rf\n",
        "tag=\"DC Outdoor\"\n",
        "three_classes(dir_file,class_label,scaler,dnn_mdl,dt_mdl,rf_mdl,tag)"
      ],
      "metadata": {
        "colab": {
          "base_uri": "https://localhost:8080/"
        },
        "id": "vJHQQwjbwDLE",
        "outputId": "5de9d87b-4975-4de9-d34c-4c7d83056240"
      },
      "execution_count": null,
      "outputs": [
        {
          "output_type": "stream",
          "name": "stdout",
          "text": [
            "185/185 [==============================] - 1s 3ms/step\n",
            "DNN Test Accuracy for DC Outdoor: 0.993046\n",
            "DNN Test Accuracy for DC Outdoor with MV method: 0.995927\n",
            "DT Test Accuracy for DC Outdoor: 0.968623\n",
            "DT Test Accuracy for DC Outdoor with MV method: 0.974542\n",
            "RF Test Accuracy for DC Outdoor: 0.988976\n",
            "RF Test Accuracy for DC Outdoor with MV method: 0.992872\n"
          ]
        }
      ]
    },
    {
      "cell_type": "markdown",
      "source": [
        "## **ATLANTA DATASET**\n"
      ],
      "metadata": {
        "id": "62h0PcZCK4GF"
      }
    },
    {
      "cell_type": "code",
      "source": [
        "dir_file='/content/drive/Shareddrives/Indoor_Outdoor_Classification_Paper/Gtech20_out.csv';\n",
        "class_label=0\n",
        "scaler=train_scaler\n",
        "dnn_mdl=test_model\n",
        "dt_mdl=clf_tree\n",
        "rf_mdl=clf_rf\n",
        "tag=\"Gtech20_out\"\n",
        "three_classes(dir_file,class_label,scaler,dnn_mdl,dt_mdl,rf_mdl,tag)"
      ],
      "metadata": {
        "colab": {
          "base_uri": "https://localhost:8080/"
        },
        "id": "3rx-wjzTwX10",
        "outputId": "a565f586-e658-4049-d5fc-d09a2e72f0a5"
      },
      "execution_count": null,
      "outputs": [
        {
          "output_type": "stream",
          "name": "stdout",
          "text": [
            "1/1 [==============================] - 0s 24ms/step\n",
            "DNN Test Accuracy for Gtech20_out: 0.857143\n",
            "DNN Test Accuracy for Gtech20_out with MV method: 1.000000\n",
            "DT Test Accuracy for Gtech20_out: 0.857143\n",
            "DT Test Accuracy for Gtech20_out with MV method: 1.000000\n",
            "RF Test Accuracy for Gtech20_out: 0.785714\n",
            "RF Test Accuracy for Gtech20_out with MV method: 1.000000\n"
          ]
        }
      ]
    },
    {
      "cell_type": "code",
      "source": [
        "dir_file='/content/drive/Shareddrives/Indoor_Outdoor_Classification_Paper/Gtech20_out5.csv';\n",
        "class_label=0\n",
        "scaler=train_scaler\n",
        "dnn_mdl=test_model\n",
        "dt_mdl=clf_tree\n",
        "rf_mdl=clf_rf\n",
        "tag=\"Gtech20_out\"\n",
        "three_classes(dir_file,class_label,scaler,dnn_mdl,dt_mdl,rf_mdl,tag)"
      ],
      "metadata": {
        "colab": {
          "base_uri": "https://localhost:8080/"
        },
        "id": "v1ubLQBGwptj",
        "outputId": "f84342ae-1cc9-462d-dda8-4c16bc946817"
      },
      "execution_count": null,
      "outputs": [
        {
          "output_type": "stream",
          "name": "stdout",
          "text": [
            "3/3 [==============================] - 0s 6ms/step\n",
            "DNN Test Accuracy for Gtech20_out: 0.870588\n",
            "DNN Test Accuracy for Gtech20_out with MV method: 0.928571\n",
            "DT Test Accuracy for Gtech20_out: 0.929412\n",
            "DT Test Accuracy for Gtech20_out with MV method: 1.000000\n",
            "RF Test Accuracy for Gtech20_out: 0.800000\n",
            "RF Test Accuracy for Gtech20_out with MV method: 0.785714\n"
          ]
        }
      ]
    },
    {
      "cell_type": "code",
      "source": [],
      "metadata": {
        "id": "2O35lRy5wusS"
      },
      "execution_count": null,
      "outputs": []
    },
    {
      "cell_type": "code",
      "source": [],
      "metadata": {
        "id": "jqLOylU7whVy"
      },
      "execution_count": null,
      "outputs": []
    },
    {
      "cell_type": "code",
      "source": [
        "df_atl_in = pd.read_csv('/content/drive/Shareddrives/Indoor_Outdoor_Classification_Paper/Gtech20_out.csv')\n",
        "df_atl_in=df_atl_in.iloc[:, 5:]\n",
        "[a,b]=df_atl_in.shape\n",
        "print(a)\n",
        "df_atl_in.insert(b, \"classes\", 0*np.ones(a), True)\n",
        "\n",
        "\n",
        "frames3=[df_atl_in]\n",
        "df_atl=pd.concat(frames3)\n",
        "\n",
        "res_atl=df_atl.to_numpy()\n",
        "X_atl=res_atl[:,:b];\n",
        "Y_atl=res_atl[:,b];\n",
        "\n",
        "X_atl = train_scaler.transform(X_atl)\n",
        "y_atl = to_categorical(Y_atl)\n",
        "y_pred=test_model.predict(X_atl)\n",
        "y_pred=np.argmax(y_pred,axis=1)\n",
        "print(f\"Best Model's Test Accuracy for DNN indoors: {np.sum(np.where(y_pred==0,1,0))/len(y_pred):3f}\")\n",
        "\n",
        "\n",
        "y_predmv=y_pred[0:int(np.floor(len(y_pred)/6)*6)]\n",
        "y_predmv=np.reshape(y_predmv,(-1,6))\n",
        "y_predmv=np.transpose(y_predmv)\n",
        "y_predmv=np.where(y_predmv==0,1,0)\n",
        "y_predmv=np.sum(y_predmv,axis=0)/6\n",
        "y_predmv=[np.where(y_predmv>=0.5,1,0)]\n",
        "y_atl_mv=np.ones(int(len(y_predmv)))\n",
        "\n",
        "print(f\"Best Model's Test Accuracy for DNN indoors with MV method: {np.sum(np.where(y_predmv[0]==1,1,0))/len(y_predmv[0]):3f}\")\n",
        "\n",
        "y_pred_atl=clf_tree.predict(X_atl)\n",
        "\n",
        "print(f\"Decision Tree Test Accuracy for DC indoors data : {np.sum(np.where(y_pred_atl==0,1,0))/len(y_pred_atl):3f}\")\n",
        "\n",
        "y_predmv=y_pred_atl[0:int(np.floor(len(y_pred)/6)*6)]\n",
        "y_predmv=np.reshape(y_predmv,(-1,6))\n",
        "y_predmv=np.transpose(y_predmv)\n",
        "y_predmv=np.where(y_predmv==0,1,0)\n",
        "y_predmv=np.sum(y_predmv,axis=0)/6\n",
        "y_predmv=[np.where(y_predmv>=0.5,1,0)]\n",
        "y_atl_mv=np.ones(int(len(y_predmv)))\n",
        "\n",
        "print(f\"Best Model's Test Accuracy for DC indoors with MV method: {np.sum(np.where(y_predmv[0]==1,1,0))/len(y_predmv[0]):3f}\")\n",
        "\n",
        "y_pred_atl=clf_rf.predict(X_atl)\n",
        "print(f\"Random Forest Test Accuracy for RF indoors  data : {np.sum(np.where(y_pred_atl==0,1,0))/len(y_pred_atl):3f}\")\n",
        "\n",
        "y_predmv=y_pred_atl[0:int(np.floor(len(y_pred)/6)*6)]\n",
        "y_predmv=np.reshape(y_predmv,(-1,6))\n",
        "y_predmv=np.transpose(y_predmv)\n",
        "y_predmv=np.where(y_predmv==0,1,0)\n",
        "y_predmv=np.sum(y_predmv,axis=0)/6\n",
        "y_predmv=[np.where(y_predmv>=0.5,1,0)]\n",
        "y_atl_mv=np.ones(int(len(y_predmv)))\n",
        "\n",
        "print(f\"Best Model's Test Accuracy for RF indoors with MV method: {np.sum(np.where(y_predmv[0]==1,1,0))/len(y_predmv[0]):3f}\")"
      ],
      "metadata": {
        "id": "JVPHw1wrK3Em",
        "colab": {
          "base_uri": "https://localhost:8080/"
        },
        "outputId": "9901d5c2-7747-4ea3-c8c0-558694337b9f"
      },
      "execution_count": null,
      "outputs": [
        {
          "output_type": "stream",
          "name": "stdout",
          "text": [
            "14\n",
            "1/1 [==============================] - 0s 41ms/step\n",
            "Best Model's Test Accuracy for DNN indoors: 0.857143\n",
            "Best Model's Test Accuracy for DNN indoors with MV method: 1.000000\n",
            "Decision Tree Test Accuracy for DC indoors data : 0.857143\n",
            "Best Model's Test Accuracy for DC indoors with MV method: 1.000000\n",
            "Random Forest Test Accuracy for RF indoors  data : 0.785714\n",
            "Best Model's Test Accuracy for RF indoors with MV method: 1.000000\n"
          ]
        }
      ]
    },
    {
      "cell_type": "code",
      "source": [
        "feature_importances = clf_tree.feature_importances_\n",
        "sorted_indices = feature_importances.argsort()[::-1]"
      ],
      "metadata": {
        "id": "tV_uCnfWyBLd"
      },
      "execution_count": null,
      "outputs": []
    },
    {
      "cell_type": "code",
      "source": [
        "sorted_indices"
      ],
      "metadata": {
        "colab": {
          "base_uri": "https://localhost:8080/"
        },
        "id": "1ay6QvEDyJwl",
        "outputId": "e3aa3c70-3d72-44c8-ab81-e4eee4f75ebe"
      },
      "execution_count": null,
      "outputs": [
        {
          "output_type": "execute_result",
          "data": {
            "text/plain": [
              "array([ 2, 10,  1,  4, 11, 15, 61, 19,  0, 60, 23, 64, 20, 21, 22, 18, 24,\n",
              "       17, 67,  6, 26, 13, 14, 68,  9,  5, 66, 31, 71, 33, 25, 70,  3, 65,\n",
              "       32, 62, 63, 69, 28, 30, 34, 27, 35, 16,  7,  8, 59, 58, 57, 56, 12,\n",
              "       55, 54, 53, 42, 52, 29, 40, 39, 38, 37, 36, 43, 44, 51, 45, 46, 47,\n",
              "       41, 49, 50, 48])"
            ]
          },
          "metadata": {},
          "execution_count": 261
        }
      ]
    },
    {
      "cell_type": "code",
      "source": [
        "colname = df_inw.columns[sorted_indices]\n",
        "print (colname)"
      ],
      "metadata": {
        "colab": {
          "base_uri": "https://localhost:8080/"
        },
        "id": "-lLCwXLyytIu",
        "outputId": "207fe77c-8c53-4179-f37e-3eae2ccbac52"
      },
      "execution_count": null,
      "outputs": [
        {
          "output_type": "stream",
          "name": "stdout",
          "text": [
            "Index(['ver_acc', 'num_of_wifi_5', 'hor_acc', 'lte_num_of_f1', 'num_of_wifi_6',\n",
            "       'lte_max_rssi_f2', 'avg_rssi_of_wifi_5', 'lte_avg_rsrp_f2',\n",
            "       'sim_operator', 'avg_rssi_of_wifi_2_4', 'lte_min_rsrp_f2',\n",
            "       'std_wifi_5_rssi', 'lte_max_rsrp_f1', 'lte_max_rsrp_f2',\n",
            "       'lte_min_rsrp_f1', 'lte_avg_rsrp_f1', 'lte_avg_rsrq_f1',\n",
            "       'lte_min_rssi_f2', 'min_of_wifi_2_4', 'num_of_nr_cell',\n",
            "       'lte_max_rsrq_f1', 'lte_avg_rssi_f2', 'lte_max_rssi_f1',\n",
            "       'max_of_wifi_5', 'num_of_wifi_2_4', 'lte_num_of_f2', 'max_of_wifi_2_4',\n",
            "       'lte_std_rsrp_f1', 'min_of_wifi_6', 'lte_std_rssi_f2',\n",
            "       'lte_avg_rsrq_f2', 'max_of_wifi_6', 'num_of_lte_cell',\n",
            "       'std_wifi_6_rssi', 'lte_std_rsrq_f1', 'avg_rssi_of_wifi_6',\n",
            "       'std_wifi_2_4_rssi', 'min_of_wifi_5', 'lte_min_rsrq_f1',\n",
            "       'lte_std_rssi_f1', 'lte_std_rsrp_f2', 'lte_max_rsrq_f2',\n",
            "       'lte_std_rsrq_f2', 'lte_min_rssi_f1', 'nr_num_of_f1', 'nr_num_of_f2',\n",
            "       'nr_std_rsrq_f2', 'nr_std_rsrp_f2', 'nr_std_rssi_f2', 'nr_std_rsrq_f1',\n",
            "       'lte_avg_rssi_f1', 'nr_std_rsrp_f1', 'nr_std_rssi_f1', 'nr_min_rsrq_f2',\n",
            "       'nr_avg_rsrp_f1', 'nr_min_rsrq_f1', 'lte_min_rsrq_f2', 'nr_min_rssi_f1',\n",
            "       'nr_max_rssi_f2', 'nr_max_rssi_f1', 'nr_avg_rssi_f2', 'nr_avg_rssi_f1',\n",
            "       'nr_avg_rsrp_f2', 'nr_max_rsrp_f1', 'nr_max_rsrq_f2', 'nr_max_rsrp_f2',\n",
            "       'nr_min_rsrp_f1', 'nr_min_rsrp_f2', 'nr_min_rssi_f2', 'nr_avg_rsrq_f2',\n",
            "       'nr_max_rsrq_f1', 'nr_avg_rsrq_f1'],\n",
            "      dtype='object')\n"
          ]
        }
      ]
    },
    {
      "cell_type": "code",
      "source": [
        "feature_importances_rf = clf_rf.feature_importances_\n",
        "sorted_indices_rf = feature_importances_rf.argsort()[::-1]"
      ],
      "metadata": {
        "id": "tzBoIa1wyQSV"
      },
      "execution_count": null,
      "outputs": []
    },
    {
      "cell_type": "code",
      "source": [
        "sorted_indices_rf"
      ],
      "metadata": {
        "colab": {
          "base_uri": "https://localhost:8080/"
        },
        "id": "gMOJsIf3yWA1",
        "outputId": "686ed9ab-35d9-49ed-c7be-c0b4abf1cac4"
      },
      "execution_count": null,
      "outputs": [
        {
          "output_type": "execute_result",
          "data": {
            "text/plain": [
              "array([ 2, 10,  1, 68, 61, 64, 11, 26, 63, 23, 20, 19, 71, 21, 17, 15, 13,\n",
              "       22, 27, 24, 33, 18, 60, 25,  0, 29, 28, 66, 16, 62,  5, 65,  9,  4,\n",
              "       34, 70,  3, 69, 67, 12, 35, 14, 32, 31, 30,  6, 50, 44, 46, 42,  7,\n",
              "       43, 51, 49, 45, 48, 52,  8, 47, 53, 59, 54, 36, 37, 58, 57, 38, 39,\n",
              "       40, 41, 56, 55])"
            ]
          },
          "metadata": {},
          "execution_count": 267
        }
      ]
    },
    {
      "cell_type": "code",
      "source": [
        "colname = df_inw.columns[sorted_indices_rf]\n",
        "print (colname)"
      ],
      "metadata": {
        "colab": {
          "base_uri": "https://localhost:8080/"
        },
        "id": "_cvIdl2-znxX",
        "outputId": "5da74a3d-a81b-4b1c-fb9f-dc1363391f8f"
      },
      "execution_count": null,
      "outputs": [
        {
          "output_type": "stream",
          "name": "stdout",
          "text": [
            "Index(['ver_acc', 'num_of_wifi_5', 'hor_acc', 'max_of_wifi_5',\n",
            "       'avg_rssi_of_wifi_5', 'std_wifi_5_rssi', 'num_of_wifi_6',\n",
            "       'lte_max_rsrq_f1', 'std_wifi_2_4_rssi', 'lte_min_rsrp_f2',\n",
            "       'lte_max_rsrp_f1', 'lte_avg_rsrp_f2', 'min_of_wifi_6',\n",
            "       'lte_max_rsrp_f2', 'lte_min_rssi_f2', 'lte_max_rssi_f2',\n",
            "       'lte_avg_rssi_f2', 'lte_min_rsrp_f1', 'lte_max_rsrq_f2',\n",
            "       'lte_avg_rsrq_f1', 'lte_std_rssi_f2', 'lte_avg_rsrp_f1',\n",
            "       'avg_rssi_of_wifi_2_4', 'lte_avg_rsrq_f2', 'sim_operator',\n",
            "       'lte_min_rsrq_f2', 'lte_min_rsrq_f1', 'max_of_wifi_2_4',\n",
            "       'lte_min_rssi_f1', 'avg_rssi_of_wifi_6', 'lte_num_of_f2',\n",
            "       'std_wifi_6_rssi', 'num_of_wifi_2_4', 'lte_num_of_f1',\n",
            "       'lte_std_rsrp_f2', 'max_of_wifi_6', 'num_of_lte_cell', 'min_of_wifi_5',\n",
            "       'min_of_wifi_2_4', 'lte_avg_rssi_f1', 'lte_std_rsrq_f2',\n",
            "       'lte_max_rssi_f1', 'lte_std_rsrq_f1', 'lte_std_rsrp_f1',\n",
            "       'lte_std_rssi_f1', 'num_of_nr_cell', 'nr_max_rsrq_f1', 'nr_max_rsrp_f1',\n",
            "       'nr_min_rsrp_f1', 'nr_avg_rsrp_f1', 'nr_num_of_f1', 'nr_avg_rsrp_f2',\n",
            "       'nr_max_rsrq_f2', 'nr_avg_rsrq_f2', 'nr_max_rsrp_f2', 'nr_avg_rsrq_f1',\n",
            "       'nr_min_rsrq_f1', 'nr_num_of_f2', 'nr_min_rsrp_f2', 'nr_min_rsrq_f2',\n",
            "       'nr_std_rsrq_f2', 'nr_std_rssi_f1', 'nr_avg_rssi_f1', 'nr_avg_rssi_f2',\n",
            "       'nr_std_rsrp_f2', 'nr_std_rssi_f2', 'nr_max_rssi_f1', 'nr_max_rssi_f2',\n",
            "       'nr_min_rssi_f1', 'nr_min_rssi_f2', 'nr_std_rsrq_f1', 'nr_std_rsrp_f1'],\n",
            "      dtype='object')\n"
          ]
        }
      ]
    },
    {
      "cell_type": "code",
      "source": [
        "def CDF(data):\n",
        "  data_sorted = np.sort(data)\n",
        "\n",
        "  # Calculate the cumulative distribution values\n",
        "  cdf = np.arange(1, len(data_sorted) + 1) / len(data_sorted)\n",
        "\n",
        "  return[data_sorted,cdf]"
      ],
      "metadata": {
        "id": "f-zgtRpK1TBl"
      },
      "execution_count": null,
      "outputs": []
    },
    {
      "cell_type": "code",
      "source": [],
      "metadata": {
        "id": "o9aw-sWl3_CF"
      },
      "execution_count": null,
      "outputs": []
    },
    {
      "cell_type": "code",
      "source": [
        "X,y_pred=three_classes(dir_file,class_label,scaler,dnn_mdl,dt_mdl,rf_mdl,tag,duration)"
      ],
      "metadata": {
        "colab": {
          "base_uri": "https://localhost:8080/",
          "height": 141
        },
        "id": "InfEFYzu4Gh1",
        "outputId": "85fb99b0-6be1-48c1-8564-51e3b3eb1356"
      },
      "execution_count": null,
      "outputs": [
        {
          "output_type": "error",
          "ename": "NameError",
          "evalue": "name 'three_classes' is not defined",
          "traceback": [
            "\u001b[0;31m---------------------------------------------------------------------------\u001b[0m",
            "\u001b[0;31mNameError\u001b[0m                                 Traceback (most recent call last)",
            "\u001b[0;32m<ipython-input-8-4bb934a44a7e>\u001b[0m in \u001b[0;36m<cell line: 1>\u001b[0;34m()\u001b[0m\n\u001b[0;32m----> 1\u001b[0;31m \u001b[0mX\u001b[0m\u001b[0;34m,\u001b[0m\u001b[0my_pred\u001b[0m\u001b[0;34m=\u001b[0m\u001b[0mthree_classes\u001b[0m\u001b[0;34m(\u001b[0m\u001b[0mdir_file\u001b[0m\u001b[0;34m,\u001b[0m\u001b[0mclass_label\u001b[0m\u001b[0;34m,\u001b[0m\u001b[0mscaler\u001b[0m\u001b[0;34m,\u001b[0m\u001b[0mdnn_mdl\u001b[0m\u001b[0;34m,\u001b[0m\u001b[0mdt_mdl\u001b[0m\u001b[0;34m,\u001b[0m\u001b[0mrf_mdl\u001b[0m\u001b[0;34m,\u001b[0m\u001b[0mtag\u001b[0m\u001b[0;34m,\u001b[0m\u001b[0mduration\u001b[0m\u001b[0;34m)\u001b[0m\u001b[0;34m\u001b[0m\u001b[0;34m\u001b[0m\u001b[0m\n\u001b[0m",
            "\u001b[0;31mNameError\u001b[0m: name 'three_classes' is not defined"
          ]
        }
      ]
    },
    {
      "cell_type": "code",
      "source": [
        "y_pred_corr=np.where(y_pred==1)\n",
        "y_pred_incorr=np.where(y_pred!=1)"
      ],
      "metadata": {
        "id": "mr7VISmt5XEo"
      },
      "execution_count": null,
      "outputs": []
    },
    {
      "cell_type": "code",
      "source": [
        "df_inw"
      ],
      "metadata": {
        "colab": {
          "base_uri": "https://localhost:8080/",
          "height": 424
        },
        "id": "tzYQet3ky6qI",
        "outputId": "8a7e742d-d814-499b-aea5-d4baeade8ffe"
      },
      "execution_count": null,
      "outputs": [
        {
          "output_type": "execute_result",
          "data": {
            "text/plain": [
              "         hor_acc   ver_acc  num_of_wifi_5  max_of_wifi_5  classes\n",
              "0       9.988000  5.106248              3            -77      2.0\n",
              "1      10.255000  4.401061             11            -58      2.0\n",
              "2      10.255000  4.401061             10            -61      2.0\n",
              "3      10.255000  4.401061             11            -60      2.0\n",
              "4      10.255000  4.401061             10            -60      2.0\n",
              "...          ...       ...            ...            ...      ...\n",
              "20968  14.774000  1.004858             51            -51      2.0\n",
              "20969  15.094000  0.855869             57            -50      2.0\n",
              "20970  15.154000  0.853507             61            -50      2.0\n",
              "20971  15.100000  0.858457             56            -50      2.0\n",
              "20972  16.490999  0.840854             52            -50      2.0\n",
              "\n",
              "[20973 rows x 5 columns]"
            ],
            "text/html": [
              "\n",
              "  <div id=\"df-68b3056e-181b-4c53-83be-062e241d7695\" class=\"colab-df-container\">\n",
              "    <div>\n",
              "<style scoped>\n",
              "    .dataframe tbody tr th:only-of-type {\n",
              "        vertical-align: middle;\n",
              "    }\n",
              "\n",
              "    .dataframe tbody tr th {\n",
              "        vertical-align: top;\n",
              "    }\n",
              "\n",
              "    .dataframe thead th {\n",
              "        text-align: right;\n",
              "    }\n",
              "</style>\n",
              "<table border=\"1\" class=\"dataframe\">\n",
              "  <thead>\n",
              "    <tr style=\"text-align: right;\">\n",
              "      <th></th>\n",
              "      <th>hor_acc</th>\n",
              "      <th>ver_acc</th>\n",
              "      <th>num_of_wifi_5</th>\n",
              "      <th>max_of_wifi_5</th>\n",
              "      <th>classes</th>\n",
              "    </tr>\n",
              "  </thead>\n",
              "  <tbody>\n",
              "    <tr>\n",
              "      <th>0</th>\n",
              "      <td>9.988000</td>\n",
              "      <td>5.106248</td>\n",
              "      <td>3</td>\n",
              "      <td>-77</td>\n",
              "      <td>2.0</td>\n",
              "    </tr>\n",
              "    <tr>\n",
              "      <th>1</th>\n",
              "      <td>10.255000</td>\n",
              "      <td>4.401061</td>\n",
              "      <td>11</td>\n",
              "      <td>-58</td>\n",
              "      <td>2.0</td>\n",
              "    </tr>\n",
              "    <tr>\n",
              "      <th>2</th>\n",
              "      <td>10.255000</td>\n",
              "      <td>4.401061</td>\n",
              "      <td>10</td>\n",
              "      <td>-61</td>\n",
              "      <td>2.0</td>\n",
              "    </tr>\n",
              "    <tr>\n",
              "      <th>3</th>\n",
              "      <td>10.255000</td>\n",
              "      <td>4.401061</td>\n",
              "      <td>11</td>\n",
              "      <td>-60</td>\n",
              "      <td>2.0</td>\n",
              "    </tr>\n",
              "    <tr>\n",
              "      <th>4</th>\n",
              "      <td>10.255000</td>\n",
              "      <td>4.401061</td>\n",
              "      <td>10</td>\n",
              "      <td>-60</td>\n",
              "      <td>2.0</td>\n",
              "    </tr>\n",
              "    <tr>\n",
              "      <th>...</th>\n",
              "      <td>...</td>\n",
              "      <td>...</td>\n",
              "      <td>...</td>\n",
              "      <td>...</td>\n",
              "      <td>...</td>\n",
              "    </tr>\n",
              "    <tr>\n",
              "      <th>20968</th>\n",
              "      <td>14.774000</td>\n",
              "      <td>1.004858</td>\n",
              "      <td>51</td>\n",
              "      <td>-51</td>\n",
              "      <td>2.0</td>\n",
              "    </tr>\n",
              "    <tr>\n",
              "      <th>20969</th>\n",
              "      <td>15.094000</td>\n",
              "      <td>0.855869</td>\n",
              "      <td>57</td>\n",
              "      <td>-50</td>\n",
              "      <td>2.0</td>\n",
              "    </tr>\n",
              "    <tr>\n",
              "      <th>20970</th>\n",
              "      <td>15.154000</td>\n",
              "      <td>0.853507</td>\n",
              "      <td>61</td>\n",
              "      <td>-50</td>\n",
              "      <td>2.0</td>\n",
              "    </tr>\n",
              "    <tr>\n",
              "      <th>20971</th>\n",
              "      <td>15.100000</td>\n",
              "      <td>0.858457</td>\n",
              "      <td>56</td>\n",
              "      <td>-50</td>\n",
              "      <td>2.0</td>\n",
              "    </tr>\n",
              "    <tr>\n",
              "      <th>20972</th>\n",
              "      <td>16.490999</td>\n",
              "      <td>0.840854</td>\n",
              "      <td>52</td>\n",
              "      <td>-50</td>\n",
              "      <td>2.0</td>\n",
              "    </tr>\n",
              "  </tbody>\n",
              "</table>\n",
              "<p>20973 rows × 5 columns</p>\n",
              "</div>\n",
              "    <div class=\"colab-df-buttons\">\n",
              "\n",
              "  <div class=\"colab-df-container\">\n",
              "    <button class=\"colab-df-convert\" onclick=\"convertToInteractive('df-68b3056e-181b-4c53-83be-062e241d7695')\"\n",
              "            title=\"Convert this dataframe to an interactive table.\"\n",
              "            style=\"display:none;\">\n",
              "\n",
              "  <svg xmlns=\"http://www.w3.org/2000/svg\" height=\"24px\" viewBox=\"0 -960 960 960\">\n",
              "    <path d=\"M120-120v-720h720v720H120Zm60-500h600v-160H180v160Zm220 220h160v-160H400v160Zm0 220h160v-160H400v160ZM180-400h160v-160H180v160Zm440 0h160v-160H620v160ZM180-180h160v-160H180v160Zm440 0h160v-160H620v160Z\"/>\n",
              "  </svg>\n",
              "    </button>\n",
              "\n",
              "  <style>\n",
              "    .colab-df-container {\n",
              "      display:flex;\n",
              "      gap: 12px;\n",
              "    }\n",
              "\n",
              "    .colab-df-convert {\n",
              "      background-color: #E8F0FE;\n",
              "      border: none;\n",
              "      border-radius: 50%;\n",
              "      cursor: pointer;\n",
              "      display: none;\n",
              "      fill: #1967D2;\n",
              "      height: 32px;\n",
              "      padding: 0 0 0 0;\n",
              "      width: 32px;\n",
              "    }\n",
              "\n",
              "    .colab-df-convert:hover {\n",
              "      background-color: #E2EBFA;\n",
              "      box-shadow: 0px 1px 2px rgba(60, 64, 67, 0.3), 0px 1px 3px 1px rgba(60, 64, 67, 0.15);\n",
              "      fill: #174EA6;\n",
              "    }\n",
              "\n",
              "    .colab-df-buttons div {\n",
              "      margin-bottom: 4px;\n",
              "    }\n",
              "\n",
              "    [theme=dark] .colab-df-convert {\n",
              "      background-color: #3B4455;\n",
              "      fill: #D2E3FC;\n",
              "    }\n",
              "\n",
              "    [theme=dark] .colab-df-convert:hover {\n",
              "      background-color: #434B5C;\n",
              "      box-shadow: 0px 1px 3px 1px rgba(0, 0, 0, 0.15);\n",
              "      filter: drop-shadow(0px 1px 2px rgba(0, 0, 0, 0.3));\n",
              "      fill: #FFFFFF;\n",
              "    }\n",
              "  </style>\n",
              "\n",
              "    <script>\n",
              "      const buttonEl =\n",
              "        document.querySelector('#df-68b3056e-181b-4c53-83be-062e241d7695 button.colab-df-convert');\n",
              "      buttonEl.style.display =\n",
              "        google.colab.kernel.accessAllowed ? 'block' : 'none';\n",
              "\n",
              "      async function convertToInteractive(key) {\n",
              "        const element = document.querySelector('#df-68b3056e-181b-4c53-83be-062e241d7695');\n",
              "        const dataTable =\n",
              "          await google.colab.kernel.invokeFunction('convertToInteractive',\n",
              "                                                    [key], {});\n",
              "        if (!dataTable) return;\n",
              "\n",
              "        const docLinkHtml = 'Like what you see? Visit the ' +\n",
              "          '<a target=\"_blank\" href=https://colab.research.google.com/notebooks/data_table.ipynb>data table notebook</a>'\n",
              "          + ' to learn more about interactive tables.';\n",
              "        element.innerHTML = '';\n",
              "        dataTable['output_type'] = 'display_data';\n",
              "        await google.colab.output.renderOutput(dataTable, element);\n",
              "        const docLink = document.createElement('div');\n",
              "        docLink.innerHTML = docLinkHtml;\n",
              "        element.appendChild(docLink);\n",
              "      }\n",
              "    </script>\n",
              "  </div>\n",
              "\n",
              "\n",
              "<div id=\"df-0102f2b5-a981-40a9-9632-4c6f46cf06e0\">\n",
              "  <button class=\"colab-df-quickchart\" onclick=\"quickchart('df-0102f2b5-a981-40a9-9632-4c6f46cf06e0')\"\n",
              "            title=\"Suggest charts\"\n",
              "            style=\"display:none;\">\n",
              "\n",
              "<svg xmlns=\"http://www.w3.org/2000/svg\" height=\"24px\"viewBox=\"0 0 24 24\"\n",
              "     width=\"24px\">\n",
              "    <g>\n",
              "        <path d=\"M19 3H5c-1.1 0-2 .9-2 2v14c0 1.1.9 2 2 2h14c1.1 0 2-.9 2-2V5c0-1.1-.9-2-2-2zM9 17H7v-7h2v7zm4 0h-2V7h2v10zm4 0h-2v-4h2v4z\"/>\n",
              "    </g>\n",
              "</svg>\n",
              "  </button>\n",
              "\n",
              "<style>\n",
              "  .colab-df-quickchart {\n",
              "      --bg-color: #E8F0FE;\n",
              "      --fill-color: #1967D2;\n",
              "      --hover-bg-color: #E2EBFA;\n",
              "      --hover-fill-color: #174EA6;\n",
              "      --disabled-fill-color: #AAA;\n",
              "      --disabled-bg-color: #DDD;\n",
              "  }\n",
              "\n",
              "  [theme=dark] .colab-df-quickchart {\n",
              "      --bg-color: #3B4455;\n",
              "      --fill-color: #D2E3FC;\n",
              "      --hover-bg-color: #434B5C;\n",
              "      --hover-fill-color: #FFFFFF;\n",
              "      --disabled-bg-color: #3B4455;\n",
              "      --disabled-fill-color: #666;\n",
              "  }\n",
              "\n",
              "  .colab-df-quickchart {\n",
              "    background-color: var(--bg-color);\n",
              "    border: none;\n",
              "    border-radius: 50%;\n",
              "    cursor: pointer;\n",
              "    display: none;\n",
              "    fill: var(--fill-color);\n",
              "    height: 32px;\n",
              "    padding: 0;\n",
              "    width: 32px;\n",
              "  }\n",
              "\n",
              "  .colab-df-quickchart:hover {\n",
              "    background-color: var(--hover-bg-color);\n",
              "    box-shadow: 0 1px 2px rgba(60, 64, 67, 0.3), 0 1px 3px 1px rgba(60, 64, 67, 0.15);\n",
              "    fill: var(--button-hover-fill-color);\n",
              "  }\n",
              "\n",
              "  .colab-df-quickchart-complete:disabled,\n",
              "  .colab-df-quickchart-complete:disabled:hover {\n",
              "    background-color: var(--disabled-bg-color);\n",
              "    fill: var(--disabled-fill-color);\n",
              "    box-shadow: none;\n",
              "  }\n",
              "\n",
              "  .colab-df-spinner {\n",
              "    border: 2px solid var(--fill-color);\n",
              "    border-color: transparent;\n",
              "    border-bottom-color: var(--fill-color);\n",
              "    animation:\n",
              "      spin 1s steps(1) infinite;\n",
              "  }\n",
              "\n",
              "  @keyframes spin {\n",
              "    0% {\n",
              "      border-color: transparent;\n",
              "      border-bottom-color: var(--fill-color);\n",
              "      border-left-color: var(--fill-color);\n",
              "    }\n",
              "    20% {\n",
              "      border-color: transparent;\n",
              "      border-left-color: var(--fill-color);\n",
              "      border-top-color: var(--fill-color);\n",
              "    }\n",
              "    30% {\n",
              "      border-color: transparent;\n",
              "      border-left-color: var(--fill-color);\n",
              "      border-top-color: var(--fill-color);\n",
              "      border-right-color: var(--fill-color);\n",
              "    }\n",
              "    40% {\n",
              "      border-color: transparent;\n",
              "      border-right-color: var(--fill-color);\n",
              "      border-top-color: var(--fill-color);\n",
              "    }\n",
              "    60% {\n",
              "      border-color: transparent;\n",
              "      border-right-color: var(--fill-color);\n",
              "    }\n",
              "    80% {\n",
              "      border-color: transparent;\n",
              "      border-right-color: var(--fill-color);\n",
              "      border-bottom-color: var(--fill-color);\n",
              "    }\n",
              "    90% {\n",
              "      border-color: transparent;\n",
              "      border-bottom-color: var(--fill-color);\n",
              "    }\n",
              "  }\n",
              "</style>\n",
              "\n",
              "  <script>\n",
              "    async function quickchart(key) {\n",
              "      const quickchartButtonEl =\n",
              "        document.querySelector('#' + key + ' button');\n",
              "      quickchartButtonEl.disabled = true;  // To prevent multiple clicks.\n",
              "      quickchartButtonEl.classList.add('colab-df-spinner');\n",
              "      try {\n",
              "        const charts = await google.colab.kernel.invokeFunction(\n",
              "            'suggestCharts', [key], {});\n",
              "      } catch (error) {\n",
              "        console.error('Error during call to suggestCharts:', error);\n",
              "      }\n",
              "      quickchartButtonEl.classList.remove('colab-df-spinner');\n",
              "      quickchartButtonEl.classList.add('colab-df-quickchart-complete');\n",
              "    }\n",
              "    (() => {\n",
              "      let quickchartButtonEl =\n",
              "        document.querySelector('#df-0102f2b5-a981-40a9-9632-4c6f46cf06e0 button');\n",
              "      quickchartButtonEl.style.display =\n",
              "        google.colab.kernel.accessAllowed ? 'block' : 'none';\n",
              "    })();\n",
              "  </script>\n",
              "</div>\n",
              "\n",
              "  <div id=\"id_dab39770-8913-4bf1-b5e6-494772bde263\">\n",
              "    <style>\n",
              "      .colab-df-generate {\n",
              "        background-color: #E8F0FE;\n",
              "        border: none;\n",
              "        border-radius: 50%;\n",
              "        cursor: pointer;\n",
              "        display: none;\n",
              "        fill: #1967D2;\n",
              "        height: 32px;\n",
              "        padding: 0 0 0 0;\n",
              "        width: 32px;\n",
              "      }\n",
              "\n",
              "      .colab-df-generate:hover {\n",
              "        background-color: #E2EBFA;\n",
              "        box-shadow: 0px 1px 2px rgba(60, 64, 67, 0.3), 0px 1px 3px 1px rgba(60, 64, 67, 0.15);\n",
              "        fill: #174EA6;\n",
              "      }\n",
              "\n",
              "      [theme=dark] .colab-df-generate {\n",
              "        background-color: #3B4455;\n",
              "        fill: #D2E3FC;\n",
              "      }\n",
              "\n",
              "      [theme=dark] .colab-df-generate:hover {\n",
              "        background-color: #434B5C;\n",
              "        box-shadow: 0px 1px 3px 1px rgba(0, 0, 0, 0.15);\n",
              "        filter: drop-shadow(0px 1px 2px rgba(0, 0, 0, 0.3));\n",
              "        fill: #FFFFFF;\n",
              "      }\n",
              "    </style>\n",
              "    <button class=\"colab-df-generate\" onclick=\"generateWithVariable('df_inw')\"\n",
              "            title=\"Generate code using this dataframe.\"\n",
              "            style=\"display:none;\">\n",
              "\n",
              "  <svg xmlns=\"http://www.w3.org/2000/svg\" height=\"24px\"viewBox=\"0 0 24 24\"\n",
              "       width=\"24px\">\n",
              "    <path d=\"M7,19H8.4L18.45,9,17,7.55,7,17.6ZM5,21V16.75L18.45,3.32a2,2,0,0,1,2.83,0l1.4,1.43a1.91,1.91,0,0,1,.58,1.4,1.91,1.91,0,0,1-.58,1.4L9.25,21ZM18.45,9,17,7.55Zm-12,3A5.31,5.31,0,0,0,4.9,8.1,5.31,5.31,0,0,0,1,6.5,5.31,5.31,0,0,0,4.9,4.9,5.31,5.31,0,0,0,6.5,1,5.31,5.31,0,0,0,8.1,4.9,5.31,5.31,0,0,0,12,6.5,5.46,5.46,0,0,0,6.5,12Z\"/>\n",
              "  </svg>\n",
              "    </button>\n",
              "    <script>\n",
              "      (() => {\n",
              "      const buttonEl =\n",
              "        document.querySelector('#id_dab39770-8913-4bf1-b5e6-494772bde263 button.colab-df-generate');\n",
              "      buttonEl.style.display =\n",
              "        google.colab.kernel.accessAllowed ? 'block' : 'none';\n",
              "\n",
              "      buttonEl.onclick = () => {\n",
              "        google.colab.notebook.generateWithVariable('df_inw');\n",
              "      }\n",
              "      })();\n",
              "    </script>\n",
              "  </div>\n",
              "\n",
              "    </div>\n",
              "  </div>\n"
            ],
            "application/vnd.google.colaboratory.intrinsic+json": {
              "type": "dataframe",
              "variable_name": "df_inw",
              "summary": "{\n  \"name\": \"df_inw\",\n  \"rows\": 20973,\n  \"fields\": [\n    {\n      \"column\": \"hor_acc\",\n      \"properties\": {\n        \"dtype\": \"number\",\n        \"std\": 26.16400349133313,\n        \"min\": 3.78999996185303,\n        \"max\": 394.894989013672,\n        \"num_unique_values\": 10619,\n        \"samples\": [\n          30.5130004882812,\n          11.8369998931885,\n          16.6079998016357\n        ],\n        \"semantic_type\": \"\",\n        \"description\": \"\"\n      }\n    },\n    {\n      \"column\": \"ver_acc\",\n      \"properties\": {\n        \"dtype\": \"number\",\n        \"std\": 5.128975328012428,\n        \"min\": 0.800000011920929,\n        \"max\": 100.0,\n        \"num_unique_values\": 16100,\n        \"samples\": [\n          1.03264892101288,\n          0.801246285438538,\n          0.814320743083954\n        ],\n        \"semantic_type\": \"\",\n        \"description\": \"\"\n      }\n    },\n    {\n      \"column\": \"num_of_wifi_5\",\n      \"properties\": {\n        \"dtype\": \"number\",\n        \"std\": 16,\n        \"min\": 1,\n        \"max\": 75,\n        \"num_unique_values\": 74,\n        \"samples\": [\n          12,\n          41,\n          18\n        ],\n        \"semantic_type\": \"\",\n        \"description\": \"\"\n      }\n    },\n    {\n      \"column\": \"max_of_wifi_5\",\n      \"properties\": {\n        \"dtype\": \"number\",\n        \"std\": 8,\n        \"min\": -87,\n        \"max\": -39,\n        \"num_unique_values\": 49,\n        \"samples\": [\n          -62,\n          -86,\n          -87\n        ],\n        \"semantic_type\": \"\",\n        \"description\": \"\"\n      }\n    },\n    {\n      \"column\": \"classes\",\n      \"properties\": {\n        \"dtype\": \"number\",\n        \"std\": 0.0,\n        \"min\": 2.0,\n        \"max\": 2.0,\n        \"num_unique_values\": 1,\n        \"samples\": [\n          2.0\n        ],\n        \"semantic_type\": \"\",\n        \"description\": \"\"\n      }\n    }\n  ]\n}"
            }
          },
          "metadata": {},
          "execution_count": 17
        }
      ]
    },
    {
      "cell_type": "code",
      "source": [
        "idx=0\n",
        "[a,b]=CDF(df_inw.hor_acc)\n",
        "plt.plot(a,b,linewidth=2)\n",
        "[a,b]=CDF(df_ii.hor_acc)\n",
        "plt.plot(a,b,linewidth=2)\n",
        "[a,b]=CDF(df_o.hor_acc)\n",
        "plt.plot(a,b,linewidth=2)\n",
        "plt.xlim([0,200])\n",
        "plt.legend(['II','INW','O'],fontsize='x-large')\n",
        "plt.xlabel(\"Radius of 68% Confidense (m)\",fontsize='large')\n",
        "plt.ylabel(\"CDF\",fontsize='x-large')\n",
        "plt.grid(\"True\")"
      ],
      "metadata": {
        "colab": {
          "base_uri": "https://localhost:8080/",
          "height": 453
        },
        "id": "LVNUw6nh5hqE",
        "outputId": "a69d24e4-50b4-4935-96f8-2ef438bcdef6"
      },
      "execution_count": null,
      "outputs": [
        {
          "output_type": "display_data",
          "data": {
            "text/plain": [
              "<Figure size 640x480 with 1 Axes>"
            ],
            "image/png": "[encoded data removed]"
          },
          "metadata": {}
        }
      ]
    },
    {
      "cell_type": "code",
      "source": [
        "idx=1\n",
        "[a,b]=CDF(df_inw.iloc[:,idx])\n",
        "plt.plot(a,b,linewidth=2)\n",
        "[a,b]=CDF(df_ii.iloc[:,idx])\n",
        "plt.plot(a,b,linewidth=2)\n",
        "[a,b]=CDF(df_o.iloc[:,idx])\n",
        "plt.plot(a,b,linewidth=2)\n",
        "plt.xlim([0,30])\n",
        "plt.legend(['II','INW','O'],fontsize='x-large')\n",
        "plt.xlabel(\"Radius of 68% Confidense (m)\",fontsize='x-large')\n",
        "plt.ylabel(\"CDF\",fontsize='x-large')\n",
        "plt.grid(\"True\")"
      ],
      "metadata": {
        "colab": {
          "base_uri": "https://localhost:8080/",
          "height": 454
        },
        "id": "BaY9eZie0I6k",
        "outputId": "45d1f92b-36f7-4993-d1f8-bddd608bf624"
      },
      "execution_count": null,
      "outputs": [
        {
          "output_type": "display_data",
          "data": {
            "text/plain": [
              "<Figure size 640x480 with 1 Axes>"
            ],
            "image/png": "[encoded data removed]"
          },
          "metadata": {}
        }
      ]
    },
    {
      "cell_type": "code",
      "source": [
        "idx=2\n",
        "[a,b]=CDF(df_inw.iloc[:,idx])\n",
        "plt.plot(a,b,linewidth=2)\n",
        "[a,b]=CDF(df_ii.iloc[:,idx])\n",
        "plt.plot(a,b,linewidth=2)\n",
        "[a,b]=CDF(df_o.iloc[:,idx])\n",
        "plt.plot(a,b,linewidth=2)\n",
        "plt.legend(['II','INW','O'],fontsize='x-large')\n",
        "plt.xlabel(\"# of Unique BSSIDs\",fontsize='x-large')\n",
        "plt.ylabel(\"CDF\",fontsize='x-large')\n",
        "plt.grid(\"True\")"
      ],
      "metadata": {
        "colab": {
          "base_uri": "https://localhost:8080/",
          "height": 454
        },
        "id": "7IKKUNcR6KCN",
        "outputId": "a5c05109-226d-4eda-ecb7-54734e175963"
      },
      "execution_count": null,
      "outputs": [
        {
          "output_type": "display_data",
          "data": {
            "text/plain": [
              "<Figure size 640x480 with 1 Axes>"
            ],
            "image/png": "[encoded data removed]"
          },
          "metadata": {}
        }
      ]
    },
    {
      "cell_type": "code",
      "source": [
        "idx=3\n",
        "[a,b]=CDF(df_inw.iloc[:,idx])\n",
        "plt.plot(a,b,linewidth=2)\n",
        "[a,b]=CDF(df_ii.iloc[:,idx])\n",
        "plt.plot(a,b,linewidth=2)\n",
        "df_oo=df_o\n",
        "df_oo = df_oo.loc[df_oo['max_of_wifi_5'] < 0]\n",
        "[a,b]=CDF(df_oo.iloc[:,idx])\n",
        "plt.plot(a,b,linewidth=2)\n",
        "#df_dc_in=pd.read_csv('/content/drive/Shareddrives/Indoor_Outdoor_Classification_Paper/dc_ii5.csv')\n",
        "#df_dc_in=df_dc_in.iloc[:,5:]\n",
        "#[a,b]=CDF(df_dc_in.iloc[y_pred_incorr[0],idx])\n",
        "#plt.plot(a,b)\n",
        "plt.legend(['II','INW','O'],fontsize='x-large')\n",
        "plt.xlabel(\"Max. of RSSI (dBm)\",fontsize='x-large')\n",
        "plt.ylabel(\"CDF\",fontsize='x-large')\n",
        "plt.grid(\"True\")"
      ],
      "metadata": {
        "colab": {
          "base_uri": "https://localhost:8080/",
          "height": 454
        },
        "id": "GY_Pg_edPwxh",
        "outputId": "ff131478-c8f0-457b-fb42-4bbdbdfdeb29"
      },
      "execution_count": null,
      "outputs": [
        {
          "output_type": "display_data",
          "data": {
            "text/plain": [
              "<Figure size 640x480 with 1 Axes>"
            ],
            "image/png": "[encoded data removed]"
          },
          "metadata": {}
        }
      ]
    },
    {
      "cell_type": "code",
      "source": [
        "df_ii.columns"
      ],
      "metadata": {
        "colab": {
          "base_uri": "https://localhost:8080/"
        },
        "id": "WEt4vc2wTWqm",
        "outputId": "0fb4d83a-14c4-4e66-ee8d-5341b77c6121"
      },
      "execution_count": null,
      "outputs": [
        {
          "output_type": "execute_result",
          "data": {
            "text/plain": [
              "Index(['hor_acc', 'num_of_wifi_5', 'max_of_wifi_5', 'classes'], dtype='object')"
            ]
          },
          "metadata": {},
          "execution_count": 77
        }
      ]
    },
    {
      "cell_type": "code",
      "source": [
        "a.shape"
      ],
      "metadata": {
        "colab": {
          "base_uri": "https://localhost:8080/"
        },
        "id": "KhR-0BW-RN7t",
        "outputId": "f4def8c9-2cf7-459b-efba-6307d9ca2772"
      },
      "execution_count": null,
      "outputs": [
        {
          "output_type": "execute_result",
          "data": {
            "text/plain": [
              "(24179,)"
            ]
          },
          "metadata": {},
          "execution_count": 75
        }
      ]
    },
    {
      "cell_type": "code",
      "source": [
        "idx=0\n",
        "[a,b]=CDF(df_inw.iloc[:,idx])\n",
        "plt.plot(a,b)\n",
        "[a,b]=CDF(df_ii.iloc[:,idx])\n",
        "plt.plot(a,b)\n",
        "[a,b]=CDF(df_o.iloc[:,idx])\n",
        "plt.plot(a,b)\n",
        "#df_dc_in=pd.read_csv('/content/drive/Shareddrives/Indoor_Outdoor_Classification_Paper/dc_ii5.csv')\n",
        "#df_dc_in=df_dc_in.iloc[:,5:]\n",
        "#[a,b]=CDF(df_dc_in.iloc[y_pred_incorr[0],idx])\n",
        "#plt.plot(a,b)\n",
        "plt.legend(['II','INW','O'])\n",
        "plt.title(\"HOR ACC\")\n",
        "plt.grid(\"True\")"
      ],
      "metadata": {
        "colab": {
          "base_uri": "https://localhost:8080/",
          "height": 452
        },
        "id": "z7-4vBMw8PoF",
        "outputId": "2ccfffa1-bc59-4c47-ba96-b2e889fea999"
      },
      "execution_count": null,
      "outputs": [
        {
          "output_type": "display_data",
          "data": {
            "text/plain": [
              "<Figure size 640x480 with 1 Axes>"
            ],
            "image/png": "[encoded data removed]"
          },
          "metadata": {}
        }
      ]
    },
    {
      "cell_type": "code",
      "source": [
        "idx=11\n",
        "[a,b]=CDF(df_inw.iloc[:,idx])\n",
        "plt.plot(a,b)\n",
        "[a,b]=CDF(df_ii.iloc[:,idx])\n",
        "plt.plot(a,b)\n",
        "[a,b]=CDF(df_o.iloc[:,idx])\n",
        "plt.plot(a,b)\n",
        "df_dc_in=pd.read_csv('/content/drive/Shareddrives/Indoor_Outdoor_Classification_Paper/dc_ii5.csv')\n",
        "df_dc_in=df_dc_in.iloc[:,5:]\n",
        "[a,b]=CDF(df_dc_in.iloc[y_pred_incorr[0],idx])\n",
        "plt.plot(a,b)\n",
        "plt.legend(['II','INW','O','Misclassified DC II'])\n",
        "plt.title(\"Num of WIFI 6\")\n",
        "plt.grid(\"True\")"
      ],
      "metadata": {
        "colab": {
          "base_uri": "https://localhost:8080/",
          "height": 452
        },
        "id": "WhRx13_E8702",
        "outputId": "d23a11d1-0b1a-42a3-ddd7-9e2e957e704e"
      },
      "execution_count": null,
      "outputs": [
        {
          "output_type": "display_data",
          "data": {
            "text/plain": [
              "<Figure size 640x480 with 1 Axes>"
            ],
            "image/png": "[encoded data removed]"
          },
          "metadata": {}
        }
      ]
    },
    {
      "cell_type": "markdown",
      "source": [
        "# After Adding 30% of testing dataset"
      ],
      "metadata": {
        "id": "0UulJFmjSNqv"
      }
    },
    {
      "cell_type": "code",
      "source": [
        "df_dc = pd.read_csv('/content/drive/Shareddrives/Indoor_Outdoor_Classification_Paper/dc_ii5.csv')\n",
        "df_dc=df_dc.iloc[:,5:]\n",
        "df_dc_train=df_dc.iloc[:int(np.floor(0.3*len(df_ii))),:]\n",
        "[a,b]=df_dc_train.shape\n",
        "df_dc_train.insert(b, \"classes\", np.ones(a), True)\n",
        "df_dc_test=df_dc.iloc[int(np.floor(0.3*len(df_ii)))+1:,:]\n",
        "[a,b]=df_dc_test.shape\n",
        "df_dc_test.insert(b, \"classes\", np.ones(a), True)\n"
      ],
      "metadata": {
        "id": "QsZWfstBDWGW"
      },
      "execution_count": null,
      "outputs": []
    },
    {
      "cell_type": "code",
      "source": [
        "idx=11\n",
        "[a,b]=CDF(df_inw.iloc[:,idx])\n",
        "plt.plot(a,b)\n",
        "[a,b]=CDF(df_ii.iloc[:,idx])\n",
        "plt.plot(a,b)\n",
        "[a,b]=CDF(df_o.iloc[:,idx])\n",
        "plt.plot(a,b)\n",
        "df_dc_in=pd.read_csv('/content/drive/Shareddrives/Indoor_Outdoor_Classification_Paper/dc_ii5.csv')\n",
        "df_dc_in=df_dc_in.iloc[:,5:]\n",
        "[a,b]=CDF(df_dc_in.iloc[y_pred_incorr[0],idx])\n",
        "plt.plot(a,b)\n",
        "plt.legend(['II','INW','O','Misclassified DC II'])\n",
        "plt.title(\"NUM of WIFI 5\")\n",
        "plt.grid(\"True\")"
      ],
      "metadata": {
        "id": "ILO1G2LlZMO9"
      },
      "execution_count": null,
      "outputs": []
    },
    {
      "cell_type": "code",
      "source": [
        "df_ii_new=df_ii.iloc[:int(np.floor(0.7*len(df_ii))),:]"
      ],
      "metadata": {
        "id": "B8a0Nxp9UGv8"
      },
      "execution_count": null,
      "outputs": []
    },
    {
      "cell_type": "code",
      "source": [
        "res"
      ],
      "metadata": {
        "id": "n5hzUgo3VzdW",
        "colab": {
          "base_uri": "https://localhost:8080/",
          "height": 443
        },
        "outputId": "d3a3edc7-4eb5-4101-feb7-c583dbfb3c44"
      },
      "execution_count": null,
      "outputs": [
        {
          "output_type": "execute_result",
          "data": {
            "text/plain": [
              "       sim_operator    hor_acc   ver_acc  num_of_lte_cell  lte_num_of_f1  \\\n",
              "0                 0  25.037201  4.706333                1              0   \n",
              "1                 0  25.037201  4.706333                1              0   \n",
              "2                 0  25.037201  4.706333                1              0   \n",
              "3                 0  10.913000  3.124382                1              0   \n",
              "4                 0  10.913000  3.124382                1              0   \n",
              "...             ...        ...       ...              ...            ...   \n",
              "20968             0  14.774000  1.004858                6              2   \n",
              "20969             0  15.094000  0.855869                6              2   \n",
              "20970             0  15.154000  0.853507                6              2   \n",
              "20971             0  15.100000  0.858457                6              2   \n",
              "20972             0  16.490999  0.840854                6              2   \n",
              "\n",
              "       lte_num_of_f2  num_of_nr_cell  nr_num_of_f1  nr_num_of_f2  \\\n",
              "0                  1               0             0             0   \n",
              "1                  1               0             0             0   \n",
              "2                  1               0             0             0   \n",
              "3                  1               0             0             0   \n",
              "4                  1               0             0             0   \n",
              "...              ...             ...           ...           ...   \n",
              "20968              4               0             0             0   \n",
              "20969              4               0             0             0   \n",
              "20970              4               0             0             0   \n",
              "20971              4               0             0             0   \n",
              "20972              4               0             0             0   \n",
              "\n",
              "       num_of_wifi_2_4  ...  std_wifi_2_4_rssi  std_wifi_5_rssi  \\\n",
              "0                   13  ...         -68.648288       -72.637310   \n",
              "1                   11  ...         -65.254722       -72.064321   \n",
              "2                   11  ...         -65.254722       -72.064321   \n",
              "3                   20  ...         -68.565634       -77.125330   \n",
              "4                   10  ...         -74.199990       -74.290570   \n",
              "...                ...  ...                ...              ...   \n",
              "20968               15  ...         -59.963721       -58.079551   \n",
              "20969                6  ...         -57.012538       -56.781265   \n",
              "20970               10  ...         -58.065773       -56.920943   \n",
              "20971               11  ...         -58.322844       -56.747266   \n",
              "20972               17  ...         -56.859007       -57.122597   \n",
              "\n",
              "       std_wifi_6_rssi  max_of_wifi_2_4  min_of_wifi_2_4  max_of_wifi_5  \\\n",
              "0             0.000000              -63            -88.0            -68   \n",
              "1             0.000000              -60            -89.0            -66   \n",
              "2             0.000000              -60            -89.0            -66   \n",
              "3             0.000000              -62            -89.0            -72   \n",
              "4             0.000000              -69            -93.0            -70   \n",
              "...                ...              ...              ...            ...   \n",
              "20968       -62.993277              -54            -77.0            -51   \n",
              "20969       -62.992168              -53            -82.0            -50   \n",
              "20970       -62.718518              -53            -84.0            -50   \n",
              "20971       -62.853267              -53            -83.0            -50   \n",
              "20972       -62.839554              -52            -81.0            -50   \n",
              "\n",
              "       min_of_wifi_5  max_of_wifi_6  min_of_wifi_6  classes  \n",
              "0              -92.0              0            0.0      0.0  \n",
              "1              -91.0              0            0.0      0.0  \n",
              "2              -91.0              0            0.0      0.0  \n",
              "3              -92.0              0            0.0      0.0  \n",
              "4              -94.0              0            0.0      0.0  \n",
              "...              ...            ...            ...      ...  \n",
              "20968          -90.0            -57          -89.0      2.0  \n",
              "20969          -91.0            -57          -89.0      2.0  \n",
              "20970          -90.0            -57          -89.0      2.0  \n",
              "20971          -90.0            -57          -88.0      2.0  \n",
              "20972          -89.0            -57          -88.0      2.0  \n",
              "\n",
              "[67957 rows x 73 columns]"
            ],
            "text/html": [
              "\n",
              "  <div id=\"df-55a6e836-5047-4fe6-aa42-e9413a993ef7\" class=\"colab-df-container\">\n",
              "    <div>\n",
              "<style scoped>\n",
              "    .dataframe tbody tr th:only-of-type {\n",
              "        vertical-align: middle;\n",
              "    }\n",
              "\n",
              "    .dataframe tbody tr th {\n",
              "        vertical-align: top;\n",
              "    }\n",
              "\n",
              "    .dataframe thead th {\n",
              "        text-align: right;\n",
              "    }\n",
              "</style>\n",
              "<table border=\"1\" class=\"dataframe\">\n",
              "  <thead>\n",
              "    <tr style=\"text-align: right;\">\n",
              "      <th></th>\n",
              "      <th>sim_operator</th>\n",
              "      <th>hor_acc</th>\n",
              "      <th>ver_acc</th>\n",
              "      <th>num_of_lte_cell</th>\n",
              "      <th>lte_num_of_f1</th>\n",
              "      <th>lte_num_of_f2</th>\n",
              "      <th>num_of_nr_cell</th>\n",
              "      <th>nr_num_of_f1</th>\n",
              "      <th>nr_num_of_f2</th>\n",
              "      <th>num_of_wifi_2_4</th>\n",
              "      <th>...</th>\n",
              "      <th>std_wifi_2_4_rssi</th>\n",
              "      <th>std_wifi_5_rssi</th>\n",
              "      <th>std_wifi_6_rssi</th>\n",
              "      <th>max_of_wifi_2_4</th>\n",
              "      <th>min_of_wifi_2_4</th>\n",
              "      <th>max_of_wifi_5</th>\n",
              "      <th>min_of_wifi_5</th>\n",
              "      <th>max_of_wifi_6</th>\n",
              "      <th>min_of_wifi_6</th>\n",
              "      <th>classes</th>\n",
              "    </tr>\n",
              "  </thead>\n",
              "  <tbody>\n",
              "    <tr>\n",
              "      <th>0</th>\n",
              "      <td>0</td>\n",
              "      <td>25.037201</td>\n",
              "      <td>4.706333</td>\n",
              "      <td>1</td>\n",
              "      <td>0</td>\n",
              "      <td>1</td>\n",
              "      <td>0</td>\n",
              "      <td>0</td>\n",
              "      <td>0</td>\n",
              "      <td>13</td>\n",
              "      <td>...</td>\n",
              "      <td>-68.648288</td>\n",
              "      <td>-72.637310</td>\n",
              "      <td>0.000000</td>\n",
              "      <td>-63</td>\n",
              "      <td>-88.0</td>\n",
              "      <td>-68</td>\n",
              "      <td>-92.0</td>\n",
              "      <td>0</td>\n",
              "      <td>0.0</td>\n",
              "      <td>0.0</td>\n",
              "    </tr>\n",
              "    <tr>\n",
              "      <th>1</th>\n",
              "      <td>0</td>\n",
              "      <td>25.037201</td>\n",
              "      <td>4.706333</td>\n",
              "      <td>1</td>\n",
              "      <td>0</td>\n",
              "      <td>1</td>\n",
              "      <td>0</td>\n",
              "      <td>0</td>\n",
              "      <td>0</td>\n",
              "      <td>11</td>\n",
              "      <td>...</td>\n",
              "      <td>-65.254722</td>\n",
              "      <td>-72.064321</td>\n",
              "      <td>0.000000</td>\n",
              "      <td>-60</td>\n",
              "      <td>-89.0</td>\n",
              "      <td>-66</td>\n",
              "      <td>-91.0</td>\n",
              "      <td>0</td>\n",
              "      <td>0.0</td>\n",
              "      <td>0.0</td>\n",
              "    </tr>\n",
              "    <tr>\n",
              "      <th>2</th>\n",
              "      <td>0</td>\n",
              "      <td>25.037201</td>\n",
              "      <td>4.706333</td>\n",
              "      <td>1</td>\n",
              "      <td>0</td>\n",
              "      <td>1</td>\n",
              "      <td>0</td>\n",
              "      <td>0</td>\n",
              "      <td>0</td>\n",
              "      <td>11</td>\n",
              "      <td>...</td>\n",
              "      <td>-65.254722</td>\n",
              "      <td>-72.064321</td>\n",
              "      <td>0.000000</td>\n",
              "      <td>-60</td>\n",
              "      <td>-89.0</td>\n",
              "      <td>-66</td>\n",
              "      <td>-91.0</td>\n",
              "      <td>0</td>\n",
              "      <td>0.0</td>\n",
              "      <td>0.0</td>\n",
              "    </tr>\n",
              "    <tr>\n",
              "      <th>3</th>\n",
              "      <td>0</td>\n",
              "      <td>10.913000</td>\n",
              "      <td>3.124382</td>\n",
              "      <td>1</td>\n",
              "      <td>0</td>\n",
              "      <td>1</td>\n",
              "      <td>0</td>\n",
              "      <td>0</td>\n",
              "      <td>0</td>\n",
              "      <td>20</td>\n",
              "      <td>...</td>\n",
              "      <td>-68.565634</td>\n",
              "      <td>-77.125330</td>\n",
              "      <td>0.000000</td>\n",
              "      <td>-62</td>\n",
              "      <td>-89.0</td>\n",
              "      <td>-72</td>\n",
              "      <td>-92.0</td>\n",
              "      <td>0</td>\n",
              "      <td>0.0</td>\n",
              "      <td>0.0</td>\n",
              "    </tr>\n",
              "    <tr>\n",
              "      <th>4</th>\n",
              "      <td>0</td>\n",
              "      <td>10.913000</td>\n",
              "      <td>3.124382</td>\n",
              "      <td>1</td>\n",
              "      <td>0</td>\n",
              "      <td>1</td>\n",
              "      <td>0</td>\n",
              "      <td>0</td>\n",
              "      <td>0</td>\n",
              "      <td>10</td>\n",
              "      <td>...</td>\n",
              "      <td>-74.199990</td>\n",
              "      <td>-74.290570</td>\n",
              "      <td>0.000000</td>\n",
              "      <td>-69</td>\n",
              "      <td>-93.0</td>\n",
              "      <td>-70</td>\n",
              "      <td>-94.0</td>\n",
              "      <td>0</td>\n",
              "      <td>0.0</td>\n",
              "      <td>0.0</td>\n",
              "    </tr>\n",
              "    <tr>\n",
              "      <th>...</th>\n",
              "      <td>...</td>\n",
              "      <td>...</td>\n",
              "      <td>...</td>\n",
              "      <td>...</td>\n",
              "      <td>...</td>\n",
              "      <td>...</td>\n",
              "      <td>...</td>\n",
              "      <td>...</td>\n",
              "      <td>...</td>\n",
              "      <td>...</td>\n",
              "      <td>...</td>\n",
              "      <td>...</td>\n",
              "      <td>...</td>\n",
              "      <td>...</td>\n",
              "      <td>...</td>\n",
              "      <td>...</td>\n",
              "      <td>...</td>\n",
              "      <td>...</td>\n",
              "      <td>...</td>\n",
              "      <td>...</td>\n",
              "      <td>...</td>\n",
              "    </tr>\n",
              "    <tr>\n",
              "      <th>20968</th>\n",
              "      <td>0</td>\n",
              "      <td>14.774000</td>\n",
              "      <td>1.004858</td>\n",
              "      <td>6</td>\n",
              "      <td>2</td>\n",
              "      <td>4</td>\n",
              "      <td>0</td>\n",
              "      <td>0</td>\n",
              "      <td>0</td>\n",
              "      <td>15</td>\n",
              "      <td>...</td>\n",
              "      <td>-59.963721</td>\n",
              "      <td>-58.079551</td>\n",
              "      <td>-62.993277</td>\n",
              "      <td>-54</td>\n",
              "      <td>-77.0</td>\n",
              "      <td>-51</td>\n",
              "      <td>-90.0</td>\n",
              "      <td>-57</td>\n",
              "      <td>-89.0</td>\n",
              "      <td>2.0</td>\n",
              "    </tr>\n",
              "    <tr>\n",
              "      <th>20969</th>\n",
              "      <td>0</td>\n",
              "      <td>15.094000</td>\n",
              "      <td>0.855869</td>\n",
              "      <td>6</td>\n",
              "      <td>2</td>\n",
              "      <td>4</td>\n",
              "      <td>0</td>\n",
              "      <td>0</td>\n",
              "      <td>0</td>\n",
              "      <td>6</td>\n",
              "      <td>...</td>\n",
              "      <td>-57.012538</td>\n",
              "      <td>-56.781265</td>\n",
              "      <td>-62.992168</td>\n",
              "      <td>-53</td>\n",
              "      <td>-82.0</td>\n",
              "      <td>-50</td>\n",
              "      <td>-91.0</td>\n",
              "      <td>-57</td>\n",
              "      <td>-89.0</td>\n",
              "      <td>2.0</td>\n",
              "    </tr>\n",
              "    <tr>\n",
              "      <th>20970</th>\n",
              "      <td>0</td>\n",
              "      <td>15.154000</td>\n",
              "      <td>0.853507</td>\n",
              "      <td>6</td>\n",
              "      <td>2</td>\n",
              "      <td>4</td>\n",
              "      <td>0</td>\n",
              "      <td>0</td>\n",
              "      <td>0</td>\n",
              "      <td>10</td>\n",
              "      <td>...</td>\n",
              "      <td>-58.065773</td>\n",
              "      <td>-56.920943</td>\n",
              "      <td>-62.718518</td>\n",
              "      <td>-53</td>\n",
              "      <td>-84.0</td>\n",
              "      <td>-50</td>\n",
              "      <td>-90.0</td>\n",
              "      <td>-57</td>\n",
              "      <td>-89.0</td>\n",
              "      <td>2.0</td>\n",
              "    </tr>\n",
              "    <tr>\n",
              "      <th>20971</th>\n",
              "      <td>0</td>\n",
              "      <td>15.100000</td>\n",
              "      <td>0.858457</td>\n",
              "      <td>6</td>\n",
              "      <td>2</td>\n",
              "      <td>4</td>\n",
              "      <td>0</td>\n",
              "      <td>0</td>\n",
              "      <td>0</td>\n",
              "      <td>11</td>\n",
              "      <td>...</td>\n",
              "      <td>-58.322844</td>\n",
              "      <td>-56.747266</td>\n",
              "      <td>-62.853267</td>\n",
              "      <td>-53</td>\n",
              "      <td>-83.0</td>\n",
              "      <td>-50</td>\n",
              "      <td>-90.0</td>\n",
              "      <td>-57</td>\n",
              "      <td>-88.0</td>\n",
              "      <td>2.0</td>\n",
              "    </tr>\n",
              "    <tr>\n",
              "      <th>20972</th>\n",
              "      <td>0</td>\n",
              "      <td>16.490999</td>\n",
              "      <td>0.840854</td>\n",
              "      <td>6</td>\n",
              "      <td>2</td>\n",
              "      <td>4</td>\n",
              "      <td>0</td>\n",
              "      <td>0</td>\n",
              "      <td>0</td>\n",
              "      <td>17</td>\n",
              "      <td>...</td>\n",
              "      <td>-56.859007</td>\n",
              "      <td>-57.122597</td>\n",
              "      <td>-62.839554</td>\n",
              "      <td>-52</td>\n",
              "      <td>-81.0</td>\n",
              "      <td>-50</td>\n",
              "      <td>-89.0</td>\n",
              "      <td>-57</td>\n",
              "      <td>-88.0</td>\n",
              "      <td>2.0</td>\n",
              "    </tr>\n",
              "  </tbody>\n",
              "</table>\n",
              "<p>67957 rows × 73 columns</p>\n",
              "</div>\n",
              "    <div class=\"colab-df-buttons\">\n",
              "\n",
              "  <div class=\"colab-df-container\">\n",
              "    <button class=\"colab-df-convert\" onclick=\"convertToInteractive('df-55a6e836-5047-4fe6-aa42-e9413a993ef7')\"\n",
              "            title=\"Convert this dataframe to an interactive table.\"\n",
              "            style=\"display:none;\">\n",
              "\n",
              "  <svg xmlns=\"http://www.w3.org/2000/svg\" height=\"24px\" viewBox=\"0 -960 960 960\">\n",
              "    <path d=\"M120-120v-720h720v720H120Zm60-500h600v-160H180v160Zm220 220h160v-160H400v160Zm0 220h160v-160H400v160ZM180-400h160v-160H180v160Zm440 0h160v-160H620v160ZM180-180h160v-160H180v160Zm440 0h160v-160H620v160Z\"/>\n",
              "  </svg>\n",
              "    </button>\n",
              "\n",
              "  <style>\n",
              "    .colab-df-container {\n",
              "      display:flex;\n",
              "      gap: 12px;\n",
              "    }\n",
              "\n",
              "    .colab-df-convert {\n",
              "      background-color: #E8F0FE;\n",
              "      border: none;\n",
              "      border-radius: 50%;\n",
              "      cursor: pointer;\n",
              "      display: none;\n",
              "      fill: #1967D2;\n",
              "      height: 32px;\n",
              "      padding: 0 0 0 0;\n",
              "      width: 32px;\n",
              "    }\n",
              "\n",
              "    .colab-df-convert:hover {\n",
              "      background-color: #E2EBFA;\n",
              "      box-shadow: 0px 1px 2px rgba(60, 64, 67, 0.3), 0px 1px 3px 1px rgba(60, 64, 67, 0.15);\n",
              "      fill: #174EA6;\n",
              "    }\n",
              "\n",
              "    .colab-df-buttons div {\n",
              "      margin-bottom: 4px;\n",
              "    }\n",
              "\n",
              "    [theme=dark] .colab-df-convert {\n",
              "      background-color: #3B4455;\n",
              "      fill: #D2E3FC;\n",
              "    }\n",
              "\n",
              "    [theme=dark] .colab-df-convert:hover {\n",
              "      background-color: #434B5C;\n",
              "      box-shadow: 0px 1px 3px 1px rgba(0, 0, 0, 0.15);\n",
              "      filter: drop-shadow(0px 1px 2px rgba(0, 0, 0, 0.3));\n",
              "      fill: #FFFFFF;\n",
              "    }\n",
              "  </style>\n",
              "\n",
              "    <script>\n",
              "      const buttonEl =\n",
              "        document.querySelector('#df-55a6e836-5047-4fe6-aa42-e9413a993ef7 button.colab-df-convert');\n",
              "      buttonEl.style.display =\n",
              "        google.colab.kernel.accessAllowed ? 'block' : 'none';\n",
              "\n",
              "      async function convertToInteractive(key) {\n",
              "        const element = document.querySelector('#df-55a6e836-5047-4fe6-aa42-e9413a993ef7');\n",
              "        const dataTable =\n",
              "          await google.colab.kernel.invokeFunction('convertToInteractive',\n",
              "                                                    [key], {});\n",
              "        if (!dataTable) return;\n",
              "\n",
              "        const docLinkHtml = 'Like what you see? Visit the ' +\n",
              "          '<a target=\"_blank\" href=https://colab.research.google.com/notebooks/data_table.ipynb>data table notebook</a>'\n",
              "          + ' to learn more about interactive tables.';\n",
              "        element.innerHTML = '';\n",
              "        dataTable['output_type'] = 'display_data';\n",
              "        await google.colab.output.renderOutput(dataTable, element);\n",
              "        const docLink = document.createElement('div');\n",
              "        docLink.innerHTML = docLinkHtml;\n",
              "        element.appendChild(docLink);\n",
              "      }\n",
              "    </script>\n",
              "  </div>\n",
              "\n",
              "\n",
              "<div id=\"df-ab414382-b5aa-4346-9300-23e9b1486cc5\">\n",
              "  <button class=\"colab-df-quickchart\" onclick=\"quickchart('df-ab414382-b5aa-4346-9300-23e9b1486cc5')\"\n",
              "            title=\"Suggest charts\"\n",
              "            style=\"display:none;\">\n",
              "\n",
              "<svg xmlns=\"http://www.w3.org/2000/svg\" height=\"24px\"viewBox=\"0 0 24 24\"\n",
              "     width=\"24px\">\n",
              "    <g>\n",
              "        <path d=\"M19 3H5c-1.1 0-2 .9-2 2v14c0 1.1.9 2 2 2h14c1.1 0 2-.9 2-2V5c0-1.1-.9-2-2-2zM9 17H7v-7h2v7zm4 0h-2V7h2v10zm4 0h-2v-4h2v4z\"/>\n",
              "    </g>\n",
              "</svg>\n",
              "  </button>\n",
              "\n",
              "<style>\n",
              "  .colab-df-quickchart {\n",
              "      --bg-color: #E8F0FE;\n",
              "      --fill-color: #1967D2;\n",
              "      --hover-bg-color: #E2EBFA;\n",
              "      --hover-fill-color: #174EA6;\n",
              "      --disabled-fill-color: #AAA;\n",
              "      --disabled-bg-color: #DDD;\n",
              "  }\n",
              "\n",
              "  [theme=dark] .colab-df-quickchart {\n",
              "      --bg-color: #3B4455;\n",
              "      --fill-color: #D2E3FC;\n",
              "      --hover-bg-color: #434B5C;\n",
              "      --hover-fill-color: #FFFFFF;\n",
              "      --disabled-bg-color: #3B4455;\n",
              "      --disabled-fill-color: #666;\n",
              "  }\n",
              "\n",
              "  .colab-df-quickchart {\n",
              "    background-color: var(--bg-color);\n",
              "    border: none;\n",
              "    border-radius: 50%;\n",
              "    cursor: pointer;\n",
              "    display: none;\n",
              "    fill: var(--fill-color);\n",
              "    height: 32px;\n",
              "    padding: 0;\n",
              "    width: 32px;\n",
              "  }\n",
              "\n",
              "  .colab-df-quickchart:hover {\n",
              "    background-color: var(--hover-bg-color);\n",
              "    box-shadow: 0 1px 2px rgba(60, 64, 67, 0.3), 0 1px 3px 1px rgba(60, 64, 67, 0.15);\n",
              "    fill: var(--button-hover-fill-color);\n",
              "  }\n",
              "\n",
              "  .colab-df-quickchart-complete:disabled,\n",
              "  .colab-df-quickchart-complete:disabled:hover {\n",
              "    background-color: var(--disabled-bg-color);\n",
              "    fill: var(--disabled-fill-color);\n",
              "    box-shadow: none;\n",
              "  }\n",
              "\n",
              "  .colab-df-spinner {\n",
              "    border: 2px solid var(--fill-color);\n",
              "    border-color: transparent;\n",
              "    border-bottom-color: var(--fill-color);\n",
              "    animation:\n",
              "      spin 1s steps(1) infinite;\n",
              "  }\n",
              "\n",
              "  @keyframes spin {\n",
              "    0% {\n",
              "      border-color: transparent;\n",
              "      border-bottom-color: var(--fill-color);\n",
              "      border-left-color: var(--fill-color);\n",
              "    }\n",
              "    20% {\n",
              "      border-color: transparent;\n",
              "      border-left-color: var(--fill-color);\n",
              "      border-top-color: var(--fill-color);\n",
              "    }\n",
              "    30% {\n",
              "      border-color: transparent;\n",
              "      border-left-color: var(--fill-color);\n",
              "      border-top-color: var(--fill-color);\n",
              "      border-right-color: var(--fill-color);\n",
              "    }\n",
              "    40% {\n",
              "      border-color: transparent;\n",
              "      border-right-color: var(--fill-color);\n",
              "      border-top-color: var(--fill-color);\n",
              "    }\n",
              "    60% {\n",
              "      border-color: transparent;\n",
              "      border-right-color: var(--fill-color);\n",
              "    }\n",
              "    80% {\n",
              "      border-color: transparent;\n",
              "      border-right-color: var(--fill-color);\n",
              "      border-bottom-color: var(--fill-color);\n",
              "    }\n",
              "    90% {\n",
              "      border-color: transparent;\n",
              "      border-bottom-color: var(--fill-color);\n",
              "    }\n",
              "  }\n",
              "</style>\n",
              "\n",
              "  <script>\n",
              "    async function quickchart(key) {\n",
              "      const quickchartButtonEl =\n",
              "        document.querySelector('#' + key + ' button');\n",
              "      quickchartButtonEl.disabled = true;  // To prevent multiple clicks.\n",
              "      quickchartButtonEl.classList.add('colab-df-spinner');\n",
              "      try {\n",
              "        const charts = await google.colab.kernel.invokeFunction(\n",
              "            'suggestCharts', [key], {});\n",
              "      } catch (error) {\n",
              "        console.error('Error during call to suggestCharts:', error);\n",
              "      }\n",
              "      quickchartButtonEl.classList.remove('colab-df-spinner');\n",
              "      quickchartButtonEl.classList.add('colab-df-quickchart-complete');\n",
              "    }\n",
              "    (() => {\n",
              "      let quickchartButtonEl =\n",
              "        document.querySelector('#df-ab414382-b5aa-4346-9300-23e9b1486cc5 button');\n",
              "      quickchartButtonEl.style.display =\n",
              "        google.colab.kernel.accessAllowed ? 'block' : 'none';\n",
              "    })();\n",
              "  </script>\n",
              "</div>\n",
              "\n",
              "  <div id=\"id_4adad098-4f67-48bc-ba2c-f29c5c36a617\">\n",
              "    <style>\n",
              "      .colab-df-generate {\n",
              "        background-color: #E8F0FE;\n",
              "        border: none;\n",
              "        border-radius: 50%;\n",
              "        cursor: pointer;\n",
              "        display: none;\n",
              "        fill: #1967D2;\n",
              "        height: 32px;\n",
              "        padding: 0 0 0 0;\n",
              "        width: 32px;\n",
              "      }\n",
              "\n",
              "      .colab-df-generate:hover {\n",
              "        background-color: #E2EBFA;\n",
              "        box-shadow: 0px 1px 2px rgba(60, 64, 67, 0.3), 0px 1px 3px 1px rgba(60, 64, 67, 0.15);\n",
              "        fill: #174EA6;\n",
              "      }\n",
              "\n",
              "      [theme=dark] .colab-df-generate {\n",
              "        background-color: #3B4455;\n",
              "        fill: #D2E3FC;\n",
              "      }\n",
              "\n",
              "      [theme=dark] .colab-df-generate:hover {\n",
              "        background-color: #434B5C;\n",
              "        box-shadow: 0px 1px 3px 1px rgba(0, 0, 0, 0.15);\n",
              "        filter: drop-shadow(0px 1px 2px rgba(0, 0, 0, 0.3));\n",
              "        fill: #FFFFFF;\n",
              "      }\n",
              "    </style>\n",
              "    <button class=\"colab-df-generate\" onclick=\"generateWithVariable('res')\"\n",
              "            title=\"Generate code using this dataframe.\"\n",
              "            style=\"display:none;\">\n",
              "\n",
              "  <svg xmlns=\"http://www.w3.org/2000/svg\" height=\"24px\"viewBox=\"0 0 24 24\"\n",
              "       width=\"24px\">\n",
              "    <path d=\"M7,19H8.4L18.45,9,17,7.55,7,17.6ZM5,21V16.75L18.45,3.32a2,2,0,0,1,2.83,0l1.4,1.43a1.91,1.91,0,0,1,.58,1.4,1.91,1.91,0,0,1-.58,1.4L9.25,21ZM18.45,9,17,7.55Zm-12,3A5.31,5.31,0,0,0,4.9,8.1,5.31,5.31,0,0,0,1,6.5,5.31,5.31,0,0,0,4.9,4.9,5.31,5.31,0,0,0,6.5,1,5.31,5.31,0,0,0,8.1,4.9,5.31,5.31,0,0,0,12,6.5,5.46,5.46,0,0,0,6.5,12Z\"/>\n",
              "  </svg>\n",
              "    </button>\n",
              "    <script>\n",
              "      (() => {\n",
              "      const buttonEl =\n",
              "        document.querySelector('#id_4adad098-4f67-48bc-ba2c-f29c5c36a617 button.colab-df-generate');\n",
              "      buttonEl.style.display =\n",
              "        google.colab.kernel.accessAllowed ? 'block' : 'none';\n",
              "\n",
              "      buttonEl.onclick = () => {\n",
              "        google.colab.notebook.generateWithVariable('res');\n",
              "      }\n",
              "      })();\n",
              "    </script>\n",
              "  </div>\n",
              "\n",
              "    </div>\n",
              "  </div>\n"
            ],
            "application/vnd.google.colaboratory.intrinsic+json": {
              "type": "dataframe",
              "variable_name": "res"
            }
          },
          "metadata": {},
          "execution_count": 60
        }
      ]
    },
    {
      "cell_type": "code",
      "source": [
        "frames2=[df_o,df_ii_new,df_dc_train,df_inw]\n",
        "res=pd.concat(frames2)\n",
        "res_arr=res.to_numpy()\n",
        "X=res_arr[:,0:b];\n",
        "Y=res_arr[:,b];\n",
        "print(Y)\n",
        "X_train, X_test, Y_train, Y_test = train_test_split(X, Y, test_size=0.2, stratify=Y,shuffle=True)\n",
        "train_scaler = preprocessing.StandardScaler().fit(X_train)\n",
        "X_train = train_scaler.transform(X_train)\n",
        "y_train = to_categorical(Y_train)\n",
        "y_test = to_categorical(Y_test)\n",
        "\n",
        "[s1,s2]=X_train.shape\n",
        "[a,b]=y_train.shape\n",
        "inp=tf.keras.Input(shape=(s2,))\n",
        "inp2=tf.keras.layers.Dense(64,activation='relu')(inp)\n",
        "inp2=tf.keras.layers.Dense(32,activation='relu')(inp)\n",
        "inp2=tf.keras.layers.Dense(16,activation='relu')(inp2)\n",
        "inp3=tf.keras.layers.Dense(8,activation='relu')(inp2)\n",
        "out=tf.keras.layers.Dense(b,activation='softmax')(inp3)\n",
        "\n",
        "mdl2=tf.keras.Model(inp,out)\n",
        "print(mdl2.summary())\n",
        "\n",
        "mdl2.compile(loss=categorical_crossentropy,\n",
        "              optimizer=Adam(),\n",
        "              metrics=['accuracy']) # either loss or accuracy\n",
        "\n",
        "callbacks = [\n",
        "    tf.keras.callbacks.ModelCheckpoint(\n",
        "        filepath=\"DNN_3class_b.keras\",\n",
        "        save_best_only=False,\n",
        "        monitor=\"val_acc\"\n",
        "    )\n",
        "]\n",
        "\n",
        "history = mdl2.fit(X_train,y_train,\n",
        "                    epochs = 50, batch_size=128,\n",
        "                    validation_split=0.25,\n",
        "                    callbacks = callbacks)\n"
      ],
      "metadata": {
        "id": "4Xg-yYmGSoXt",
        "colab": {
          "base_uri": "https://localhost:8080/"
        },
        "outputId": "a54192f1-d89c-4250-d298-56cffd338e74"
      },
      "execution_count": null,
      "outputs": [
        {
          "output_type": "stream",
          "name": "stdout",
          "text": [
            "[0. 0. 0. ... 2. 2. 2.]\n",
            "Model: \"model_1\"\n",
            "_________________________________________________________________\n",
            " Layer (type)                Output Shape              Param #   \n",
            "=================================================================\n",
            " input_2 (InputLayer)        [(None, 72)]              0         \n",
            "                                                                 \n",
            " dense_6 (Dense)             (None, 32)                2336      \n",
            "                                                                 \n",
            " dense_7 (Dense)             (None, 16)                528       \n",
            "                                                                 \n",
            " dense_8 (Dense)             (None, 8)                 136       \n",
            "                                                                 \n",
            " dense_9 (Dense)             (None, 3)                 27        \n",
            "                                                                 \n",
            "=================================================================\n",
            "Total params: 3027 (11.82 KB)\n",
            "Trainable params: 3027 (11.82 KB)\n",
            "Non-trainable params: 0 (0.00 Byte)\n",
            "_________________________________________________________________\n",
            "None\n",
            "Epoch 1/50\n",
            "319/319 [==============================] - 3s 4ms/step - loss: 0.4685 - accuracy: 0.8115 - val_loss: 0.2072 - val_accuracy: 0.9367\n",
            "Epoch 2/50\n",
            "319/319 [==============================] - 1s 3ms/step - loss: 0.1487 - accuracy: 0.9531 - val_loss: 0.1265 - val_accuracy: 0.9603\n",
            "Epoch 3/50\n",
            "319/319 [==============================] - 1s 3ms/step - loss: 0.1033 - accuracy: 0.9677 - val_loss: 0.0961 - val_accuracy: 0.9695\n",
            "Epoch 4/50\n",
            "319/319 [==============================] - 1s 3ms/step - loss: 0.0807 - accuracy: 0.9741 - val_loss: 0.0777 - val_accuracy: 0.9745\n",
            "Epoch 5/50\n",
            "319/319 [==============================] - 1s 3ms/step - loss: 0.0671 - accuracy: 0.9779 - val_loss: 0.0675 - val_accuracy: 0.9768\n",
            "Epoch 6/50\n",
            "319/319 [==============================] - 1s 3ms/step - loss: 0.0583 - accuracy: 0.9811 - val_loss: 0.0630 - val_accuracy: 0.9799\n",
            "Epoch 7/50\n",
            "319/319 [==============================] - 1s 3ms/step - loss: 0.0532 - accuracy: 0.9833 - val_loss: 0.0576 - val_accuracy: 0.9808\n",
            "Epoch 8/50\n",
            "319/319 [==============================] - 1s 3ms/step - loss: 0.0468 - accuracy: 0.9849 - val_loss: 0.0505 - val_accuracy: 0.9847\n",
            "Epoch 9/50\n",
            "319/319 [==============================] - 1s 3ms/step - loss: 0.0420 - accuracy: 0.9869 - val_loss: 0.0469 - val_accuracy: 0.9849\n",
            "Epoch 10/50\n",
            "319/319 [==============================] - 1s 3ms/step - loss: 0.0396 - accuracy: 0.9873 - val_loss: 0.0463 - val_accuracy: 0.9842\n",
            "Epoch 11/50\n",
            "319/319 [==============================] - 1s 3ms/step - loss: 0.0364 - accuracy: 0.9887 - val_loss: 0.0432 - val_accuracy: 0.9865\n",
            "Epoch 12/50\n",
            "319/319 [==============================] - 1s 4ms/step - loss: 0.0337 - accuracy: 0.9894 - val_loss: 0.0396 - val_accuracy: 0.9872\n",
            "Epoch 13/50\n",
            "319/319 [==============================] - 2s 5ms/step - loss: 0.0309 - accuracy: 0.9904 - val_loss: 0.0385 - val_accuracy: 0.9865\n",
            "Epoch 14/50\n",
            "319/319 [==============================] - 1s 4ms/step - loss: 0.0292 - accuracy: 0.9906 - val_loss: 0.0360 - val_accuracy: 0.9880\n",
            "Epoch 15/50\n",
            "319/319 [==============================] - 1s 4ms/step - loss: 0.0281 - accuracy: 0.9907 - val_loss: 0.0334 - val_accuracy: 0.9897\n",
            "Epoch 16/50\n",
            "319/319 [==============================] - 1s 3ms/step - loss: 0.0257 - accuracy: 0.9920 - val_loss: 0.0356 - val_accuracy: 0.9883\n",
            "Epoch 17/50\n",
            "319/319 [==============================] - 1s 3ms/step - loss: 0.0242 - accuracy: 0.9923 - val_loss: 0.0294 - val_accuracy: 0.9909\n",
            "Epoch 18/50\n",
            "319/319 [==============================] - 1s 3ms/step - loss: 0.0246 - accuracy: 0.9919 - val_loss: 0.0347 - val_accuracy: 0.9874\n",
            "Epoch 19/50\n",
            "319/319 [==============================] - 1s 3ms/step - loss: 0.0233 - accuracy: 0.9920 - val_loss: 0.0290 - val_accuracy: 0.9912\n",
            "Epoch 20/50\n",
            "319/319 [==============================] - 1s 3ms/step - loss: 0.0214 - accuracy: 0.9928 - val_loss: 0.0349 - val_accuracy: 0.9883\n",
            "Epoch 21/50\n",
            "319/319 [==============================] - 1s 3ms/step - loss: 0.0203 - accuracy: 0.9938 - val_loss: 0.0297 - val_accuracy: 0.9907\n",
            "Epoch 22/50\n",
            "319/319 [==============================] - 1s 3ms/step - loss: 0.0196 - accuracy: 0.9939 - val_loss: 0.0297 - val_accuracy: 0.9903\n",
            "Epoch 23/50\n",
            "319/319 [==============================] - 1s 3ms/step - loss: 0.0195 - accuracy: 0.9933 - val_loss: 0.0284 - val_accuracy: 0.9915\n",
            "Epoch 24/50\n",
            "319/319 [==============================] - 1s 4ms/step - loss: 0.0179 - accuracy: 0.9942 - val_loss: 0.0264 - val_accuracy: 0.9920\n",
            "Epoch 25/50\n",
            "319/319 [==============================] - 1s 3ms/step - loss: 0.0167 - accuracy: 0.9945 - val_loss: 0.0266 - val_accuracy: 0.9912\n",
            "Epoch 26/50\n",
            "319/319 [==============================] - 1s 5ms/step - loss: 0.0159 - accuracy: 0.9949 - val_loss: 0.0260 - val_accuracy: 0.9919\n",
            "Epoch 27/50\n",
            "319/319 [==============================] - 1s 4ms/step - loss: 0.0161 - accuracy: 0.9945 - val_loss: 0.0261 - val_accuracy: 0.9920\n",
            "Epoch 28/50\n",
            "319/319 [==============================] - 2s 6ms/step - loss: 0.0155 - accuracy: 0.9948 - val_loss: 0.0255 - val_accuracy: 0.9920\n",
            "Epoch 29/50\n",
            "319/319 [==============================] - 1s 3ms/step - loss: 0.0145 - accuracy: 0.9951 - val_loss: 0.0297 - val_accuracy: 0.9907\n",
            "Epoch 30/50\n",
            "319/319 [==============================] - 1s 3ms/step - loss: 0.0156 - accuracy: 0.9949 - val_loss: 0.0257 - val_accuracy: 0.9921\n",
            "Epoch 31/50\n",
            "319/319 [==============================] - 1s 3ms/step - loss: 0.0143 - accuracy: 0.9952 - val_loss: 0.0280 - val_accuracy: 0.9911\n",
            "Epoch 32/50\n",
            "319/319 [==============================] - 1s 3ms/step - loss: 0.0146 - accuracy: 0.9951 - val_loss: 0.0289 - val_accuracy: 0.9910\n",
            "Epoch 33/50\n",
            "319/319 [==============================] - 1s 3ms/step - loss: 0.0132 - accuracy: 0.9956 - val_loss: 0.0262 - val_accuracy: 0.9929\n",
            "Epoch 34/50\n",
            "319/319 [==============================] - 1s 3ms/step - loss: 0.0124 - accuracy: 0.9958 - val_loss: 0.0236 - val_accuracy: 0.9930\n",
            "Epoch 35/50\n",
            "319/319 [==============================] - 1s 3ms/step - loss: 0.0128 - accuracy: 0.9956 - val_loss: 0.0262 - val_accuracy: 0.9926\n",
            "Epoch 36/50\n",
            "319/319 [==============================] - 1s 3ms/step - loss: 0.0121 - accuracy: 0.9960 - val_loss: 0.0260 - val_accuracy: 0.9921\n",
            "Epoch 37/50\n",
            "319/319 [==============================] - 1s 3ms/step - loss: 0.0121 - accuracy: 0.9958 - val_loss: 0.0251 - val_accuracy: 0.9922\n",
            "Epoch 38/50\n",
            "319/319 [==============================] - 1s 3ms/step - loss: 0.0131 - accuracy: 0.9957 - val_loss: 0.0211 - val_accuracy: 0.9944\n",
            "Epoch 39/50\n",
            "319/319 [==============================] - 1s 3ms/step - loss: 0.0111 - accuracy: 0.9958 - val_loss: 0.0238 - val_accuracy: 0.9926\n",
            "Epoch 40/50\n",
            "319/319 [==============================] - 1s 4ms/step - loss: 0.0103 - accuracy: 0.9966 - val_loss: 0.0224 - val_accuracy: 0.9932\n",
            "Epoch 41/50\n",
            "319/319 [==============================] - 1s 4ms/step - loss: 0.0108 - accuracy: 0.9965 - val_loss: 0.0220 - val_accuracy: 0.9936\n",
            "Epoch 42/50\n",
            "319/319 [==============================] - 1s 4ms/step - loss: 0.0105 - accuracy: 0.9966 - val_loss: 0.0224 - val_accuracy: 0.9937\n",
            "Epoch 43/50\n",
            "319/319 [==============================] - 2s 5ms/step - loss: 0.0102 - accuracy: 0.9966 - val_loss: 0.0237 - val_accuracy: 0.9928\n",
            "Epoch 44/50\n",
            "319/319 [==============================] - 1s 3ms/step - loss: 0.0097 - accuracy: 0.9969 - val_loss: 0.0260 - val_accuracy: 0.9926\n",
            "Epoch 45/50\n",
            "319/319 [==============================] - 1s 3ms/step - loss: 0.0106 - accuracy: 0.9964 - val_loss: 0.0259 - val_accuracy: 0.9926\n",
            "Epoch 46/50\n",
            "319/319 [==============================] - 1s 3ms/step - loss: 0.0102 - accuracy: 0.9964 - val_loss: 0.0221 - val_accuracy: 0.9938\n",
            "Epoch 47/50\n",
            "319/319 [==============================] - 1s 3ms/step - loss: 0.0110 - accuracy: 0.9961 - val_loss: 0.0252 - val_accuracy: 0.9931\n",
            "Epoch 48/50\n",
            "319/319 [==============================] - 1s 3ms/step - loss: 0.0084 - accuracy: 0.9971 - val_loss: 0.0276 - val_accuracy: 0.9923\n",
            "Epoch 49/50\n",
            "319/319 [==============================] - 1s 3ms/step - loss: 0.0090 - accuracy: 0.9970 - val_loss: 0.0345 - val_accuracy: 0.9922\n",
            "Epoch 50/50\n",
            "319/319 [==============================] - 1s 3ms/step - loss: 0.0094 - accuracy: 0.9969 - val_loss: 0.0236 - val_accuracy: 0.9938\n"
          ]
        }
      ]
    },
    {
      "cell_type": "code",
      "source": [
        "Y"
      ],
      "metadata": {
        "id": "Q1I_lyWabQEX"
      },
      "execution_count": null,
      "outputs": []
    },
    {
      "cell_type": "code",
      "source": [
        "test_model = tf.keras.models.load_model('DNN_3class_b.keras')\n",
        "test_loss, test_acc = mdl2.evaluate(X_test,y_test)\n",
        "\n",
        "print(f\"Best Model's Test Accuracy: {test_acc:.3f}\")\n"
      ],
      "metadata": {
        "id": "9pyNAUweYxQH",
        "colab": {
          "base_uri": "https://localhost:8080/"
        },
        "outputId": "6ce02d16-6329-4637-8d96-aa8b9ad7b8a9"
      },
      "execution_count": null,
      "outputs": [
        {
          "output_type": "stream",
          "name": "stdout",
          "text": [
            "425/425 [==============================] - 1s 3ms/step - loss: 308.8760 - accuracy: 0.4767\n",
            "Best Model's Test Accuracy: 0.477\n"
          ]
        }
      ]
    },
    {
      "cell_type": "code",
      "source": [
        "y_pred=mdl2.predict(X_test)\n",
        "y_pred=np.argmax(y_pred,axis=1)"
      ],
      "metadata": {
        "id": "pYFMdh1FeU5p",
        "colab": {
          "base_uri": "https://localhost:8080/"
        },
        "outputId": "b3e3af43-6dd2-48fc-d874-954ddde6bc5f"
      },
      "execution_count": null,
      "outputs": [
        {
          "output_type": "stream",
          "name": "stdout",
          "text": [
            "425/425 [==============================] - 1s 3ms/step\n"
          ]
        }
      ]
    },
    {
      "cell_type": "code",
      "source": [
        "np.unique(y_pred)"
      ],
      "metadata": {
        "colab": {
          "base_uri": "https://localhost:8080/"
        },
        "id": "n8r05xYIyJWR",
        "outputId": "52205d3e-a9e5-42f0-f22f-98ae5572b3df"
      },
      "execution_count": null,
      "outputs": [
        {
          "output_type": "execute_result",
          "data": {
            "text/plain": [
              "array([0., 1., 2.])"
            ]
          },
          "metadata": {},
          "execution_count": 73
        }
      ]
    },
    {
      "cell_type": "code",
      "source": [
        "y_test"
      ],
      "metadata": {
        "colab": {
          "base_uri": "https://localhost:8080/"
        },
        "id": "_CSod--dx9P7",
        "outputId": "620435e2-f640-42c4-9731-4b56db6afc43"
      },
      "execution_count": null,
      "outputs": [
        {
          "output_type": "execute_result",
          "data": {
            "text/plain": [
              "array([[1., 0., 0.],\n",
              "       [0., 1., 0.],\n",
              "       [0., 0., 1.],\n",
              "       ...,\n",
              "       [0., 1., 0.],\n",
              "       [0., 0., 1.],\n",
              "       [0., 0., 1.]], dtype=float32)"
            ]
          },
          "metadata": {},
          "execution_count": 66
        }
      ]
    },
    {
      "cell_type": "code",
      "source": [],
      "metadata": {
        "id": "zQHLVm42yeYU"
      },
      "execution_count": null,
      "outputs": []
    },
    {
      "cell_type": "code",
      "source": [
        "clf_tree=DecisionTreeClassifier(criterion='entropy',random_state=100,max_depth=10,min_samples_leaf=10)\n",
        "clf_tree.fit(X_train, Y_train)\n",
        "y_pred=clf_tree.predict(X_test)\n",
        "print(f\"Decision Tree Test Accuracy : {np.mean(np.where(y_pred-Y_test==0,1,0))}\")\n",
        "clf_rf = RandomForestClassifier(n_estimators = 5, criterion = 'entropy', random_state = 42,max_depth=10,min_samples_leaf=10)\n",
        "clf_rf.fit(X_train, Y_train)\n",
        "y_pred=clf_rf.predict(X_test)\n",
        "print(f\"Random Forest Test Accuracy : {np.mean(np.where(y_pred-Y_test==0,1,0))}\")"
      ],
      "metadata": {
        "id": "f23taEqsaBfY",
        "colab": {
          "base_uri": "https://localhost:8080/"
        },
        "outputId": "e0e75ec4-735d-4570-e174-48cce8124452"
      },
      "execution_count": null,
      "outputs": [
        {
          "output_type": "stream",
          "name": "stdout",
          "text": [
            "Decision Tree Test Accuracy : 0.3353443201883461\n",
            "Random Forest Test Accuracy : 0.303708063566804\n"
          ]
        }
      ]
    },
    {
      "cell_type": "code",
      "source": [
        "idx=np.where(Y_test==0)\n",
        "X_test_o=np.squeeze(X_test[idx,:])\n",
        "y_test_o=np.squeeze(y_test[idx,:])\n",
        "Y_test_o=np.squeeze(Y_test[idx])\n",
        "test_loss_o, test_acc_outdoor = test_model.evaluate(X_test_o,y_test_o)\n",
        "print(f\"Best Model's Test Accuracy for Outdoor: {test_acc_outdoor:.3f}\")\n",
        "\n",
        "idx=np.where(Y_test==1)\n",
        "X_test_ii=np.squeeze(X_test[idx,:])\n",
        "y_test_ii=np.squeeze(y_test[idx,:])\n",
        "Y_test_ii=np.squeeze(Y_test[idx])\n",
        "test_loss_ii, test_acc_ii = test_model.evaluate(X_test_ii,y_test_ii)\n",
        "print(f\"Best Model's Test Accuracy for Indoor Interior: {test_acc_ii:.3f}\")\n",
        "\n",
        "idx=np.where(Y_test==2)\n",
        "X_test_inw=np.squeeze(X_test[idx,:])\n",
        "y_test_inw=np.squeeze(y_test[idx,:])\n",
        "Y_test_inw=np.squeeze(Y_test[idx])\n",
        "test_loss_inw, test_acc_inw = test_model.evaluate(X_test_inw,y_test_inw)\n",
        "print(f\"Best Model's Test Accuracy for Indoor Near Window: {test_acc_inw:.3f}\")"
      ],
      "metadata": {
        "id": "U82qqGC-VsoM",
        "colab": {
          "base_uri": "https://localhost:8080/"
        },
        "outputId": "abce6e1b-44b6-455a-aa0f-c51c71a1b34e"
      },
      "execution_count": null,
      "outputs": [
        {
          "output_type": "stream",
          "name": "stdout",
          "text": [
            "152/152 [==============================] - 1s 2ms/step - loss: 263.4409 - accuracy: 0.6911\n",
            "Best Model's Test Accuracy for Outdoor: 0.691\n",
            "143/143 [==============================] - 0s 1ms/step - loss: 134.4034 - accuracy: 0.5540\n",
            "Best Model's Test Accuracy for Indoor Interior: 0.554\n",
            "132/132 [==============================] - 0s 2ms/step - loss: 550.9484 - accuracy: 0.1454\n",
            "Best Model's Test Accuracy for Indoor Near Window: 0.145\n"
          ]
        }
      ]
    },
    {
      "cell_type": "code",
      "source": [
        "df_atl_in = pd.read_csv('/content/drive/Shareddrives/Indoor_Outdoor_Classification_Paper/Gtech20_a.csv')\n",
        "df_atl_in=df_atl_in.iloc[:, 5:]\n",
        "[a,b]=df_atl_in.shape\n",
        "print(a)\n",
        "df_atl_in.insert(b, \"classes\", np.ones(a), True)\n",
        "\n",
        "\n",
        "frames3=[df_atl_in]\n",
        "df_atl=pd.concat(frames3)\n",
        "\n",
        "res_atl=df_atl.to_numpy()\n",
        "X_atl=res_atl[:,:b];\n",
        "Y_atl=res_atl[:,b];\n",
        "atl_scaler = preprocessing.StandardScaler().fit(X_atl)\n",
        "X_atl = atl_scaler.transform(X_atl)\n",
        "y_atl = to_categorical(Y_atl)\n",
        "atl_loss, atl_acc = test_model.evaluate(X_atl,y_atl)\n",
        "print(f\"Best Model's Test Accuracy for ATLANTA Gtech20 windows indoor data: {atl_acc:.3f}\")\n",
        "y_pred_atl=clf_tree.predict(X_atl)\n",
        "print(f\"Decision Tree Test Accuracy for ATLANTA Gtech20 windows indoor data : {1-np.mean(np.abs(y_pred_atl-Y_atl))}\")\n",
        "\n",
        "y_pred_atl=clf_rf.predict(X_atl)\n",
        "print(f\"Random Forest Test Accuracy for ATLANTA Gtech20 windows indoor data : {1-np.mean(np.abs(y_pred_atl-Y_atl))}\")"
      ],
      "metadata": {
        "id": "SMfEb3mkDqMd"
      },
      "execution_count": null,
      "outputs": []
    },
    {
      "cell_type": "code",
      "source": [
        "df_atl_in = pd.read_csv('/content/drive/Shareddrives/Indoor_Outdoor_Classification_Paper/Gtech20_b.csv')\n",
        "df_atl_in=df_atl_in.iloc[:, 5:]\n",
        "[a,b]=df_atl_in.shape\n",
        "print(a)\n",
        "df_atl_in.insert(b, \"classes\", np.ones(a), True)\n",
        "\n",
        "\n",
        "frames3=[df_atl_in]\n",
        "df_atl=pd.concat(frames3)\n",
        "\n",
        "res_atl=df_atl.to_numpy()\n",
        "X_atl=res_atl[:,:b];\n",
        "Y_atl=res_atl[:,b];\n",
        "atl_scaler = preprocessing.StandardScaler().fit(X_atl)\n",
        "X_atl = atl_scaler.transform(X_atl)\n",
        "y_atl = to_categorical(Y_atl)\n",
        "atl_loss, atl_acc = test_model.evaluate(X_atl,y_atl)\n",
        "print(f\"Best Model's Test Accuracy for ATLANTA Gtech20 near-window indoor data: {atl_acc:.3f}\")\n",
        "y_pred_atl=clf_tree.predict(X_atl)\n",
        "print(f\"Decision Tree Test Accuracy for ATLANTA Gtech20 near-window indoor data : {1-np.mean(np.abs(y_pred_atl-Y_atl))}\")\n",
        "\n",
        "y_pred_atl=clf_rf.predict(X_atl)\n",
        "print(f\"Random Forest Test Accuracy for ATLANTA Gtech20 near-window indoor data : {1-np.mean(np.abs(y_pred_atl-Y_atl))}\")"
      ],
      "metadata": {
        "id": "x9pfzpq9D7o2"
      },
      "execution_count": null,
      "outputs": []
    },
    {
      "cell_type": "code",
      "source": [
        "df_atl_in = pd.read_csv('/content/drive/Shareddrives/Indoor_Outdoor_Classification_Paper/Gtech9_a.csv')\n",
        "df_atl_in=df_atl_in.iloc[:, 5:]\n",
        "[a,b]=df_atl_in.shape\n",
        "print(a)\n",
        "df_atl_in.insert(b, \"classes\", np.ones(a), True)\n",
        "\n",
        "\n",
        "frames3=[df_atl_in]\n",
        "df_atl=pd.concat(frames3)\n",
        "\n",
        "res_atl=df_atl.to_numpy()\n",
        "X_atl=res_atl[:,:b];\n",
        "Y_atl=res_atl[:,b];\n",
        "atl_scaler = preprocessing.StandardScaler().fit(X_atl)\n",
        "X_atl = atl_scaler.transform(X_atl)\n",
        "y_atl = to_categorical(Y_atl)\n",
        "atl_loss, atl_acc = test_model.evaluate(X_atl,y_atl)\n",
        "print(f\"Best Model's Test Accuracy for ATLANTA Gtech9 near-window indoor data: {atl_acc:.3f}\")\n",
        "y_pred_atl=clf_tree.predict(X_atl)\n",
        "print(f\"Decision Tree Test Accuracy for ATLANTA Gtech9 near-window indoor data : {1-np.mean(np.abs(y_pred_atl-Y_atl))}\")\n",
        "\n",
        "y_pred_atl=clf_rf.predict(X_atl)\n",
        "print(f\"Random Forest Test Accuracy for ATLANTA Gtech9 near-window indoor data : {1-np.mean(np.abs(y_pred_atl-Y_atl))}\")"
      ],
      "metadata": {
        "id": "VSgP6d0aEGHG"
      },
      "execution_count": null,
      "outputs": []
    },
    {
      "cell_type": "code",
      "source": [
        "df_atl_in = pd.read_csv('/content/drive/Shareddrives/Indoor_Outdoor_Classification_Paper/Gtech9_b.csv')\n",
        "df_atl_in=df_atl_in.iloc[:, 5:]\n",
        "[a,b]=df_atl_in.shape\n",
        "print(a)\n",
        "df_atl_in.insert(b, \"classes\", np.ones(a), True)\n",
        "\n",
        "\n",
        "frames3=[df_atl_in]\n",
        "df_atl=pd.concat(frames3)\n",
        "\n",
        "res_atl=df_atl.to_numpy()\n",
        "X_atl=res_atl[:,:b];\n",
        "Y_atl=res_atl[:,b];\n",
        "atl_scaler = preprocessing.StandardScaler().fit(X_atl)\n",
        "X_atl = atl_scaler.transform(X_atl)\n",
        "y_atl = to_categorical(Y_atl)\n",
        "atl_loss, atl_acc = test_model.evaluate(X_atl,y_atl)\n",
        "print(f\"Best Model's Test Accuracy for ATLANTA Gtech9 window indoor data: {atl_acc:.3f}\")\n",
        "y_pred_atl=clf_tree.predict(X_atl)\n",
        "print(f\"Decision Tree Test Accuracy for ATLANTA Gtech9 window indoor data : {1-np.mean(np.abs(y_pred_atl-Y_atl))}\")\n",
        "\n",
        "y_pred_atl=clf_rf.predict(X_atl)\n",
        "print(f\"Random Forest Test Accuracy for ATLANTA Gtech9 window indoor data : {1-np.mean(np.abs(y_pred_atl-Y_atl))}\")"
      ],
      "metadata": {
        "id": "gbFmShcQEXXM"
      },
      "execution_count": null,
      "outputs": []
    },
    {
      "cell_type": "code",
      "source": [
        "atl_scaler = preprocessing.StandardScaler().fit(X_atl)\n",
        "X_atl = atl_scaler.transform(X_atl)\n",
        "y_atl = to_categorical(Y_atl)"
      ],
      "metadata": {
        "id": "ESnPiFjDMhEB"
      },
      "execution_count": null,
      "outputs": []
    },
    {
      "cell_type": "code",
      "source": [
        "atl_loss, atl_acc = test_model.evaluate(X_atl,y_atl)\n",
        "print(f\"Best Model's Test Accuracy for ATLANTA data: {atl_acc:.3f}\")\n",
        "y_pred_atl=clf_tree.predict(X_atl)\n",
        "print(f\"Decision Tree Test Accuracy for ATALANTA data : {1-np.mean(np.abs(y_pred_atl-Y_atl))}\")\n",
        "\n",
        "y_pred_atl=clf_rf.predict(X_atl)\n",
        "print(f\"Random Forest Test Accuracy for ATALANTA data : {1-np.mean(np.abs(y_pred_atl-Y_atl))}\")"
      ],
      "metadata": {
        "id": "6-OxS9fTNKR1"
      },
      "execution_count": null,
      "outputs": []
    },
    {
      "cell_type": "markdown",
      "source": [
        "# Data Analysis"
      ],
      "metadata": {
        "id": "DIEVMF0ESwY9"
      }
    },
    {
      "cell_type": "code",
      "source": [
        "df_ii = pd.read_csv('/content/drive/Shareddrives/Indoor_Outdoor_Classification_Paper/ii5.csv')\n",
        "df_inw = pd.read_csv('/content/drive/Shareddrives/Indoor_Outdoor_Classification_Paper/inw5.csv')\n",
        "frame_in=[df_ii,df_inw]\n",
        "df_i=pd.concat(frame_in)"
      ],
      "metadata": {
        "id": "e4-XjbLpoyRB"
      },
      "execution_count": null,
      "outputs": []
    },
    {
      "cell_type": "code",
      "source": [
        "df_i"
      ],
      "metadata": {
        "id": "TkgBnn69Svdn"
      },
      "execution_count": null,
      "outputs": []
    },
    {
      "cell_type": "code",
      "source": [
        "def weighted_mean_db(w1,v1,w2,v2):\n",
        "  v1_lin=10**(v1/10)\n",
        "  v2_lin=10**(v2/10)\n",
        "  temp=10*np.log10((w1*v1_lin+w2*v2_lin)/(w1+w2))\n",
        "  return temp.replace('NaN',0)\n"
      ],
      "metadata": {
        "id": "OWWBkPz5UvzD"
      },
      "execution_count": null,
      "outputs": []
    },
    {
      "cell_type": "code",
      "source": [
        "# Indoors\n",
        "\n",
        "\n",
        "LTE_NUM_II_f1=df_ii.lte_num_of_f1\n",
        "LTE_NUM_II_f2=df_ii.lte_num_of_f2\n",
        "LTE_RSRP_Count_II=LTE_NUM_II_f1+LTE_NUM_II_f2\n",
        "LTE_RSRP_AVG_II=weighted_mean_db(LTE_NUM_II_f1,df_ii.lte_avg_rsrp_f1,LTE_NUM_II_f2,df_ii.lte_avg_rsrp_f2)\n",
        "LTE_RSRP_Max_II=df_ii[['lte_max_rsrp_f1','lte_max_rsrp_f2']].max(axis=1)\n",
        "LTE_RSRP_Min_II=df_ii[['lte_min_rsrp_f1','lte_min_rsrp_f2']].min(axis=1)\n",
        "\n",
        "\n",
        "LTE_RSSI_Count_II=LTE_NUM_II_f1+LTE_NUM_II_f2\n",
        "LTE_RSSI_AVG_II=weighted_mean_db(LTE_NUM_II_f1,df_ii.lte_avg_rssi_f1,LTE_NUM_II_f2,df_ii.lte_avg_rssi_f2)\n",
        "LTE_RSSI_Max_II=df_ii[['lte_max_rssi_f1','lte_max_rssi_f2']].max(axis=1)\n",
        "LTE_RSSI_Min_II=df_ii[['lte_min_rssi_f1','lte_min_rssi_f2']].min(axis=1)\n",
        "\n",
        "LTE_RSRQ_Count_II=LTE_NUM_II_f1+LTE_NUM_II_f2\n",
        "LTE_RSRQ_AVG_II=weighted_mean_db(LTE_NUM_II_f1,df_ii.lte_avg_rsrq_f1,LTE_NUM_II_f2,df_ii.lte_avg_rsrq_f2)\n",
        "LTE_RSRQ_Max_II=df_ii[['lte_max_rsrq_f1','lte_max_rsrq_f2']].max(axis=1)\n",
        "LTE_RSRQ_Min_II=df_ii[['lte_min_rsrq_f1','lte_min_rsrq_f2']].min(axis=1)\n",
        "\n",
        "\n",
        "# Indoor NearWindow\n",
        "\n",
        "LTE_NUM_INW_f1=df_inw.lte_num_of_f1\n",
        "LTE_NUM_INW_f2=df_inw.lte_num_of_f2\n",
        "LTE_RSRP_Count_INW=LTE_NUM_INW_f1+LTE_NUM_INW_f2\n",
        "LTE_RSRP_AVG_INW=weighted_mean_db(LTE_NUM_INW_f1,df_inw.lte_avg_rsrp_f1,LTE_NUM_INW_f2,df_inw.lte_avg_rsrp_f2)\n",
        "LTE_RSRP_Max_INW=df_inw[['lte_max_rsrp_f1','lte_max_rsrp_f2']].max(axis=1)\n",
        "LTE_RSRP_Min_INW=df_inw[['lte_min_rsrp_f1','lte_min_rsrp_f2']].min(axis=1)\n",
        "\n",
        "LTE_RSSI_Count_INW=LTE_NUM_INW_f1+LTE_NUM_INW_f2\n",
        "LTE_RSSI_AVG_INW=weighted_mean_db(LTE_NUM_INW_f1,df_inw.lte_avg_rssi_f1,LTE_NUM_INW_f2,df_inw.lte_avg_rssi_f2)\n",
        "LTE_RSSI_Max_INW=df_inw[['lte_max_rssi_f1','lte_max_rssi_f2']].max(axis=1)\n",
        "LTE_RSSI_Min_INW=df_inw[['lte_min_rssi_f1','lte_min_rssi_f2']].min(axis=1)\n",
        "\n",
        "LTE_RSRQ_Count_INW=LTE_NUM_INW_f1+LTE_NUM_INW_f2\n",
        "LTE_RSRQ_AVG_INW=weighted_mean_db(LTE_NUM_INW_f1,df_inw.lte_avg_rsrq_f1,LTE_NUM_INW_f2,df_inw.lte_avg_rsrq_f2)\n",
        "LTE_RSRQ_Max_INW=df_inw[['lte_max_rsrq_f1','lte_max_rsrq_f2']].max(axis=1)\n",
        "LTE_RSRQ_Min_INW=df_inw[['lte_min_rsrq_f1','lte_min_rsrq_f2']].min(axis=1)\n",
        "\n",
        "\n",
        "\n",
        "\n",
        "# Outdoors\n",
        "\n",
        "LTE_NUM_O_f1=df_o.lte_num_of_f1\n",
        "LTE_NUM_O_f2=df_o.lte_num_of_f2\n",
        "LTE_RSRP_Count_O=LTE_NUM_O_f1+LTE_NUM_O_f2\n",
        "LTE_RSRP_AVG_O=weighted_mean_db(LTE_NUM_O_f1,df_o.lte_avg_rsrp_f1,LTE_NUM_O_f2,df_o.lte_avg_rsrp_f2)\n",
        "LTE_RSRP_Max_O=df_o[['lte_max_rsrp_f1','lte_max_rsrp_f2']].max(axis=1)\n",
        "LTE_RSRP_Min_O=df_o[['lte_min_rsrp_f1','lte_min_rsrp_f2']].min(axis=1)\n",
        "\n",
        "\n",
        "LTE_RSSI_Count_O=LTE_NUM_O_f1+LTE_NUM_O_f2\n",
        "LTE_RSSI_AVG_O=weighted_mean_db(LTE_NUM_O_f1,df_o.lte_avg_rssi_f1,LTE_NUM_O_f2,df_o.lte_avg_rssi_f2)\n",
        "LTE_RSSI_Max_O=df_o[['lte_max_rssi_f1','lte_max_rssi_f2']].max(axis=1)\n",
        "LTE_RSSI_Min_O=df_o[['lte_min_rssi_f1','lte_min_rssi_f2']].min(axis=1)\n",
        "\n",
        "LTE_RSRQ_Count_O=LTE_NUM_O_f1+LTE_NUM_O_f2\n",
        "LTE_RSRQ_AVG_O=weighted_mean_db(LTE_NUM_O_f1,df_o.lte_avg_rsrq_f1,LTE_NUM_O_f2,df_o.lte_avg_rsrq_f2)\n",
        "LTE_RSRQ_Max_O=df_o[['lte_max_rsrq_f1','lte_max_rsrq_f2']].max(axis=1)\n",
        "LTE_RSRQ_Min_O=df_o[['lte_min_rsrq_f1','lte_min_rsrq_f2']].min(axis=1)"
      ],
      "metadata": {
        "id": "JdL8GuxR0aHI"
      },
      "execution_count": null,
      "outputs": []
    },
    {
      "cell_type": "code",
      "source": [
        "cols = ['{}'.format(col) for col in ['Max.', 'Min.', 'Avg.']]\n",
        "rows = ['{}'.format(row) for row in ['Indoors Interrior',\"Indoors Near Window\", 'Outdoors']]\n",
        "\n",
        "fig, axes = plt.subplots(nrows=3, ncols=3, figsize=(12, 8))\n",
        "plt.setp(axes.flat, xlabel='RSRQ (dBm)', ylabel='RSRP (dBm)')\n",
        "\n",
        "pad = 5 # in points\n",
        "\n",
        "for ax, col in zip(axes[0], cols):\n",
        "    ax.annotate(col, xy=(0.5, 1), xytext=(0, pad),\n",
        "                xycoords='axes fraction', textcoords='offset points',\n",
        "                size='large', ha='center', va='baseline')\n",
        "\n",
        "for ax, row in zip(axes[:,0], rows):\n",
        "    ax.annotate(row, xy=(0, 0.5), xytext=(-ax.yaxis.labelpad - pad, 0),\n",
        "                xycoords=ax.yaxis.label, textcoords='offset points',\n",
        "                size='large', ha='right', va='center')\n",
        "\n",
        "fig.tight_layout()\n",
        "# tight_layout doesn't take these labels into account. We'll need\n",
        "# to make some room. These numbers are are manually tweaked.\n",
        "# You could automatically calculate them, but it's a pain.\n",
        "\n",
        "# Indoors\n",
        "\n",
        "axes[0,0].scatter(LTE_RSRQ_Max_II,LTE_RSRP_Max_II)\n",
        "axes[0,0].set_xlim((-30,0))\n",
        "\n",
        "axes[1,0].scatter(LTE_RSRQ_Max_INW,LTE_RSRP_Max_INW)\n",
        "axes[1,0].set_xlim((-30,0))\n",
        "\n",
        "axes[2,0].scatter(LTE_RSRQ_Max_O,LTE_RSRP_Max_O)\n",
        "axes[2,0].set_xlim((-30,0))\n",
        "\n",
        "axes[0,1].scatter(LTE_RSRQ_Min_II,LTE_RSRP_Min_II)\n",
        "axes[0,1].set_xlim((-30,0))\n",
        "\n",
        "axes[1,1].scatter(LTE_RSRQ_Min_INW,LTE_RSRP_Min_INW)\n",
        "axes[1,1].set_xlim((-30,0))\n",
        "\n",
        "axes[2,1].scatter(LTE_RSRQ_Min_O,LTE_RSRP_Min_O)\n",
        "axes[2,1].set_xlim((-30,0))\n",
        "\n",
        "axes[0,2].scatter(LTE_RSRQ_AVG_II,LTE_RSRP_AVG_II)\n",
        "axes[0,2].set_xlim((-30,0))\n",
        "\n",
        "axes[1,2].scatter(LTE_RSRQ_AVG_INW,LTE_RSRP_AVG_INW)\n",
        "axes[1,2].set_xlim((-30,0))\n",
        "\n",
        "axes[2,2].scatter(LTE_RSRQ_AVG_O,LTE_RSRP_AVG_O)\n",
        "axes[2,2].set_xlim((-30,0))\n"
      ],
      "metadata": {
        "colab": {
          "base_uri": "https://localhost:8080/",
          "height": 825
        },
        "id": "BbqZxsu9128u",
        "outputId": "aa8c89e5-0473-4c4c-935c-ecc2c3ef916b"
      },
      "execution_count": null,
      "outputs": [
        {
          "output_type": "execute_result",
          "data": {
            "text/plain": [
              "(-30.0, 0.0)"
            ]
          },
          "metadata": {},
          "execution_count": 82
        },
        {
          "output_type": "display_data",
          "data": {
            "text/plain": [
              "<Figure size 1200x800 with 9 Axes>"
            ],
            "image/png": "[encoded data removed]"
          },
          "metadata": {}
        }
      ]
    },
    {
      "cell_type": "code",
      "source": [
        "# Indoors\n",
        "\n",
        "NR_NUM_II_f1=df_ii.nr_num_of_f1\n",
        "NR_NUM_II_f2=df_ii.nr_num_of_f2\n",
        "NR_RSRP_Count_II=NR_NUM_II_f1+NR_NUM_II_f2\n",
        "NR_RSRP_AVG_II=weighted_mean_db(NR_NUM_II_f1,df_ii.nr_avg_rsrp_f1,NR_NUM_II_f2,df_ii.nr_avg_rsrp_f2)\n",
        "NR_RSRP_Max_II=df_ii[['nr_max_rsrp_f1','nr_max_rsrp_f2']].max(axis=1)\n",
        "NR_RSRP_Min_II=df_ii[['nr_min_rsrp_f1','nr_min_rsrp_f2']].min(axis=1)\n",
        "\n",
        "NR_RSSI_Count_II=NR_NUM_II_f1+NR_NUM_II_f2\n",
        "NR_RSSI_AVG_II=weighted_mean_db(NR_NUM_II_f1,df_ii.nr_avg_rssi_f1,NR_NUM_II_f2,df_ii.nr_avg_rssi_f2)\n",
        "NR_RSSI_Max_II=df_ii[['nr_max_rssi_f1','nr_max_rssi_f2']].max(axis=1)\n",
        "NR_RSSI_Min_II=df_ii[['nr_min_rssi_f1','nr_min_rssi_f2']].min(axis=1)\n",
        "\n",
        "NR_RSRQ_Count_II=NR_NUM_II_f1+NR_NUM_II_f2\n",
        "NR_RSRQ_AVG_II=weighted_mean_db(NR_NUM_II_f1,df_ii.nr_avg_rsrq_f1,NR_NUM_II_f2,df_ii.nr_avg_rsrq_f2)\n",
        "NR_RSRQ_Max_II=df_ii[['nr_max_rsrq_f1','nr_max_rsrq_f2']].max(axis=1)\n",
        "NR_RSRQ_Min_II=df_ii[['nr_min_rsrq_f1','nr_min_rsrq_f2']].min(axis=1)\n",
        "\n",
        "\n",
        "# Indoors NW\n",
        "\n",
        "NR_NUM_INW_f1=df_inw.nr_num_of_f1\n",
        "NR_NUM_INW_f2=df_inw.nr_num_of_f2\n",
        "NR_RSRP_Count_INW=NR_NUM_INW_f1+NR_NUM_INW_f2\n",
        "NR_RSRP_AVG_INW=weighted_mean_db(NR_NUM_INW_f1,df_inw.nr_avg_rsrp_f1,NR_NUM_INW_f2,df_inw.nr_avg_rsrp_f2)\n",
        "NR_RSRP_Max_INW=df_inw[['nr_max_rsrp_f1','nr_max_rsrp_f2']].max(axis=1)\n",
        "NR_RSRP_Min_INW=df_inw[['nr_min_rsrp_f1','nr_min_rsrp_f2']].min(axis=1)\n",
        "\n",
        "NR_RSSI_Count_INW=NR_NUM_INW_f1+NR_NUM_INW_f2\n",
        "NR_RSSI_AVG_INW=weighted_mean_db(NR_NUM_INW_f1,df_inw.nr_avg_rssi_f1,NR_NUM_INW_f2,df_inw.nr_avg_rssi_f2)\n",
        "NR_RSSI_Max_INW=df_inw[['nr_max_rssi_f1','nr_max_rssi_f2']].max(axis=1)\n",
        "NR_RSSI_Min_INW=df_inw[['nr_min_rssi_f1','nr_min_rssi_f2']].min(axis=1)\n",
        "\n",
        "NR_RSRQ_Count_INW=NR_NUM_INW_f1+NR_NUM_INW_f2\n",
        "NR_RSRQ_AVG_INW=weighted_mean_db(NR_NUM_INW_f1,df_inw.nr_avg_rsrq_f1,NR_NUM_INW_f2,df_inw.nr_avg_rsrq_f2)\n",
        "NR_RSRQ_Max_INW=df_inw[['nr_max_rsrq_f1','nr_max_rsrq_f2']].max(axis=1)\n",
        "NR_RSRQ_Min_INW=df_inw[['nr_min_rsrq_f1','nr_min_rsrq_f2']].min(axis=1)\n",
        "\n",
        "\n",
        "\n",
        "# Outdoors\n",
        "\n",
        "NR_NUM_O_f1=df_o.nr_num_of_f1\n",
        "NR_NUM_O_f2=df_o.nr_num_of_f2\n",
        "NR_RSRP_Count_O=NR_NUM_O_f1+NR_NUM_O_f2\n",
        "NR_RSRP_AVG_O=weighted_mean_db(NR_NUM_O_f1,df_o.nr_avg_rsrp_f1,NR_NUM_O_f2,df_o.nr_avg_rsrp_f2)\n",
        "NR_RSRP_Max_O=df_o[['nr_max_rsrp_f1','nr_max_rsrp_f2']].max(axis=1)\n",
        "NR_RSRP_Min_O=df_o[['nr_min_rsrp_f1','nr_min_rsrp_f2']].min(axis=1)\n",
        "\n",
        "NR_RSSI_Count_O=NR_NUM_O_f1+NR_NUM_O_f2\n",
        "NR_RSSI_AVG_O=weighted_mean_db(NR_NUM_O_f1,df_o.nr_avg_rssi_f1,NR_NUM_O_f2,df_o.nr_avg_rssi_f2)\n",
        "NR_RSSI_Max_O=df_o[['nr_max_rssi_f1','nr_max_rssi_f2']].max(axis=1)\n",
        "NR_RSSI_Min_O=df_o[['nr_min_rssi_f1','nr_min_rssi_f2']].min(axis=1)\n",
        "\n",
        "NR_RSRQ_Count_O=NR_NUM_O_f1+NR_NUM_O_f2\n",
        "NR_RSRQ_AVG_O=weighted_mean_db(NR_NUM_O_f1,df_o.nr_avg_rsrq_f1,NR_NUM_O_f2,df_o.nr_avg_rsrq_f2)\n",
        "NR_RSRQ_Max_O=df_o[['nr_max_rsrq_f1','nr_max_rsrq_f2']].max(axis=1)\n",
        "NR_RSRQ_Min_O=df_o[['nr_min_rsrq_f1','nr_min_rsrq_f2']].min(axis=1)\n",
        "\n"
      ],
      "metadata": {
        "id": "Oqvc7f6q44bG"
      },
      "execution_count": null,
      "outputs": []
    },
    {
      "cell_type": "code",
      "source": [
        "cols = ['{}'.format(col) for col in ['Max.', 'Min.', 'Avg.']]\n",
        "rows = ['{}'.format(row) for row in ['Indoors Interriot','Indoors Near Window', 'Outdoors']]\n",
        "\n",
        "fig, axes = plt.subplots(nrows=3, ncols=3, figsize=(12, 8))\n",
        "plt.setp(axes.flat, xlabel='RSRQ (dBm)', ylabel='RSRP (dBm)')\n",
        "\n",
        "pad = 5 # in points\n",
        "\n",
        "for ax, col in zip(axes[0], cols):\n",
        "    ax.annotate(col, xy=(0.5, 1), xytext=(0, pad),\n",
        "                xycoords='axes fraction', textcoords='offset points',\n",
        "                size='large', ha='center', va='baseline')\n",
        "\n",
        "for ax, row in zip(axes[:,0], rows):\n",
        "    ax.annotate(row, xy=(0, 0.5), xytext=(-ax.yaxis.labelpad - pad, 0),\n",
        "                xycoords=ax.yaxis.label, textcoords='offset points',\n",
        "                size='large', ha='right', va='center')\n",
        "\n",
        "fig.tight_layout()\n",
        "# tight_layout doesn't take these labels into account. We'll need\n",
        "# to make some room. These numbers are are manually tweaked.\n",
        "# You could automatically calculate them, but it's a pain.\n",
        "\n",
        "axes[0,0].scatter(NR_RSRQ_Max_II,NR_RSRP_Max_II)\n",
        "axes[0,0].set_xlim((-30,0))\n",
        "\n",
        "axes[1,0].scatter(NR_RSRQ_Max_INW,NR_RSRP_Max_INW)\n",
        "axes[1,0].set_xlim((-30,0))\n",
        "\n",
        "axes[2,0].scatter(NR_RSRQ_Max_O,NR_RSRP_Max_O)\n",
        "axes[2,0].set_xlim((-30,0))\n",
        "\n",
        "axes[0,1].scatter(NR_RSRQ_Min_II,NR_RSRP_Min_II)\n",
        "axes[0,1].set_xlim((-30,0))\n",
        "\n",
        "axes[1,1].scatter(NR_RSRQ_Min_INW,NR_RSRP_Min_INW)\n",
        "axes[1,1].set_xlim((-30,0))\n",
        "\n",
        "axes[2,1].scatter(NR_RSRQ_Min_O,NR_RSRP_Min_O)\n",
        "axes[2,1].set_xlim((-30,0))\n",
        "\n",
        "axes[0,2].scatter(NR_RSRQ_AVG_II,NR_RSRP_AVG_II)\n",
        "axes[0,2].set_xlim((-30,0))\n",
        "\n",
        "axes[1,2].scatter(NR_RSRQ_AVG_INW,NR_RSRP_AVG_INW)\n",
        "axes[1,2].set_xlim((-30,0))\n",
        "\n",
        "axes[2,2].scatter(NR_RSRQ_AVG_O,NR_RSRP_AVG_O)\n",
        "axes[2,2].set_xlim((-30,0))\n",
        "\n",
        "\n",
        "\n",
        "\n"
      ],
      "metadata": {
        "colab": {
          "base_uri": "https://localhost:8080/",
          "height": 825
        },
        "id": "QPhL8koh5OKq",
        "outputId": "cc722d9c-5de0-4ef3-d1d0-24d6fb322163"
      },
      "execution_count": null,
      "outputs": [
        {
          "output_type": "execute_result",
          "data": {
            "text/plain": [
              "(-30.0, 0.0)"
            ]
          },
          "metadata": {},
          "execution_count": 88
        },
        {
          "output_type": "display_data",
          "data": {
            "text/plain": [
              "<Figure size 1200x800 with 9 Axes>"
            ],
            "image/png": "[encoded data removed]"
          },
          "metadata": {}
        }
      ]
    },
    {
      "cell_type": "code",
      "source": [
        "\n"
      ],
      "metadata": {
        "id": "Uc97KVa46fdK"
      },
      "execution_count": null,
      "outputs": []
    },
    {
      "cell_type": "markdown",
      "source": [
        "Bot plox\n"
      ],
      "metadata": {
        "id": "Ps-PKbLkLR2N"
      }
    },
    {
      "cell_type": "code",
      "source": [
        "Out_count_lte_f1=df_o.lte_num_of_f1\n",
        "II_count_lte_f1=df_ii.lte_num_of_f1\n",
        "INW_count_lte_f1=df_inw.lte_num_of_f1\n",
        "\n",
        "Out_count_lte_f2=df_o.lte_num_of_f2\n",
        "II_count_lte_f2=df_ii.lte_num_of_f2\n",
        "INW_count_lte_f2=df_inw.lte_num_of_f2"
      ],
      "metadata": {
        "id": "_j5eqxQNf-Ki"
      },
      "execution_count": null,
      "outputs": []
    },
    {
      "cell_type": "code",
      "source": [
        "# Combine the data into a list\n",
        "data = [Out_count_lte_f1, II_count_lte_f1, INW_count_lte_f1]\n",
        "\n",
        "# Colors for the boxplots\n",
        "colors = ['red', 'blue', 'green']\n",
        "\n",
        "# Create a figure and a set of subplots\n",
        "fig, ax = plt.subplots()\n",
        "\n",
        "# Create the boxplot with color customization\n",
        "bp = ax.boxplot(data, patch_artist=True)  # patch_artist must be True to fill with color\n",
        "\n",
        "# Coloring each box\n",
        "for patch, color in zip(bp['boxes'], colors):\n",
        "    patch.set_facecolor(color)\n",
        "\n",
        "# Set the x-tick labels\n",
        "ax.set_xticklabels(['O', 'II', 'INW'],fontsize='x-large')\n",
        "\n",
        "# Adding labels and title\n",
        "\n",
        "plt.ylabel('Number of unique PCIs',fontsize='x-large')\n",
        "plt.grid('true')\n",
        "plt.xlabel('Location type',fontsize='x-large')\n",
        "ax.yaxis.set_major_locator(MaxNLocator(integer=True))\n",
        "# Show the plot\n",
        "plt.show()"
      ],
      "metadata": {
        "colab": {
          "base_uri": "https://localhost:8080/",
          "height": 459
        },
        "id": "dpIhMiACgdC3",
        "outputId": "e96fa8f5-c5a8-4631-91b9-80747a203308"
      },
      "execution_count": null,
      "outputs": [
        {
          "output_type": "display_data",
          "data": {
            "text/plain": [
              "<Figure size 640x480 with 1 Axes>"
            ],
            "image/png": "[encoded data removed]"
          },
          "metadata": {}
        }
      ]
    },
    {
      "cell_type": "code",
      "source": [],
      "metadata": {
        "id": "gOnd3IAPOyGh"
      },
      "execution_count": null,
      "outputs": []
    },
    {
      "cell_type": "code",
      "source": [
        "np.unique(INW_count_lte_f2)"
      ],
      "metadata": {
        "colab": {
          "base_uri": "https://localhost:8080/"
        },
        "id": "Gxniaxp0hQg0",
        "outputId": "f2ce337f-7e2e-4e3d-9bd3-a20021728101"
      },
      "execution_count": null,
      "outputs": [
        {
          "output_type": "execute_result",
          "data": {
            "text/plain": [
              "array([ 0,  1,  2,  3,  4,  5,  6,  7,  8,  9, 10])"
            ]
          },
          "metadata": {},
          "execution_count": 17
        }
      ]
    },
    {
      "cell_type": "code",
      "source": [
        "# Combine the data into a list\n",
        "data = [Out_count_lte_f2, II_count_lte_f2, INW_count_lte_f2]\n",
        "\n",
        "# Colors for the boxplots\n",
        "colors = ['red', 'blue', 'green']\n",
        "\n",
        "# Create a figure and a set of subplots\n",
        "fig, ax = plt.subplots()\n",
        "\n",
        "# Create the boxplot with color customization\n",
        "bp = ax.boxplot(data, patch_artist=True)  # patch_artist must be True to fill with color\n",
        "\n",
        "# Coloring each box\n",
        "for patch, color in zip(bp['boxes'], colors):\n",
        "    patch.set_facecolor(color)\n",
        "\n",
        "# Set the x-tick labels\n",
        "ax.set_xticklabels(['O', 'II', 'INW'],fontsize='x-large')\n",
        "\n",
        "# Adding labels and title\n",
        "\n",
        "plt.ylabel('Number of unique PCIs',fontsize='x-large')\n",
        "plt.xlabel('Location type',fontsize='x-large')\n",
        "ax.yaxis.set_major_locator(MaxNLocator(integer=True))\n",
        "plt.grid('true')\n",
        "# Show the plot\n",
        "plt.show()"
      ],
      "metadata": {
        "colab": {
          "base_uri": "https://localhost:8080/",
          "height": 459
        },
        "id": "TA9YUIg2h2WG",
        "outputId": "010d16c9-de16-4fa6-8cfc-f72c1bf8794c"
      },
      "execution_count": null,
      "outputs": [
        {
          "output_type": "display_data",
          "data": {
            "text/plain": [
              "<Figure size 640x480 with 1 Axes>"
            ],
            "image/png": "[encoded data removed]"
          },
          "metadata": {}
        }
      ]
    },
    {
      "cell_type": "code",
      "source": [
        "np.unique(INW_count_lte_f1)"
      ],
      "metadata": {
        "colab": {
          "base_uri": "https://localhost:8080/"
        },
        "id": "MStZYtZxPAY5",
        "outputId": "381b24a0-350a-40eb-df2f-fc4205b9d38b"
      },
      "execution_count": null,
      "outputs": [
        {
          "output_type": "execute_result",
          "data": {
            "text/plain": [
              "array([0, 1, 2, 3, 4, 5, 6])"
            ]
          },
          "metadata": {},
          "execution_count": 13
        }
      ]
    },
    {
      "cell_type": "code",
      "source": [
        "# Combine the data into a list\n",
        "data = [Out_count_nr_f1, II_count_nr_f1, INW_count_nr_f1]\n",
        "\n",
        "# Colors for the boxplots\n",
        "colors = ['red', 'blue', 'green']\n",
        "\n",
        "# Create a figure and a set of subplots\n",
        "fig, ax = plt.subplots()\n",
        "\n",
        "# Create the boxplot with color customization\n",
        "bp = ax.boxplot(data, patch_artist=True)  # patch_artist must be True to fill with color\n",
        "\n",
        "# Coloring each box\n",
        "for patch, color in zip(bp['boxes'], colors):\n",
        "    patch.set_facecolor(color)\n",
        "\n",
        "# Set the x-tick labels\n",
        "ax.set_xticklabels(['O', 'II', 'INW'])\n",
        "\n",
        "# Adding labels and title\n",
        "\n",
        "plt.ylabel('Number of unique PCIs')\n",
        "plt.grid('true')\n",
        "plt.xlabel('Location type')\n",
        "\n",
        "# Show the plot\n",
        "plt.show()"
      ],
      "metadata": {
        "colab": {
          "base_uri": "https://localhost:8080/",
          "height": 449
        },
        "id": "bJh2suDtOZme",
        "outputId": "e2be64cf-b194-41b2-fd92-2af937da10c1"
      },
      "execution_count": null,
      "outputs": [
        {
          "output_type": "display_data",
          "data": {
            "text/plain": [
              "<Figure size 640x480 with 1 Axes>"
            ],
            "image/png": "[encoded data removed]"
          },
          "metadata": {}
        }
      ]
    },
    {
      "cell_type": "code",
      "source": [
        "# Combine the data into a list\n",
        "data = [Out_count_lte_f1, II_count_lte_f1, INW_count_lte_f1]\n",
        "\n",
        "# Colors for the boxplots\n",
        "colors = ['red', 'blue', 'green']\n",
        "\n",
        "# Create a figure and a set of subplots\n",
        "fig, ax = plt.subplots()\n",
        "\n",
        "# Create the boxplot with color customization\n",
        "bp = ax.boxplot(data, patch_artist=True)  # patch_artist must be True to fill with color\n",
        "\n",
        "# Coloring each box\n",
        "for patch, color in zip(bp['boxes'], colors):\n",
        "    patch.set_facecolor(color)\n",
        "\n",
        "# Set the x-tick labels\n",
        "ax.set_xticklabels(['O', 'II', 'INW'])\n",
        "\n",
        "# Adding labels and title\n",
        "\n",
        "plt.ylabel('Number of unique PCIs')\n",
        "plt.grid('true')\n",
        "plt.xlabel('Location type')\n",
        "plt.xlabel('Location type')\n",
        "\n",
        "# Show the plot\n",
        "plt.show()"
      ],
      "metadata": {
        "colab": {
          "base_uri": "https://localhost:8080/",
          "height": 449
        },
        "id": "Iv6zAtfPOdxC",
        "outputId": "eed766e8-b978-486e-a8cc-2b6dd73b188c"
      },
      "execution_count": null,
      "outputs": [
        {
          "output_type": "display_data",
          "data": {
            "text/plain": [
              "<Figure size 640x480 with 1 Axes>"
            ],
            "image/png": "[encoded data removed]"
          },
          "metadata": {}
        }
      ]
    },
    {
      "cell_type": "code",
      "source": [
        "Out_count_nr_f1=df_o.nr_num_of_f1\n",
        "II_count_nr_f1=df_ii.nr_num_of_f1\n",
        "INW_count_nr_f1=df_inw.nr_num_of_f1\n",
        "\n",
        "Out_count_nr_f2=df_o.nr_num_of_f2\n",
        "II_count_nr_f2=df_ii.nr_num_of_f2\n",
        "INW_count_nr_f2=df_inw.nr_num_of_f2"
      ],
      "metadata": {
        "id": "ZjZUh6Z3OMJY"
      },
      "execution_count": null,
      "outputs": []
    },
    {
      "cell_type": "code",
      "source": [],
      "metadata": {
        "id": "nxk-3widOW1P"
      },
      "execution_count": null,
      "outputs": []
    },
    {
      "cell_type": "code",
      "source": [
        "Out_max_lte_f1 = df_o.lte_max_rsrp_f1\n",
        "II_max_lte_f1 = df_ii.lte_max_rsrp_f1\n",
        "INW_max_lte_f1 = df_inw.lte_max_rsrp_f1\n",
        "\n",
        "Out_max_lte_f2 = df_o.lte_max_rsrp_f1\n",
        "II_max_lte_f2 = df_ii.lte_max_rsrp_f2\n",
        "INW_max_lte_f2 = df_inw.lte_max_rsrp_f2"
      ],
      "metadata": {
        "id": "zoyaznGih_ph"
      },
      "execution_count": null,
      "outputs": []
    },
    {
      "cell_type": "code",
      "source": [
        "# Combine the data into a list\n",
        "data = [Out_max_lte_f1, II_max_lte_f1, INW_max_lte_f1]\n",
        "\n",
        "# Colors for the boxplots\n",
        "colors = ['red', 'blue', 'green']\n",
        "\n",
        "# Create a figure and a set of subplots\n",
        "fig, ax = plt.subplots()\n",
        "\n",
        "# Create the boxplot with color customization\n",
        "bp = ax.boxplot(data, patch_artist=True)  # patch_artist must be True to fill with color\n",
        "\n",
        "# Coloring each box\n",
        "for patch, color in zip(bp['boxes'], colors):\n",
        "    patch.set_facecolor(color)\n",
        "\n",
        "# Set the x-tick labels\n",
        "ax.set_xticklabels(['O', 'II', 'INW'])\n",
        "\n",
        "# Adding labels and title\n",
        "\n",
        "plt.ylabel('Max of RSSI(dBm)')\n",
        "plt.grid('true')\n",
        "\n",
        "plt.xlabel('Location type')\n",
        "# Show the plot\n",
        "plt.show()"
      ],
      "metadata": {
        "colab": {
          "base_uri": "https://localhost:8080/",
          "height": 449
        },
        "id": "NcKNM-UMitZ6",
        "outputId": "36c126fc-fc1f-4083-8928-fd451504c9b5"
      },
      "execution_count": null,
      "outputs": [
        {
          "output_type": "display_data",
          "data": {
            "text/plain": [
              "<Figure size 640x480 with 1 Axes>"
            ],
            "image/png": "[encoded data removed]"
          },
          "metadata": {}
        }
      ]
    },
    {
      "cell_type": "code",
      "source": [
        "Out_min_lte_f1 = df_o['lte_min_rsrp_f1']\n",
        "II_min_lte_f1 = df_ii['lte_min_rsrp_f1']\n",
        "INW_min_lte_f1 = df_inw['lte_min_rsrp_f1']\n",
        "\n",
        "Out_min_lte_f2 = df_o['lte_min_rsrp_f2']  # Corrected to f2 for consistency\n",
        "II_min_lte_f2 = df_ii['lte_min_rsrp_f2']\n",
        "INW_min_lte_f2 = df_inw['lte_min_rsrp_f2']"
      ],
      "metadata": {
        "id": "PRI2hxRKi-L7"
      },
      "execution_count": null,
      "outputs": []
    },
    {
      "cell_type": "code",
      "source": [
        "# Combine the data into a list\n",
        "data = [Out_min_lte_f1, II_min_lte_f1, INW_min_lte_f1]\n",
        "\n",
        "# Colors for the boxplots\n",
        "colors = ['red', 'blue', 'green']\n",
        "\n",
        "# Create a figure and a set of subplots\n",
        "fig, ax = plt.subplots()\n",
        "\n",
        "# Create the boxplot with color customization\n",
        "bp = ax.boxplot(data, patch_artist=True)  # patch_artist must be True to fill with color\n",
        "\n",
        "# Coloring each box\n",
        "for patch, color in zip(bp['boxes'], colors):\n",
        "    patch.set_facecolor(color)\n",
        "\n",
        "# Set the x-tick labels\n",
        "ax.set_xticklabels(['O', 'II', 'INW'])\n",
        "\n",
        "# Adding labels and title\n",
        "\n",
        "plt.ylabel('Min of RSSI(dBm)')\n",
        "plt.grid('true')\n",
        "\n",
        "plt.xlabel('Location type')\n",
        "# Show the plot\n",
        "plt.show()"
      ],
      "metadata": {
        "colab": {
          "base_uri": "https://localhost:8080/",
          "height": 449
        },
        "id": "KzLnnvX4jbe3",
        "outputId": "952130de-858e-40c7-9bb4-ef4a07fc2cc8"
      },
      "execution_count": null,
      "outputs": [
        {
          "output_type": "display_data",
          "data": {
            "text/plain": [
              "<Figure size 640x480 with 1 Axes>"
            ],
            "image/png": "[encoded data removed]"
          },
          "metadata": {}
        }
      ]
    },
    {
      "cell_type": "code",
      "source": [
        "# Filter out non-negative values for LTE average RSRP for f1\n",
        "Out_avg_lte_f1 = df_o[df_o['lte_avg_rsrp_f1'] < 0]['lte_avg_rsrp_f1']\n",
        "II_avg_lte_f1 = df_ii[df_ii['lte_avg_rsrp_f1'] < 0]['lte_avg_rsrp_f1']\n",
        "INW_avg_lte_f1 = df_inw[df_inw['lte_avg_rsrp_f1'] < 0]['lte_avg_rsrp_f1']\n",
        "\n",
        "# Filter out non-negative values for LTE average RSRP for f2\n",
        "Out_avg_lte_f2 = df_o[df_o['lte_avg_rsrp_f2'] < 0]['lte_avg_rsrp_f2']\n",
        "II_avg_lte_f2 = df_ii[df_ii['lte_avg_rsrp_f2'] < 0]['lte_avg_rsrp_f2']\n",
        "INW_avg_lte_f2 = df_inw[df_inw['lte_avg_rsrp_f2'] < 0]['lte_avg_rsrp_f2']"
      ],
      "metadata": {
        "id": "Vcjel_JBjk1y"
      },
      "execution_count": null,
      "outputs": []
    },
    {
      "cell_type": "code",
      "source": [
        "# Combine the data into a list\n",
        "data = [Out_avg_lte_f1, II_avg_lte_f1, INW_avg_lte_f1]\n",
        "\n",
        "# Colors for the boxplots\n",
        "colors = ['red', 'blue', 'green']\n",
        "\n",
        "# Create a figure and a set of subplots\n",
        "fig, ax = plt.subplots()\n",
        "\n",
        "# Create the boxplot with color customization\n",
        "bp = ax.boxplot(data, patch_artist=True)  # patch_artist must be True to fill with color\n",
        "\n",
        "# Coloring each box\n",
        "for patch, color in zip(bp['boxes'], colors):\n",
        "    patch.set_facecolor(color)\n",
        "\n",
        "# Set the x-tick labels\n",
        "ax.set_xticklabels(['O', 'II', 'INW'])\n",
        "\n",
        "# Adding labels and title\n",
        "\n",
        "plt.ylabel('Avg. of RSRP(dBm)')\n",
        "plt.grid('true')\n",
        "plt.xlabel('Location type')\n",
        "\n",
        "# Show the plot\n",
        "plt.show()"
      ],
      "metadata": {
        "colab": {
          "base_uri": "https://localhost:8080/",
          "height": 449
        },
        "id": "7RdXMH5OjyIC",
        "outputId": "93d14796-9aea-431d-8b6f-0eaa12461d23"
      },
      "execution_count": null,
      "outputs": [
        {
          "output_type": "display_data",
          "data": {
            "text/plain": [
              "<Figure size 640x480 with 1 Axes>"
            ],
            "image/png": "[encoded data removed]"
          },
          "metadata": {}
        }
      ]
    },
    {
      "cell_type": "code",
      "source": [
        "# Filter out non-negative values for NR average RSRP for f1\n",
        "Out_avg_nr_f1 = df_o[df_o['nr_avg_rsrp_f1'] < 0]['nr_avg_rsrp_f1']\n",
        "II_avg_nr_f1 = df_ii[df_ii['nr_avg_rsrp_f1'] < 0]['nr_avg_rsrp_f1']\n",
        "INW_avg_nr_f1 = df_inw[df_inw['nr_avg_rsrp_f1'] < 0]['nr_avg_rsrp_f1']\n",
        "\n",
        "# Filter out non-negative values for NR average RSRP for f2\n",
        "Out_avg_nr_f2 = df_o[df_o['nr_avg_rsrp_f2'] < 0]['nr_avg_rsrp_f2']\n",
        "II_avg_nr_f2 = df_ii[df_ii['nr_avg_rsrp_f2'] < 0]['nr_avg_rsrp_f2']\n",
        "INW_avg_nr_f2 = df_inw[df_inw['nr_avg_rsrp_f2'] < 0]['nr_avg_rsrp_f2']"
      ],
      "metadata": {
        "id": "XaXFeRE_j4y6"
      },
      "execution_count": null,
      "outputs": []
    },
    {
      "cell_type": "code",
      "source": [
        "# Combine the data into a list\n",
        "data = [Out_avg_nr_f1, II_avg_nr_f1, INW_avg_nr_f1]\n",
        "\n",
        "# Colors for the boxplots\n",
        "colors = ['red', 'blue', 'green']\n",
        "\n",
        "# Create a figure and a set of subplots\n",
        "fig, ax = plt.subplots()\n",
        "\n",
        "# Create the boxplot with color customization\n",
        "bp = ax.boxplot(data, patch_artist=True)  # patch_artist must be True to fill with color\n",
        "\n",
        "# Coloring each box\n",
        "for patch, color in zip(bp['boxes'], colors):\n",
        "    patch.set_facecolor(color)\n",
        "\n",
        "# Set the x-tick labels\n",
        "ax.set_xticklabels(['O', 'II', 'INW'])\n",
        "\n",
        "# Adding labels and title\n",
        "\n",
        "plt.ylabel('Avg. of RSRP(dBm)')\n",
        "plt.grid('true')\n",
        "\n",
        "\n",
        "# Show the plot\n",
        "plt.show()"
      ],
      "metadata": {
        "colab": {
          "base_uri": "https://localhost:8080/",
          "height": 430
        },
        "id": "g4wpJyvclVci",
        "outputId": "456637c9-b61a-4b14-8487-e5965d2022b3"
      },
      "execution_count": null,
      "outputs": [
        {
          "output_type": "display_data",
          "data": {
            "text/plain": [
              "<Figure size 640x480 with 1 Axes>"
            ],
            "image/png": "[encoded data removed]"
          },
          "metadata": {}
        }
      ]
    },
    {
      "cell_type": "code",
      "source": [
        "# Combine the data into a list\n",
        "data = [Out_avg_lte_f2, II_avg_lte_f2, INW_avg_lte_f2]\n",
        "\n",
        "# Colors for the boxplots\n",
        "colors = ['red', 'blue', 'green']\n",
        "\n",
        "# Create a figure and a set of subplots\n",
        "fig, ax = plt.subplots()\n",
        "\n",
        "# Create the boxplot with color customization\n",
        "bp = ax.boxplot(data, patch_artist=True)  # patch_artist must be True to fill with color\n",
        "\n",
        "# Coloring each box\n",
        "for patch, color in zip(bp['boxes'], colors):\n",
        "    patch.set_facecolor(color)\n",
        "\n",
        "# Set the x-tick labels\n",
        "ax.set_xticklabels(['O', 'II', 'INW'])\n",
        "\n",
        "# Adding labels and title\n",
        "\n",
        "plt.ylabel('Avg. of RSRP(dBm)')\n",
        "plt.grid('true')\n",
        "plt.xlabel('Location type')\n",
        "\n",
        "# Show the plot\n",
        "plt.show()"
      ],
      "metadata": {
        "colab": {
          "base_uri": "https://localhost:8080/",
          "height": 449
        },
        "id": "DS93CP7xlar1",
        "outputId": "6295115d-4965-4e80-a4a4-73a14dc685fb"
      },
      "execution_count": null,
      "outputs": [
        {
          "output_type": "display_data",
          "data": {
            "text/plain": [
              "<Figure size 640x480 with 1 Axes>"
            ],
            "image/png": "[encoded data removed]"
          },
          "metadata": {}
        }
      ]
    },
    {
      "cell_type": "code",
      "source": [
        "# Combine the data into a list\n",
        "data = [Out_avg_nr_f2, II_avg_nr_f2, INW_avg_nr_f2]\n",
        "\n",
        "# Colors for the boxplots\n",
        "colors = ['red', 'blue', 'green']\n",
        "\n",
        "# Create a figure and a set of subplots\n",
        "fig, ax = plt.subplots()\n",
        "\n",
        "# Create the boxplot with color customization\n",
        "bp = ax.boxplot(data, patch_artist=True)  # patch_artist must be True to fill with color\n",
        "\n",
        "# Coloring each box\n",
        "for patch, color in zip(bp['boxes'], colors):\n",
        "    patch.set_facecolor(color)\n",
        "\n",
        "# Set the x-tick labels\n",
        "ax.set_xticklabels(['O', 'II', 'INW'])\n",
        "\n",
        "# Adding labels and title\n",
        "\n",
        "plt.ylabel('Avg. of RSRP(dBm)')\n",
        "plt.grid('true')\n",
        "\n",
        "\n",
        "# Show the plot\n",
        "plt.show()"
      ],
      "metadata": {
        "colab": {
          "base_uri": "https://localhost:8080/",
          "height": 430
        },
        "id": "S-cLx6TblwVW",
        "outputId": "63edd2fd-7af5-4863-b5f4-f684f5c995c2"
      },
      "execution_count": null,
      "outputs": [
        {
          "output_type": "display_data",
          "data": {
            "text/plain": [
              "<Figure size 640x480 with 1 Axes>"
            ],
            "image/png": "[encoded data removed]"
          },
          "metadata": {}
        }
      ]
    },
    {
      "cell_type": "code",
      "source": [
        "np.unique(df_ii.nr_max_rssi_f2)"
      ],
      "metadata": {
        "colab": {
          "base_uri": "https://localhost:8080/"
        },
        "id": "CqjVeFR4l51N",
        "outputId": "14a2d6ee-3a02-4419-a578-88c4085645dc"
      },
      "execution_count": null,
      "outputs": [
        {
          "output_type": "execute_result",
          "data": {
            "text/plain": [
              "array([0])"
            ]
          },
          "metadata": {},
          "execution_count": 43
        }
      ]
    },
    {
      "cell_type": "code",
      "source": [],
      "metadata": {
        "id": "KjGsw56rna0y"
      },
      "execution_count": null,
      "outputs": []
    }
  ]
}